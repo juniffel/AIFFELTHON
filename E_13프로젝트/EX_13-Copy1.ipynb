{
 "cells": [
  {
   "cell_type": "markdown",
   "id": "e5c398ea",
   "metadata": {},
   "source": [
    "## 실습 목표\n",
    "- 추천 시스템의 개념과 목적을 이해한다.\n",
    "- Implicit 라이브러리를 활용하여 Matrix Factorization(이하 MF) 기반의 추천 모델을 만들어 본다.\n",
    "- 음악 감상 기록을 활용하여 비슷한 아티스트를 찾고 아티스트를 추천해 본다.\n",
    "- 추천 시스템에서 자주 사용되는 데이터 구조인 CSR Matrix을 익힌다\n",
    "- 유저의 행위 데이터 중 Explicit data와 Implicit data의 차이점을 익힌다.\n",
    "- 새로운 데이터셋으로 직접 추천 모델을 만들어 본다.\n",
    "\n",
    "## 목차\n",
    "- 추천 시스템이란 게 뭔가요?\n",
    "- 데이터 탐색하기와 전처리\n",
    "- 사용자의 명시적/암묵적 평가\n",
    "- Matrix Factorization(MF)\n",
    "- CSR(Compressed Sparse Row) Matrix\n",
    "- MF 모델 학습하기\n",
    "- 비슷한 아티스트 찾기 + 유저에게 추천하기\n",
    "- 프로젝트 - MovieLens 영화 추천 실습\n",
    "\n",
    "## 협업 필터링\n",
    "- 다수의 사용자의 아이템 구매 이력 정보만으로 사용자간 유사성 및 아이템 간 유사성을 파악\n",
    "\n",
    "-  협업 필터링에서는 아이템과 사용자 간의 행동 또는 관계에만 주목할 뿐 아이템 자체의 고유한 속성에 주목하지 않습니다.\n",
    "\n",
    "## 콘텐츠 기반 필터링\n",
    "- 아이템의 고유의 정보를 바탕으로 아이템 간 유사성을 파악합니다.\n",
    "\n",
    "- 콘텐츠 기반 필터링에서는 아이템 자체의 속성에만 주목하고 사용자와 아이템 간의 관련성 에는 주목하지 않습니다.\n",
    "\n",
    "## 협업 필터링을 바로 사용할 수 없게 만드는 세가지 제약 조건\n",
    "\n",
    "1. 시스템이 충분한 정보를 모으지 못한 사용자나 아이템에 대한 추론을 할 수 없는 상태인 콜드 스타트(Cold Start) 상황\n",
    "\n",
    "2. 계산량이 너무 많아 추천의 효율이 떨어지는 상황\n",
    "\n",
    "3. 롱테일의 꼬리 부분, 즉 사용자의 관심이 저조한 항목의 정보가 부족하여 추천에서 배제되는 상황\n",
    "\n",
    "\n",
    "## 추천 시스템은 \n",
    "이처럼 아이템은 매우 많고 유저의 취향은 다양할 때 유저가 소비할 만한 아이템을 예측하는 모델입니다."
   ]
  },
  {
   "cell_type": "markdown",
   "id": "624bd5bb",
   "metadata": {},
   "source": [
    "# 프로젝트 - Movielens 영화 추천 실습\n",
    "- 이전 스텝에서 배운 MF 모델 학습 방법을 토대로, 내가 좋아할 만한 영화 추천 시스템을 제작해 보겠습니다.\n",
    "\n",
    "- 이번에 활용할 데이터셋은 추천 시스템의 MNIST라고 부를만한 Movielens 데이터입니다.\n",
    "\n",
    "- 유저가 영화에 대해 평점을 매긴 데이터가 데이터 크기 별로 있습니다. MovieLens 1M Dataset 사용을 권장합니다.\n",
    "- 별점 데이터는 대표적인 explicit 데이터입니다. 하지만 implicit 데이터로 간주하고 테스트해 볼 수 있습니다.\n",
    "- 별점을 시청횟수로 해석해서 생각하겠습니다.\n",
    "- 또한 유저가 3점 미만으로 준 데이터는 선호하지 않는다고 가정하고 제외하겠습니다."
   ]
  },
  {
   "cell_type": "markdown",
   "id": "831f2361",
   "metadata": {},
   "source": [
    "## 데이터 준비\n"
   ]
  },
  {
   "cell_type": "code",
   "execution_count": 1,
   "id": "f921f63a",
   "metadata": {},
   "outputs": [
    {
     "data": {
      "text/html": [
       "<div>\n",
       "<style scoped>\n",
       "    .dataframe tbody tr th:only-of-type {\n",
       "        vertical-align: middle;\n",
       "    }\n",
       "\n",
       "    .dataframe tbody tr th {\n",
       "        vertical-align: top;\n",
       "    }\n",
       "\n",
       "    .dataframe thead th {\n",
       "        text-align: right;\n",
       "    }\n",
       "</style>\n",
       "<table border=\"1\" class=\"dataframe\">\n",
       "  <thead>\n",
       "    <tr style=\"text-align: right;\">\n",
       "      <th></th>\n",
       "      <th>user_id</th>\n",
       "      <th>movie_id</th>\n",
       "      <th>ratings</th>\n",
       "    </tr>\n",
       "  </thead>\n",
       "  <tbody>\n",
       "    <tr>\n",
       "      <th>0</th>\n",
       "      <td>1</td>\n",
       "      <td>1193</td>\n",
       "      <td>5</td>\n",
       "    </tr>\n",
       "    <tr>\n",
       "      <th>1</th>\n",
       "      <td>1</td>\n",
       "      <td>661</td>\n",
       "      <td>3</td>\n",
       "    </tr>\n",
       "    <tr>\n",
       "      <th>2</th>\n",
       "      <td>1</td>\n",
       "      <td>914</td>\n",
       "      <td>3</td>\n",
       "    </tr>\n",
       "    <tr>\n",
       "      <th>3</th>\n",
       "      <td>1</td>\n",
       "      <td>3408</td>\n",
       "      <td>4</td>\n",
       "    </tr>\n",
       "    <tr>\n",
       "      <th>4</th>\n",
       "      <td>1</td>\n",
       "      <td>2355</td>\n",
       "      <td>5</td>\n",
       "    </tr>\n",
       "    <tr>\n",
       "      <th>...</th>\n",
       "      <td>...</td>\n",
       "      <td>...</td>\n",
       "      <td>...</td>\n",
       "    </tr>\n",
       "    <tr>\n",
       "      <th>1000204</th>\n",
       "      <td>6040</td>\n",
       "      <td>1091</td>\n",
       "      <td>1</td>\n",
       "    </tr>\n",
       "    <tr>\n",
       "      <th>1000205</th>\n",
       "      <td>6040</td>\n",
       "      <td>1094</td>\n",
       "      <td>5</td>\n",
       "    </tr>\n",
       "    <tr>\n",
       "      <th>1000206</th>\n",
       "      <td>6040</td>\n",
       "      <td>562</td>\n",
       "      <td>5</td>\n",
       "    </tr>\n",
       "    <tr>\n",
       "      <th>1000207</th>\n",
       "      <td>6040</td>\n",
       "      <td>1096</td>\n",
       "      <td>4</td>\n",
       "    </tr>\n",
       "    <tr>\n",
       "      <th>1000208</th>\n",
       "      <td>6040</td>\n",
       "      <td>1097</td>\n",
       "      <td>4</td>\n",
       "    </tr>\n",
       "  </tbody>\n",
       "</table>\n",
       "<p>1000209 rows × 3 columns</p>\n",
       "</div>"
      ],
      "text/plain": [
       "         user_id  movie_id  ratings\n",
       "0              1      1193        5\n",
       "1              1       661        3\n",
       "2              1       914        3\n",
       "3              1      3408        4\n",
       "4              1      2355        5\n",
       "...          ...       ...      ...\n",
       "1000204     6040      1091        1\n",
       "1000205     6040      1094        5\n",
       "1000206     6040       562        5\n",
       "1000207     6040      1096        4\n",
       "1000208     6040      1097        4\n",
       "\n",
       "[1000209 rows x 3 columns]"
      ]
     },
     "execution_count": 1,
     "metadata": {},
     "output_type": "execute_result"
    }
   ],
   "source": [
    "import pandas as pd\n",
    "import os\n",
    "rating_file_path=os.getenv('HOME') + '/aiffel/recommendata_iu/data/ml-1m/ratings.dat'\n",
    "ratings_cols = ['user_id', 'movie_id', 'ratings', 'timestamp']\n",
    "data = pd.read_csv(rating_file_path, sep='::', names=ratings_cols, engine='python', encoding = \"ISO-8859-1\")\n",
    "orginal_data_size = len(data)\n",
    "data.drop(['timestamp'], axis = 1, inplace = True)\n",
    "data"
   ]
  },
  {
   "cell_type": "code",
   "execution_count": 2,
   "id": "107ff13b",
   "metadata": {},
   "outputs": [
    {
     "name": "stdout",
     "output_type": "stream",
     "text": [
      "orginal_data_size: 1000209, filtered_data_size: 836478\n",
      "Ratio of Remaining Data is 83.63%\n"
     ]
    }
   ],
   "source": [
    "# 3점 이상만 남깁니다.\n",
    "data = data[data['ratings']>=3]\n",
    "filtered_data_size = len(data)\n",
    "\n",
    "print(f'orginal_data_size: {orginal_data_size}, filtered_data_size: {filtered_data_size}')\n",
    "print(f'Ratio of Remaining Data is {filtered_data_size / orginal_data_size:.2%}')"
   ]
  },
  {
   "cell_type": "code",
   "execution_count": 3,
   "id": "86b91bf6",
   "metadata": {},
   "outputs": [
    {
     "name": "stderr",
     "output_type": "stream",
     "text": [
      "/opt/conda/lib/python3.9/site-packages/pandas/core/frame.py:5039: SettingWithCopyWarning: \n",
      "A value is trying to be set on a copy of a slice from a DataFrame\n",
      "\n",
      "See the caveats in the documentation: https://pandas.pydata.org/pandas-docs/stable/user_guide/indexing.html#returning-a-view-versus-a-copy\n",
      "  return super().rename(\n"
     ]
    }
   ],
   "source": [
    "# ratings 컬럼의 이름을 counts로 바꿉니다.\n",
    "data.rename(columns={'ratings':'counts'}, inplace=True)"
   ]
  },
  {
   "cell_type": "markdown",
   "id": "630453f1",
   "metadata": {},
   "source": [
    "## 데이터 전처리\n"
   ]
  },
  {
   "cell_type": "code",
   "execution_count": 4,
   "id": "56158f1c",
   "metadata": {
    "scrolled": true
   },
   "outputs": [
    {
     "data": {
      "text/html": [
       "<div>\n",
       "<style scoped>\n",
       "    .dataframe tbody tr th:only-of-type {\n",
       "        vertical-align: middle;\n",
       "    }\n",
       "\n",
       "    .dataframe tbody tr th {\n",
       "        vertical-align: top;\n",
       "    }\n",
       "\n",
       "    .dataframe thead th {\n",
       "        text-align: right;\n",
       "    }\n",
       "</style>\n",
       "<table border=\"1\" class=\"dataframe\">\n",
       "  <thead>\n",
       "    <tr style=\"text-align: right;\">\n",
       "      <th></th>\n",
       "      <th>movie_id</th>\n",
       "      <th>title</th>\n",
       "    </tr>\n",
       "  </thead>\n",
       "  <tbody>\n",
       "    <tr>\n",
       "      <th>0</th>\n",
       "      <td>1</td>\n",
       "      <td>Toy Story (1995)</td>\n",
       "    </tr>\n",
       "    <tr>\n",
       "      <th>1</th>\n",
       "      <td>2</td>\n",
       "      <td>Jumanji (1995)</td>\n",
       "    </tr>\n",
       "    <tr>\n",
       "      <th>2</th>\n",
       "      <td>3</td>\n",
       "      <td>Grumpier Old Men (1995)</td>\n",
       "    </tr>\n",
       "    <tr>\n",
       "      <th>3</th>\n",
       "      <td>4</td>\n",
       "      <td>Waiting to Exhale (1995)</td>\n",
       "    </tr>\n",
       "    <tr>\n",
       "      <th>4</th>\n",
       "      <td>5</td>\n",
       "      <td>Father of the Bride Part II (1995)</td>\n",
       "    </tr>\n",
       "    <tr>\n",
       "      <th>...</th>\n",
       "      <td>...</td>\n",
       "      <td>...</td>\n",
       "    </tr>\n",
       "    <tr>\n",
       "      <th>3878</th>\n",
       "      <td>3948</td>\n",
       "      <td>Meet the Parents (2000)</td>\n",
       "    </tr>\n",
       "    <tr>\n",
       "      <th>3879</th>\n",
       "      <td>3949</td>\n",
       "      <td>Requiem for a Dream (2000)</td>\n",
       "    </tr>\n",
       "    <tr>\n",
       "      <th>3880</th>\n",
       "      <td>3950</td>\n",
       "      <td>Tigerland (2000)</td>\n",
       "    </tr>\n",
       "    <tr>\n",
       "      <th>3881</th>\n",
       "      <td>3951</td>\n",
       "      <td>Two Family House (2000)</td>\n",
       "    </tr>\n",
       "    <tr>\n",
       "      <th>3882</th>\n",
       "      <td>3952</td>\n",
       "      <td>Contender, The (2000)</td>\n",
       "    </tr>\n",
       "  </tbody>\n",
       "</table>\n",
       "<p>3883 rows × 2 columns</p>\n",
       "</div>"
      ],
      "text/plain": [
       "      movie_id                               title\n",
       "0            1                    Toy Story (1995)\n",
       "1            2                      Jumanji (1995)\n",
       "2            3             Grumpier Old Men (1995)\n",
       "3            4            Waiting to Exhale (1995)\n",
       "4            5  Father of the Bride Part II (1995)\n",
       "...        ...                                 ...\n",
       "3878      3948             Meet the Parents (2000)\n",
       "3879      3949          Requiem for a Dream (2000)\n",
       "3880      3950                    Tigerland (2000)\n",
       "3881      3951             Two Family House (2000)\n",
       "3882      3952               Contender, The (2000)\n",
       "\n",
       "[3883 rows x 2 columns]"
      ]
     },
     "execution_count": 4,
     "metadata": {},
     "output_type": "execute_result"
    }
   ],
   "source": [
    "# 영화 제목을 보기 위해 메타 데이터를 읽어옵니다.\n",
    "movie_file_path=os.getenv('HOME') + '/aiffel/recommendata_iu/data/ml-1m/movies.dat'\n",
    "cols = ['movie_id', 'title', 'genre'] \n",
    "movies = pd.read_csv(movie_file_path, sep='::', names=cols, engine='python', encoding='ISO-8859-1')\n",
    "\n",
    "movies.drop(['genre'], axis = 1, inplace = True)\n",
    "movies"
   ]
  },
  {
   "cell_type": "markdown",
   "id": "f21f54f3",
   "metadata": {},
   "source": [
    "## "
   ]
  },
  {
   "cell_type": "code",
   "execution_count": 5,
   "id": "844c3088",
   "metadata": {},
   "outputs": [
    {
     "data": {
      "text/html": [
       "<div>\n",
       "<style scoped>\n",
       "    .dataframe tbody tr th:only-of-type {\n",
       "        vertical-align: middle;\n",
       "    }\n",
       "\n",
       "    .dataframe tbody tr th {\n",
       "        vertical-align: top;\n",
       "    }\n",
       "\n",
       "    .dataframe thead th {\n",
       "        text-align: right;\n",
       "    }\n",
       "</style>\n",
       "<table border=\"1\" class=\"dataframe\">\n",
       "  <thead>\n",
       "    <tr style=\"text-align: right;\">\n",
       "      <th></th>\n",
       "      <th>user_id</th>\n",
       "      <th>movie_id</th>\n",
       "      <th>counts</th>\n",
       "      <th>title</th>\n",
       "    </tr>\n",
       "  </thead>\n",
       "  <tbody>\n",
       "    <tr>\n",
       "      <th>0</th>\n",
       "      <td>1</td>\n",
       "      <td>1193</td>\n",
       "      <td>5</td>\n",
       "      <td>One Flew Over the Cuckoo's Nest (1975)</td>\n",
       "    </tr>\n",
       "    <tr>\n",
       "      <th>1</th>\n",
       "      <td>1</td>\n",
       "      <td>661</td>\n",
       "      <td>3</td>\n",
       "      <td>James and the Giant Peach (1996)</td>\n",
       "    </tr>\n",
       "    <tr>\n",
       "      <th>2</th>\n",
       "      <td>1</td>\n",
       "      <td>914</td>\n",
       "      <td>3</td>\n",
       "      <td>My Fair Lady (1964)</td>\n",
       "    </tr>\n",
       "    <tr>\n",
       "      <th>3</th>\n",
       "      <td>1</td>\n",
       "      <td>3408</td>\n",
       "      <td>4</td>\n",
       "      <td>Erin Brockovich (2000)</td>\n",
       "    </tr>\n",
       "    <tr>\n",
       "      <th>4</th>\n",
       "      <td>1</td>\n",
       "      <td>2355</td>\n",
       "      <td>5</td>\n",
       "      <td>Bug's Life, A (1998)</td>\n",
       "    </tr>\n",
       "    <tr>\n",
       "      <th>...</th>\n",
       "      <td>...</td>\n",
       "      <td>...</td>\n",
       "      <td>...</td>\n",
       "      <td>...</td>\n",
       "    </tr>\n",
       "    <tr>\n",
       "      <th>1000203</th>\n",
       "      <td>6040</td>\n",
       "      <td>1090</td>\n",
       "      <td>3</td>\n",
       "      <td>Platoon (1986)</td>\n",
       "    </tr>\n",
       "    <tr>\n",
       "      <th>1000205</th>\n",
       "      <td>6040</td>\n",
       "      <td>1094</td>\n",
       "      <td>5</td>\n",
       "      <td>Crying Game, The (1992)</td>\n",
       "    </tr>\n",
       "    <tr>\n",
       "      <th>1000206</th>\n",
       "      <td>6040</td>\n",
       "      <td>562</td>\n",
       "      <td>5</td>\n",
       "      <td>Welcome to the Dollhouse (1995)</td>\n",
       "    </tr>\n",
       "    <tr>\n",
       "      <th>1000207</th>\n",
       "      <td>6040</td>\n",
       "      <td>1096</td>\n",
       "      <td>4</td>\n",
       "      <td>Sophie's Choice (1982)</td>\n",
       "    </tr>\n",
       "    <tr>\n",
       "      <th>1000208</th>\n",
       "      <td>6040</td>\n",
       "      <td>1097</td>\n",
       "      <td>4</td>\n",
       "      <td>E.T. the Extra-Terrestrial (1982)</td>\n",
       "    </tr>\n",
       "  </tbody>\n",
       "</table>\n",
       "<p>836478 rows × 4 columns</p>\n",
       "</div>"
      ],
      "text/plain": [
       "         user_id  movie_id  counts                                   title\n",
       "0              1      1193       5  One Flew Over the Cuckoo's Nest (1975)\n",
       "1              1       661       3        James and the Giant Peach (1996)\n",
       "2              1       914       3                     My Fair Lady (1964)\n",
       "3              1      3408       4                  Erin Brockovich (2000)\n",
       "4              1      2355       5                    Bug's Life, A (1998)\n",
       "...          ...       ...     ...                                     ...\n",
       "1000203     6040      1090       3                          Platoon (1986)\n",
       "1000205     6040      1094       5                 Crying Game, The (1992)\n",
       "1000206     6040       562       5         Welcome to the Dollhouse (1995)\n",
       "1000207     6040      1096       4                  Sophie's Choice (1982)\n",
       "1000208     6040      1097       4       E.T. the Extra-Terrestrial (1982)\n",
       "\n",
       "[836478 rows x 4 columns]"
      ]
     },
     "execution_count": 5,
     "metadata": {},
     "output_type": "execute_result"
    }
   ],
   "source": [
    "data = data.join(movies.set_index('movie_id'), on='movie_id')\n",
    "data"
   ]
  },
  {
   "cell_type": "code",
   "execution_count": 6,
   "id": "ebf22fb3",
   "metadata": {},
   "outputs": [
    {
     "data": {
      "text/plain": [
       "6039"
      ]
     },
     "execution_count": 6,
     "metadata": {},
     "output_type": "execute_result"
    }
   ],
   "source": [
    "# 유저 수\n",
    "data['user_id'].nunique()"
   ]
  },
  {
   "cell_type": "code",
   "execution_count": 7,
   "id": "f3e53f79",
   "metadata": {},
   "outputs": [
    {
     "data": {
      "text/plain": [
       "3628"
      ]
     },
     "execution_count": 7,
     "metadata": {},
     "output_type": "execute_result"
    }
   ],
   "source": [
    "# 영화 수\n",
    "data['title'].nunique()"
   ]
  },
  {
   "cell_type": "code",
   "execution_count": 8,
   "id": "2f0c57a0",
   "metadata": {},
   "outputs": [
    {
     "data": {
      "text/plain": [
       "title\n",
       "American Beauty (1999)                                   3211\n",
       "Star Wars: Episode IV - A New Hope (1977)                2910\n",
       "Star Wars: Episode V - The Empire Strikes Back (1980)    2885\n",
       "Star Wars: Episode VI - Return of the Jedi (1983)        2716\n",
       "Saving Private Ryan (1998)                               2561\n",
       "Terminator 2: Judgment Day (1991)                        2509\n",
       "Silence of the Lambs, The (1991)                         2498\n",
       "Raiders of the Lost Ark (1981)                           2473\n",
       "Back to the Future (1985)                                2460\n",
       "Matrix, The (1999)                                       2434\n",
       "Name: user_id, dtype: int64"
      ]
     },
     "execution_count": 8,
     "metadata": {},
     "output_type": "execute_result"
    }
   ],
   "source": [
    "# 인기 많은 영화\n",
    "movies_count = data.groupby('title')['user_id'].count()\n",
    "movies_count.sort_values(ascending=False).head(10)"
   ]
  },
  {
   "cell_type": "code",
   "execution_count": 9,
   "id": "b6013633",
   "metadata": {},
   "outputs": [
    {
     "data": {
      "text/html": [
       "<div>\n",
       "<style scoped>\n",
       "    .dataframe tbody tr th:only-of-type {\n",
       "        vertical-align: middle;\n",
       "    }\n",
       "\n",
       "    .dataframe tbody tr th {\n",
       "        vertical-align: top;\n",
       "    }\n",
       "\n",
       "    .dataframe thead th {\n",
       "        text-align: right;\n",
       "    }\n",
       "</style>\n",
       "<table border=\"1\" class=\"dataframe\">\n",
       "  <thead>\n",
       "    <tr style=\"text-align: right;\">\n",
       "      <th></th>\n",
       "      <th>user_id</th>\n",
       "      <th>movie_id</th>\n",
       "      <th>counts</th>\n",
       "      <th>title</th>\n",
       "    </tr>\n",
       "  </thead>\n",
       "  <tbody>\n",
       "    <tr>\n",
       "      <th>1000203</th>\n",
       "      <td>6040</td>\n",
       "      <td>1090</td>\n",
       "      <td>3</td>\n",
       "      <td>Platoon (1986)</td>\n",
       "    </tr>\n",
       "    <tr>\n",
       "      <th>1000205</th>\n",
       "      <td>6040</td>\n",
       "      <td>1094</td>\n",
       "      <td>5</td>\n",
       "      <td>Crying Game, The (1992)</td>\n",
       "    </tr>\n",
       "    <tr>\n",
       "      <th>1000206</th>\n",
       "      <td>6040</td>\n",
       "      <td>562</td>\n",
       "      <td>5</td>\n",
       "      <td>Welcome to the Dollhouse (1995)</td>\n",
       "    </tr>\n",
       "    <tr>\n",
       "      <th>1000207</th>\n",
       "      <td>6040</td>\n",
       "      <td>1096</td>\n",
       "      <td>4</td>\n",
       "      <td>Sophie's Choice (1982)</td>\n",
       "    </tr>\n",
       "    <tr>\n",
       "      <th>1000208</th>\n",
       "      <td>6040</td>\n",
       "      <td>1097</td>\n",
       "      <td>4</td>\n",
       "      <td>E.T. the Extra-Terrestrial (1982)</td>\n",
       "    </tr>\n",
       "    <tr>\n",
       "      <th>0</th>\n",
       "      <td>joon</td>\n",
       "      <td>3211</td>\n",
       "      <td>5</td>\n",
       "      <td>American Beauty (1999)</td>\n",
       "    </tr>\n",
       "    <tr>\n",
       "      <th>1</th>\n",
       "      <td>joon</td>\n",
       "      <td>2910</td>\n",
       "      <td>5</td>\n",
       "      <td>Star Wars: Episode IV - A New Hope (1977)</td>\n",
       "    </tr>\n",
       "    <tr>\n",
       "      <th>2</th>\n",
       "      <td>joon</td>\n",
       "      <td>2885</td>\n",
       "      <td>5</td>\n",
       "      <td>Star Wars: Episode V - The Empire Strikes Back...</td>\n",
       "    </tr>\n",
       "    <tr>\n",
       "      <th>3</th>\n",
       "      <td>joon</td>\n",
       "      <td>2716</td>\n",
       "      <td>5</td>\n",
       "      <td>Star Wars: Episode VI - Return of the Jedi (1983)</td>\n",
       "    </tr>\n",
       "    <tr>\n",
       "      <th>4</th>\n",
       "      <td>joon</td>\n",
       "      <td>2561</td>\n",
       "      <td>5</td>\n",
       "      <td>Saving Private Ryan (1998)</td>\n",
       "    </tr>\n",
       "  </tbody>\n",
       "</table>\n",
       "</div>"
      ],
      "text/plain": [
       "        user_id  movie_id  counts  \\\n",
       "1000203    6040      1090       3   \n",
       "1000205    6040      1094       5   \n",
       "1000206    6040       562       5   \n",
       "1000207    6040      1096       4   \n",
       "1000208    6040      1097       4   \n",
       "0          joon      3211       5   \n",
       "1          joon      2910       5   \n",
       "2          joon      2885       5   \n",
       "3          joon      2716       5   \n",
       "4          joon      2561       5   \n",
       "\n",
       "                                                     title  \n",
       "1000203                                     Platoon (1986)  \n",
       "1000205                            Crying Game, The (1992)  \n",
       "1000206                    Welcome to the Dollhouse (1995)  \n",
       "1000207                             Sophie's Choice (1982)  \n",
       "1000208                  E.T. the Extra-Terrestrial (1982)  \n",
       "0                                   American Beauty (1999)  \n",
       "1                Star Wars: Episode IV - A New Hope (1977)  \n",
       "2        Star Wars: Episode V - The Empire Strikes Back...  \n",
       "3        Star Wars: Episode VI - Return of the Jedi (1983)  \n",
       "4                               Saving Private Ryan (1998)  "
      ]
     },
     "execution_count": 9,
     "metadata": {},
     "output_type": "execute_result"
    }
   ],
   "source": [
    "#좋아하는 영화 번호 입력\n",
    "my_favorite = {'American Beauty (1999)':3211 , 'Star Wars: Episode IV - A New Hope (1977)':2910 ,'Star Wars: Episode V - The Empire Strikes Back (1980)':2885 ,'Star Wars: Episode VI - Return of the Jedi (1983)':2716 ,'Saving Private Ryan (1998)':2561}\n",
    "\n",
    "# 'joon'이라는 user_id가 위의 영화들을 5회씩 시청\n",
    "my_playlist = pd.DataFrame({'user_id': ['joon']*5, 'movie_id': my_favorite.values(), 'title': my_favorite.keys(), 'counts':[5]*5})\n",
    "\n",
    "if not data.isin({'user_id':['joon']})['user_id'].any():  # user_id에 '6041'이라는 데이터가 없다면\n",
    "    data = data.append(my_playlist)                           # 위에 임의로 만든 my_favorite 데이터를 추가해 줍니다. \n",
    "\n",
    "data.tail(10)       # 잘 추가되었는지 확인해 봅시다."
   ]
  },
  {
   "cell_type": "markdown",
   "id": "445ad295",
   "metadata": {},
   "source": [
    "## 모델 검증을 위한 사용자 초기 정보 세팅\n"
   ]
  },
  {
   "cell_type": "code",
   "execution_count": 10,
   "id": "c14ffb5c",
   "metadata": {},
   "outputs": [],
   "source": [
    "# 고유한 유저, 영화를 찾아내는 코드\n",
    "user_unique = data['user_id'].unique()\n",
    "movie_unique = data['title'].unique()\n",
    "\n",
    "# 유저, 영화 indexing 하는 코드 idx는 index의 약자입니다.\n",
    "user_to_idx = {v:k for k,v in enumerate(user_unique)}\n",
    "movie_to_idx = {v:k for k,v in enumerate(movie_unique)}"
   ]
  },
  {
   "cell_type": "code",
   "execution_count": 11,
   "id": "72921016",
   "metadata": {},
   "outputs": [
    {
     "name": "stdout",
     "output_type": "stream",
     "text": [
      "6039\n",
      "311\n"
     ]
    }
   ],
   "source": [
    "# 인덱싱이 잘 되었는지 확인해 봅니다. \n",
    "print(user_to_idx['joon'])    # 358869명의 유저 중 마지막으로 추가된 유저이니 358868이 나와야 합니다. \n",
    "print(movie_to_idx['Welcome to the Dollhouse (1995)'])"
   ]
  },
  {
   "cell_type": "code",
   "execution_count": 12,
   "id": "61793817",
   "metadata": {},
   "outputs": [
    {
     "name": "stdout",
     "output_type": "stream",
     "text": [
      "user_id column indexing OK!!\n",
      "movie column indexing OK!!\n"
     ]
    },
    {
     "data": {
      "text/html": [
       "<div>\n",
       "<style scoped>\n",
       "    .dataframe tbody tr th:only-of-type {\n",
       "        vertical-align: middle;\n",
       "    }\n",
       "\n",
       "    .dataframe tbody tr th {\n",
       "        vertical-align: top;\n",
       "    }\n",
       "\n",
       "    .dataframe thead th {\n",
       "        text-align: right;\n",
       "    }\n",
       "</style>\n",
       "<table border=\"1\" class=\"dataframe\">\n",
       "  <thead>\n",
       "    <tr style=\"text-align: right;\">\n",
       "      <th></th>\n",
       "      <th>user_id</th>\n",
       "      <th>movie_id</th>\n",
       "      <th>counts</th>\n",
       "      <th>title</th>\n",
       "    </tr>\n",
       "  </thead>\n",
       "  <tbody>\n",
       "    <tr>\n",
       "      <th>0</th>\n",
       "      <td>0</td>\n",
       "      <td>1193</td>\n",
       "      <td>5</td>\n",
       "      <td>0</td>\n",
       "    </tr>\n",
       "    <tr>\n",
       "      <th>1</th>\n",
       "      <td>0</td>\n",
       "      <td>661</td>\n",
       "      <td>3</td>\n",
       "      <td>1</td>\n",
       "    </tr>\n",
       "    <tr>\n",
       "      <th>2</th>\n",
       "      <td>0</td>\n",
       "      <td>914</td>\n",
       "      <td>3</td>\n",
       "      <td>2</td>\n",
       "    </tr>\n",
       "    <tr>\n",
       "      <th>3</th>\n",
       "      <td>0</td>\n",
       "      <td>3408</td>\n",
       "      <td>4</td>\n",
       "      <td>3</td>\n",
       "    </tr>\n",
       "    <tr>\n",
       "      <th>4</th>\n",
       "      <td>0</td>\n",
       "      <td>2355</td>\n",
       "      <td>5</td>\n",
       "      <td>4</td>\n",
       "    </tr>\n",
       "    <tr>\n",
       "      <th>...</th>\n",
       "      <td>...</td>\n",
       "      <td>...</td>\n",
       "      <td>...</td>\n",
       "      <td>...</td>\n",
       "    </tr>\n",
       "    <tr>\n",
       "      <th>0</th>\n",
       "      <td>6039</td>\n",
       "      <td>3211</td>\n",
       "      <td>5</td>\n",
       "      <td>99</td>\n",
       "    </tr>\n",
       "    <tr>\n",
       "      <th>1</th>\n",
       "      <td>6039</td>\n",
       "      <td>2910</td>\n",
       "      <td>5</td>\n",
       "      <td>44</td>\n",
       "    </tr>\n",
       "    <tr>\n",
       "      <th>2</th>\n",
       "      <td>6039</td>\n",
       "      <td>2885</td>\n",
       "      <td>5</td>\n",
       "      <td>117</td>\n",
       "    </tr>\n",
       "    <tr>\n",
       "      <th>3</th>\n",
       "      <td>6039</td>\n",
       "      <td>2716</td>\n",
       "      <td>5</td>\n",
       "      <td>64</td>\n",
       "    </tr>\n",
       "    <tr>\n",
       "      <th>4</th>\n",
       "      <td>6039</td>\n",
       "      <td>2561</td>\n",
       "      <td>5</td>\n",
       "      <td>48</td>\n",
       "    </tr>\n",
       "  </tbody>\n",
       "</table>\n",
       "<p>836483 rows × 4 columns</p>\n",
       "</div>"
      ],
      "text/plain": [
       "    user_id  movie_id  counts  title\n",
       "0         0      1193       5      0\n",
       "1         0       661       3      1\n",
       "2         0       914       3      2\n",
       "3         0      3408       4      3\n",
       "4         0      2355       5      4\n",
       "..      ...       ...     ...    ...\n",
       "0      6039      3211       5     99\n",
       "1      6039      2910       5     44\n",
       "2      6039      2885       5    117\n",
       "3      6039      2716       5     64\n",
       "4      6039      2561       5     48\n",
       "\n",
       "[836483 rows x 4 columns]"
      ]
     },
     "execution_count": 12,
     "metadata": {},
     "output_type": "execute_result"
    }
   ],
   "source": [
    "# indexing을 통해 데이터 컬럼 내 값을 바꾸는 코드\n",
    "# dictionary 자료형의 get 함수는 https://wikidocs.net/16 을 참고하세요.\n",
    "\n",
    "# user_to_idx.get을 통해 user_id 컬럼의 모든 값을 인덱싱한 Series를 구해 봅시다. \n",
    "# 혹시 정상적으로 인덱싱되지 않은 row가 있다면 인덱스가 NaN이 될 테니 dropna()로 제거합니다. \n",
    "temp_user_data = data['user_id'].map(user_to_idx.get).dropna()\n",
    "if len(temp_user_data) == len(data):   # 모든 row가 정상적으로 인덱싱되었다면\n",
    "    print('user_id column indexing OK!!')\n",
    "    data['user_id'] = temp_user_data   # data['user_id']을 인덱싱된 Series로 교체해 줍니다. \n",
    "else:\n",
    "    print('user_id column indexing Fail!!')\n",
    "\n",
    "# artist_to_idx을 통해 artist 컬럼도 동일한 방식으로 인덱싱해 줍니다. \n",
    "temp_movie_data = data['title'].map(movie_to_idx.get).dropna()\n",
    "if len(temp_movie_data) == len(data):\n",
    "    print('movie column indexing OK!!')\n",
    "    data['title'] = temp_movie_data\n",
    "else:\n",
    "    print('movie column indexing Fail!!')\n",
    "\n",
    "data"
   ]
  },
  {
   "cell_type": "markdown",
   "id": "84c5c596",
   "metadata": {},
   "source": [
    "## 사용자의 명시적/암묵적 평가\n",
    "- 암묵적 평가 : 플레이 횟수, 플레이 시간 이외에도 클릭 수, 구매 여부, 플레이 스킵 여부, 검색 기록, 방문 페이지 이력, 구매 내역, 심지어 마우스 움직임 기록 등"
   ]
  },
  {
   "cell_type": "markdown",
   "id": "1a4497e7",
   "metadata": {},
   "source": [
    "## Matrix Factorization(MF)\n",
    " - m명의 사용자들이 n명의 아티스트에 대해 평가한 데이터를 포함한 (m,n) 사이즈의 평가 행렬(Rating Matrix)\n",
    " \n",
    " - (m,n) 사이즈의 행렬 R을 (m,k) 사이즈의 행렬 P와 (k,n) 사이즈의 행렬 Q로 분해한다면 R이란 그저 P와 Q의 행렬곱으로 표현 가능할 수 있다는 아이디어\n",
    " \n",
    " - p : 사용자의 특성벡터 q : 콘텐츠의 특성벡터 r : 두 벡터를 내적한 결과 == 사용자의 선호도"
   ]
  },
  {
   "attachments": {
    "image.png": {
     "image/png": "[encoded data removed]"
    }
   },
   "cell_type": "markdown",
   "id": "c7acf0a3",
   "metadata": {},
   "source": [
    "## CSR(Compressed Sparse Row) Matrix\n",
    "- 유저 X 아이템 평가 행렬은 유저가 36만 명,아티스트가 29만 명이라 했을때 데이터를 표현하기위해 행렬의 각 원소에 정수 한 개 (1byte)가 들어간다면 36만 * 29만 * 1byte ≈ 97GB가 필요하게됨.\n",
    "- 이런 메모리 낭비를 막기 위해  전체 행렬 형태를 유추할 데이터 구조가 필요하게됨. == CSR\n",
    "- 0이 아닌 데이터의 좌표값을 저장해 메모리 사용량을 줄임.\n",
    "- CSR Matrix는 data, indices, indptr 로 행렬을 압축하여 표현\n",
    "![image.png](attachment:image.png)\n",
    "\n",
    "- data는 0이 아닌 원소를 차례로 기입한 값입니다.\n",
    "    - data = [1, 2, 3, 4, 5, 6]\n",
    "- indices는 data의 각 요소가 어느 열(column)에 있는지를 표현한 index입니다.\n",
    "    - indices = [0, 4, 1, 3, 0, 3]\n",
    "- indptr은 [최초시작행번호,시작행에서의 데이타 개수,두번째 행에서의 데이타 누적 개수,...,마지막행에서의 데이타 누적개수] 입니다. 이를 통해 data의 요소들이 어느 행(row)에 있는지를 알 수 있습니다.\n",
    "    - indptr = [0, 2, 4, 4, 6]\n",
    "- 이를 통해 data[0:2]는 첫 번째 행, data[2:4]는 두 번째 행, data[4:4]는 세 번째 행, data[4:6]는 네 번째 행에 위치함을 나타낼 수 있게 됩니다."
   ]
  },
  {
   "cell_type": "code",
   "execution_count": 13,
   "id": "4b9a182f",
   "metadata": {},
   "outputs": [
    {
     "data": {
      "text/plain": [
       "<6040x3628 sparse matrix of type '<class 'numpy.int64'>'\n",
       "\twith 836483 stored elements in Compressed Sparse Row format>"
      ]
     },
     "execution_count": 13,
     "metadata": {},
     "output_type": "execute_result"
    }
   ],
   "source": [
    "# CSR matrix\n",
    "from scipy.sparse import csr_matrix\n",
    "num_user = data['user_id'].nunique()\n",
    "num_movie = data['title'].nunique()\n",
    "\n",
    "csr_data = csr_matrix((data.counts, (data.user_id, data.title)), shape= (num_user, num_movie))\n",
    "csr_data"
   ]
  },
  {
   "cell_type": "markdown",
   "id": "6fb24197",
   "metadata": {},
   "source": [
    "## MF 모델 학습하기\n",
    "- Matrix Factorization 모델을 implicit 패키지를 사용하여 학습해 봅시다.\n",
    "- implicit 패키지는 이전 스텝에서 설명한 암묵적(implicit) dataset을 사용하는 다양한 모델을 굉장히 빠르게 학습할 수 있는 패키지입니다.\n",
    "- 이 패키지에 구현된 als(AlternatingLeastSquares) 모델을 사용하겠습니다. Matrix Factorization에서 쪼개진 두 Feature Matrix를 한꺼번에 훈련하는 것은 잘 수렴하지 않기 때문에, 한쪽을 고정시키고 다른 쪽을 학습하는 방식을 번갈아 수행하는 AlternatingLeastSquares 방식이 효과적인 것으로 알려져 있습니다."
   ]
  },
  {
   "cell_type": "code",
   "execution_count": 14,
   "id": "5ec505a1",
   "metadata": {},
   "outputs": [],
   "source": [
    "from implicit.als import AlternatingLeastSquares\n",
    "import os\n",
    "import numpy as np\n",
    "\n",
    "# implicit 라이브러리에서 권장하고 있는 부분입니다. 학습 내용과는 무관합니다.\n",
    "os.environ['OPENBLAS_NUM_THREADS']='1'\n",
    "os.environ['KMP_DUPLICATE_LIB_OK']='True'\n",
    "os.environ['MKL_NUM_THREADS']='1'"
   ]
  },
  {
   "cell_type": "markdown",
   "id": "35526aaa",
   "metadata": {},
   "source": [
    "## AlternatingLeastSquares 클래스의 __init__ 파라미터를 살펴보겠습니다.\n",
    "\n",
    "- factors : 유저와 아이템의 벡터를 몇 차원으로 할 것인지\n",
    "- regularization : 과적합을 방지하기 위해 정규화 값을 얼마나 사용할 것인지\n",
    "- use_gpu : GPU를 사용할 것인지\n",
    "- iterations : epochs와 같은 의미입니다. 데이터를 몇 번 반복해서 학습할 것인지\n",
    "- 1과 4를 늘릴수록 학습 데이터를 잘 학습하게 되지만 과적합의 우려가 있으니 좋은 값을 찾아야 합니다."
   ]
  },
  {
   "cell_type": "code",
   "execution_count": 15,
   "id": "2d1998af",
   "metadata": {},
   "outputs": [],
   "source": [
    "# Implicit AlternatingLeastSquares 모델의 선언\n",
    "als_model = AlternatingLeastSquares(factors=100, regularization=0.01, use_gpu=False, iterations=15, dtype=np.float32)"
   ]
  },
  {
   "cell_type": "code",
   "execution_count": 16,
   "id": "ecb78fe8",
   "metadata": {},
   "outputs": [
    {
     "data": {
      "text/plain": [
       "<3628x6040 sparse matrix of type '<class 'numpy.int64'>'\n",
       "\twith 836483 stored elements in Compressed Sparse Column format>"
      ]
     },
     "execution_count": 16,
     "metadata": {},
     "output_type": "execute_result"
    }
   ],
   "source": [
    "# als 모델은 input으로 (item X user 꼴의 matrix를 받기 때문에 Transpose해줍니다.)\n",
    "csr_data_transpose = csr_data.T\n",
    "csr_data_transpose"
   ]
  },
  {
   "cell_type": "code",
   "execution_count": 17,
   "id": "3ec13ee3",
   "metadata": {},
   "outputs": [
    {
     "data": {
      "application/vnd.jupyter.widget-view+json": {
       "model_id": "5acb6eefd7794ffd9ad45270d7e6bf34",
       "version_major": 2,
       "version_minor": 0
      },
      "text/plain": [
       "  0%|          | 0/15 [00:00<?, ?it/s]"
      ]
     },
     "metadata": {},
     "output_type": "display_data"
    }
   ],
   "source": [
    "# 모델 훈련\n",
    "als_model.fit(csr_data_transpose)"
   ]
  },
  {
   "cell_type": "markdown",
   "id": "94228430",
   "metadata": {},
   "source": [
    "## 모델 학습이 끝났습니다! 이제 아래 2가지 사항을 살펴보도록 하겠습니다.\n",
    "\n",
    "- joon벡터와 American_Beauty의 벡터를 어떻게 만들고 있는지\n",
    "- 두 벡터를 곱하면 어떤 값이 나오는지"
   ]
  },
  {
   "cell_type": "code",
   "execution_count": 18,
   "id": "9f727044",
   "metadata": {},
   "outputs": [
    {
     "name": "stdout",
     "output_type": "stream",
     "text": [
      "슝=3\n"
     ]
    }
   ],
   "source": [
    " joon,American_Beauty = user_to_idx['joon'],movie_to_idx['American Beauty (1999)']\n",
    "joon_vector, American_Beauty_vector = als_model.user_factors[joon], als_model.item_factors[American_Beauty]\n",
    "\n",
    "print('슝=3')"
   ]
  },
  {
   "cell_type": "code",
   "execution_count": 19,
   "id": "96222f4b",
   "metadata": {},
   "outputs": [
    {
     "data": {
      "text/plain": [
       "array([-0.09781224, -0.32955253,  0.43972254,  1.3692204 ,  0.67062104,\n",
       "        0.23105215,  0.07173789, -0.57602894, -0.4158995 ,  0.23289672,\n",
       "        1.2350967 ,  0.6260537 , -0.04733169, -0.22394747,  0.15021315,\n",
       "        0.19362983,  0.25169736, -0.9397802 , -0.18372588,  0.33305612,\n",
       "       -0.42000622, -0.2159358 , -0.29589757, -1.0114485 ,  0.29976752,\n",
       "        0.0704447 , -0.46197546, -1.100252  ,  0.48833448, -0.5742074 ,\n",
       "       -0.7820929 ,  0.06440528,  0.9827462 ,  0.96007884,  0.04997706,\n",
       "       -0.10622278,  0.56421614,  0.43447718, -0.22354813,  0.01394144,\n",
       "       -0.55464476, -0.02607142, -0.59100187, -0.22516899,  1.0954905 ,\n",
       "       -0.33061424,  0.35280785,  0.11532415,  1.0330732 , -0.21977644,\n",
       "       -0.01702219,  0.24210247, -0.46033323,  1.1914644 , -1.1839795 ,\n",
       "        0.10584675, -0.44633213,  0.01379111,  0.11259121,  0.01744618,\n",
       "       -0.19287445,  0.55355686,  0.6334208 , -0.88339484, -0.51651007,\n",
       "       -0.32313722,  0.4987249 , -0.9862701 , -0.07445884,  1.1722975 ,\n",
       "        0.80673283, -0.04371182, -0.767059  , -0.46850634, -0.8919821 ,\n",
       "       -0.30197936,  0.63408613,  0.12852128, -0.12501514,  0.68345124,\n",
       "       -0.6662253 ,  0.0422227 ,  0.22577095,  0.48835418, -0.12325686,\n",
       "       -0.34860742,  0.3165992 ,  0.8125795 , -0.24029951, -0.19425137,\n",
       "       -0.06911243, -0.6634871 ,  0.40106383, -0.1991215 ,  0.3408648 ,\n",
       "        0.4626395 ,  0.29026175, -0.8140501 , -0.89772505,  0.5497301 ],\n",
       "      dtype=float32)"
      ]
     },
     "execution_count": 19,
     "metadata": {},
     "output_type": "execute_result"
    }
   ],
   "source": [
    "joon_vector"
   ]
  },
  {
   "cell_type": "code",
   "execution_count": 20,
   "id": "e20d2e4f",
   "metadata": {},
   "outputs": [
    {
     "data": {
      "text/plain": [
       "array([-0.01431463,  0.00247165, -0.01407335,  0.01787494,  0.01332007,\n",
       "       -0.01199852,  0.0103521 , -0.02340212,  0.00848482, -0.00034942,\n",
       "        0.02891311,  0.03133729,  0.02157517, -0.01077724, -0.00167446,\n",
       "       -0.01490156,  0.00014902, -0.00269101, -0.00803618,  0.04331981,\n",
       "        0.02642781, -0.01612997, -0.0061738 , -0.00067953,  0.00065676,\n",
       "       -0.00157727, -0.02864008,  0.00158007, -0.00486777, -0.0345341 ,\n",
       "       -0.02365926,  0.01805762, -0.0299987 ,  0.05190042,  0.01809383,\n",
       "        0.0265538 ,  0.02858207,  0.00667773,  0.01793624,  0.01070719,\n",
       "       -0.03623102,  0.01215961,  0.01426626,  0.01649037,  0.03450179,\n",
       "       -0.03881621,  0.02716392, -0.01132659,  0.04401097,  0.03713005,\n",
       "        0.03673768,  0.02076064, -0.00638207,  0.03287866, -0.01952593,\n",
       "       -0.00133052, -0.01096196,  0.01603118,  0.01741868,  0.00928038,\n",
       "       -0.03008887,  0.02717793,  0.0445904 , -0.0012224 , -0.00079748,\n",
       "       -0.01125746,  0.03640781, -0.01891799, -0.00167901,  0.04879991,\n",
       "        0.00568013, -0.01334222,  0.0052447 , -0.01034406, -0.01826064,\n",
       "       -0.03604807,  0.01653331,  0.03803566,  0.036507  ,  0.01734846,\n",
       "        0.0216799 ,  0.02131112, -0.00968622,  0.03733471,  0.03453379,\n",
       "        0.00745244,  0.0300517 ,  0.01476143, -0.02623082, -0.04012143,\n",
       "        0.03025962, -0.03640901,  0.03286492,  0.01640097,  0.0205297 ,\n",
       "       -0.00513709, -0.00432263, -0.02245672, -0.0314902 ,  0.04200016],\n",
       "      dtype=float32)"
      ]
     },
     "execution_count": 20,
     "metadata": {},
     "output_type": "execute_result"
    }
   ],
   "source": [
    "American_Beauty_vector"
   ]
  },
  {
   "cell_type": "code",
   "execution_count": 21,
   "id": "d0c2e5a1",
   "metadata": {},
   "outputs": [
    {
     "data": {
      "text/plain": [
       "0.7059061"
      ]
     },
     "execution_count": 21,
     "metadata": {},
     "output_type": "execute_result"
    }
   ],
   "source": [
    "# joon과 American_Beauty를 내적하는 코드\n",
    "np.dot(joon_vector, American_Beauty_vector)"
   ]
  },
  {
   "cell_type": "code",
   "execution_count": 22,
   "id": "9861d688",
   "metadata": {},
   "outputs": [
    {
     "data": {
      "text/plain": [
       "0.31995735"
      ]
     },
     "execution_count": 22,
     "metadata": {},
     "output_type": "execute_result"
    }
   ],
   "source": [
    "# Back_to_the_Future 에 대한 선호도 예측\n",
    "Back_to_the_Future = movie_to_idx['Back to the Future (1985)']\n",
    "Back_to_the_Future_vector = als_model.item_factors[Back_to_the_Future]\n",
    "np.dot(joon_vector, Back_to_the_Future_vector)"
   ]
  },
  {
   "cell_type": "markdown",
   "id": "ca0d7627",
   "metadata": {},
   "source": [
    "## 비슷한 영화 찾기"
   ]
  },
  {
   "cell_type": "code",
   "execution_count": 23,
   "id": "9a3b1836",
   "metadata": {},
   "outputs": [
    {
     "data": {
      "text/plain": [
       "[(1030, 1.0),\n",
       " (1084, 0.6484522),\n",
       " (1370, 0.6394341),\n",
       " (968, 0.5816096),\n",
       " (783, 0.55193627),\n",
       " (1300, 0.50409424),\n",
       " (728, 0.48215938),\n",
       " (1365, 0.48041925),\n",
       " (1811, 0.4772647),\n",
       " (1815, 0.46651453),\n",
       " (988, 0.45251694),\n",
       " (1723, 0.43109253),\n",
       " (1182, 0.42514858),\n",
       " (1412, 0.4113894),\n",
       " (41, 0.39396548)]"
      ]
     },
     "execution_count": 23,
     "metadata": {},
     "output_type": "execute_result"
    }
   ],
   "source": [
    "favorite_movies = 'Platoon (1986)'\n",
    "movie_id = movie_to_idx[favorite_movies]\n",
    "similar_movie = als_model.similar_items(movie_id, N=15)\n",
    "similar_movie"
   ]
  },
  {
   "cell_type": "code",
   "execution_count": 24,
   "id": "ec6826e5",
   "metadata": {},
   "outputs": [
    {
     "data": {
      "text/plain": [
       "['Platoon (1986)',\n",
       " 'Full Metal Jacket (1987)',\n",
       " 'Killing Fields, The (1984)',\n",
       " 'Last Emperor, The (1987)',\n",
       " 'Deer Hunter, The (1978)',\n",
       " 'Apocalypse Now (1979)',\n",
       " 'Good Morning, Vietnam (1987)',\n",
       " 'Patton (1970)',\n",
       " 'Raging Bull (1980)',\n",
       " 'Pink Floyd - The Wall (1982)',\n",
       " 'Glory (1989)',\n",
       " 'Birdy (1984)',\n",
       " 'Red Dawn (1984)',\n",
       " 'Right Stuff, The (1983)',\n",
       " 'Rain Man (1988)']"
      ]
     },
     "execution_count": 24,
     "metadata": {},
     "output_type": "execute_result"
    }
   ],
   "source": [
    "#artist_to_idx 를 뒤집어, index로부터 artist 이름을 얻는 dict를 생성합니다. \n",
    "idx_to_movie = {v:k for k,v in movie_to_idx.items()}\n",
    "[idx_to_movie[i[0]] for i in similar_movie]"
   ]
  },
  {
   "cell_type": "code",
   "execution_count": 25,
   "id": "8c68ac90",
   "metadata": {},
   "outputs": [
    {
     "name": "stdout",
     "output_type": "stream",
     "text": [
      "슝=3\n"
     ]
    }
   ],
   "source": [
    "def get_similar_movie(movie_name: str):\n",
    "    movie_id = movie_to_idx[movie_name]\n",
    "    similar_movie = als_model.similar_items(movie_id)\n",
    "    similar_movie = [idx_to_movie[i[0]] for i in similar_movie]\n",
    "    return similar_movie\n",
    "\n",
    "print(\"슝=3\")"
   ]
  },
  {
   "cell_type": "code",
   "execution_count": 26,
   "id": "9346fdc8",
   "metadata": {},
   "outputs": [
    {
     "data": {
      "text/plain": [
       "[\"Sophie's Choice (1982)\",\n",
       " 'Places in the Heart (1984)',\n",
       " 'Trip to Bountiful, The (1985)',\n",
       " 'Children of a Lesser God (1986)',\n",
       " 'Reds (1981)',\n",
       " 'Ordinary People (1980)',\n",
       " 'Way We Were, The (1973)',\n",
       " 'On Golden Pond (1981)',\n",
       " 'Unbearable Lightness of Being, The (1988)',\n",
       " 'Driving Miss Daisy (1989)']"
      ]
     },
     "execution_count": 26,
     "metadata": {},
     "output_type": "execute_result"
    }
   ],
   "source": [
    "get_similar_movie(\"Sophie's Choice (1982)\")"
   ]
  },
  {
   "cell_type": "code",
   "execution_count": 27,
   "id": "41420179",
   "metadata": {},
   "outputs": [
    {
     "data": {
      "text/plain": [
       "['E.T. the Extra-Terrestrial (1982)',\n",
       " 'Close Encounters of the Third Kind (1977)',\n",
       " 'Star Wars: Episode IV - A New Hope (1977)',\n",
       " 'Star Wars: Episode V - The Empire Strikes Back (1980)',\n",
       " 'Back to the Future (1985)',\n",
       " 'Big (1988)',\n",
       " 'Amadeus (1984)',\n",
       " 'Honey, I Shrunk the Kids (1989)',\n",
       " 'Dark Crystal, The (1982)',\n",
       " 'Time Bandits (1981)']"
      ]
     },
     "execution_count": 27,
     "metadata": {},
     "output_type": "execute_result"
    }
   ],
   "source": [
    "get_similar_movie('E.T. the Extra-Terrestrial (1982)')"
   ]
  },
  {
   "cell_type": "markdown",
   "id": "553d16d6",
   "metadata": {},
   "source": [
    "## 유저에게 추천하기"
   ]
  },
  {
   "cell_type": "code",
   "execution_count": 28,
   "id": "b0a47cd8",
   "metadata": {},
   "outputs": [
    {
     "data": {
      "text/plain": [
       "[(120, 0.57597786),\n",
       " (60, 0.45219278),\n",
       " (87, 0.4221984),\n",
       " (170, 0.40578386),\n",
       " (23, 0.35825166),\n",
       " (26, 0.32757095),\n",
       " (22, 0.31995738),\n",
       " (160, 0.26392794),\n",
       " (124, 0.24914587),\n",
       " (157, 0.22722174),\n",
       " (5, 0.21897906),\n",
       " (126, 0.20557022),\n",
       " (607, 0.2027416),\n",
       " (27, 0.19786134),\n",
       " (121, 0.19603425),\n",
       " (172, 0.19602138),\n",
       " (92, 0.1944443),\n",
       " (0, 0.1932595),\n",
       " (193, 0.18883166),\n",
       " (271, 0.18868884)]"
      ]
     },
     "execution_count": 28,
     "metadata": {},
     "output_type": "execute_result"
    }
   ],
   "source": [
    "user = user_to_idx['joon']\n",
    "# recommend에서는 user*item CSR Matrix를 받습니다.\n",
    "movie_recommended = als_model.recommend(user, csr_data, N=20, filter_already_liked_items=True)\n",
    "movie_recommended"
   ]
  },
  {
   "cell_type": "code",
   "execution_count": 29,
   "id": "f6cb9c5a",
   "metadata": {},
   "outputs": [
    {
     "data": {
      "text/plain": [
       "['Raiders of the Lost Ark (1981)',\n",
       " 'Star Wars: Episode I - The Phantom Menace (1999)',\n",
       " 'Braveheart (1995)',\n",
       " 'Being John Malkovich (1999)',\n",
       " \"Schindler's List (1993)\",\n",
       " 'E.T. the Extra-Terrestrial (1982)',\n",
       " 'Back to the Future (1985)',\n",
       " 'Forrest Gump (1994)',\n",
       " 'Matrix, The (1999)',\n",
       " 'Shawshank Redemption, The (1994)',\n",
       " 'Princess Bride, The (1987)',\n",
       " 'Shakespeare in Love (1998)',\n",
       " 'Godfather, The (1972)',\n",
       " 'Titanic (1997)',\n",
       " 'Silence of the Lambs, The (1991)',\n",
       " 'Indiana Jones and the Last Crusade (1989)',\n",
       " 'Terminator 2: Judgment Day (1991)',\n",
       " \"One Flew Over the Cuckoo's Nest (1975)\",\n",
       " 'Alien (1979)',\n",
       " 'Election (1999)']"
      ]
     },
     "execution_count": 29,
     "metadata": {},
     "output_type": "execute_result"
    }
   ],
   "source": [
    "[idx_to_movie[i[0]] for i in movie_recommended]"
   ]
  },
  {
   "cell_type": "code",
   "execution_count": 30,
   "id": "20f2930e",
   "metadata": {},
   "outputs": [],
   "source": [
    "Raiders = movie_to_idx['Raiders of the Lost Ark (1981)']\n",
    "explain = als_model.explain(user, csr_data, itemid=Raiders)"
   ]
  },
  {
   "cell_type": "markdown",
   "id": "f70dad86",
   "metadata": {},
   "source": [
    "## 추천한 콘텐츠의 점수에 기여한 다른 콘텐츠와 기여도(합이 콘텐츠의 점수가 됩니다.)를 반환"
   ]
  },
  {
   "cell_type": "code",
   "execution_count": 31,
   "id": "05daa6b5",
   "metadata": {},
   "outputs": [
    {
     "data": {
      "text/plain": [
       "[('Star Wars: Episode IV - A New Hope (1977)', 0.22707889110114896),\n",
       " ('Star Wars: Episode V - The Empire Strikes Back (1980)', 0.1783097125225558),\n",
       " ('Saving Private Ryan (1998)', 0.08228597135408913),\n",
       " ('Star Wars: Episode VI - Return of the Jedi (1983)', 0.046677207123728755),\n",
       " ('American Beauty (1999)', 0.02909968886517446)]"
      ]
     },
     "execution_count": 31,
     "metadata": {},
     "output_type": "execute_result"
    }
   ],
   "source": [
    "[(idx_to_movie[i[0]], i[1]) for i in explain[1]]"
   ]
  },
  {
   "cell_type": "markdown",
   "id": "13f40492",
   "metadata": {},
   "source": [
    "## 회고\n",
    "\n",
    "1. CSR matrix가 정상적으로 만들어졌다.\n",
    "    - 사용자와 아이템 개수를 바탕으로 정확한 사이즈로 만들었다.\n",
    "2. MF 모델이 정상적으로 훈련되어 그럴듯한 추천이 이루어졌다.\n",
    "    - 사용자와 아이템 벡터 내적수치가 의미있게 형성되었다.\n",
    "3. 비슷한 영화 찾기와 유저에게 추천하기의 과정이 정상적으로 진행되었다.\n",
    "    - MF모델이 예측한 유저 선호도 및 아이템간 유사도, 기여도를 측정하고 의미를 분석해보았다.\n",
    "\n",
    "- CSR matrix : 사용자와 영화 제목을 기준으로 사이즈를 설정함.\n",
    "- 백터 내적 수치는 0.7 정도로 준수하게 나온듯 함.\n",
    "- 유사도와 기여도의 기준이 명확하지 않아 상당히 애매한 결과가 나오는것 같다."
   ]
  },
  {
   "cell_type": "code",
   "execution_count": null,
   "id": "6d54c032",
   "metadata": {},
   "outputs": [],
   "source": []
  }
 ],
 "metadata": {
  "kernelspec": {
   "display_name": "Python 3 (ipykernel)",
   "language": "python",
   "name": "python3"
  },
  "language_info": {
   "codemirror_mode": {
    "name": "ipython",
    "version": 3
   },
   "file_extension": ".py",
   "mimetype": "text/x-python",
   "name": "python",
   "nbconvert_exporter": "python",
   "pygments_lexer": "ipython3",
   "version": "3.9.7"
  }
 },
 "nbformat": 4,
 "nbformat_minor": 5
}
