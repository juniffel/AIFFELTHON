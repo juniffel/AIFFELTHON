{
 "cells": [
  {
   "cell_type": "markdown",
   "metadata": {},
   "source": [
    "인코딩과 디코딩\n",
    "- 인코딩 : 문자열 -> 바이트 \n",
    "- 디코딩 : 바이트 -> 문자열\n",
    "\n",
    "유니코드와 문자열 변환\n",
    "- ord() : 문자를 대응하는 유니코드 숫자로 변환\n",
    "- chr() : 유니코드 숫자에 대응하는 문자로 변환\n",
    "\n",
    "정의한 문자열을 포함하는 문자열 찾기\n",
    "- startwith() : 정의한 문자로 시작하는 문자열 가져오기\n",
    "- endwith() : 정의한 문자로 끝나는 문자열 가져오기\n",
    "\n",
    "대소문자관련\n",
    "- upper() : 모든 문자를 대문자로 변환\n",
    "- lower() : 모든 문자를 소문자로 변환\n",
    "- capitalize() : 첫 글자만 대문자로 변환\n",
    "\n",
    "- isupper() : 문자열이 모두 대문자 == True, != False를 반환\n",
    "- islower() : 문자열이 모두 소문자 == True, != False를 반환\n",
    "- istitle(): 문자열의 첫 글자만 대문자 == True, != False를 반환\n",
    "- isalpha(): 문자열이 모두 알파벳 문자 == True, != False를 반환\n",
    "- isalnum(): 문자열이 모두 알파벳 문자와 숫자 == True, != False를 반환\n",
    "- isdecimal(): 문자열이 모두 숫자 == True, != False를 반환\n",
    "\n",
    "join과 split\n",
    "- join() : 인자로 반복 가능한(iterable) 객체를 받고 각각의 원소를 모아 하나의 문자열로 합침\n",
    "- split() : 하나의 문자열을 구분자를 기준으로 나누어 줍니다.\n",
    "\n",
    "replace\n",
    "- replace() : replace(s1, s2) 형태로 문자열 내 문자열 s1을 s2로 바꿉니다."
   ]
  },
  {
   "cell_type": "code",
   "execution_count": 18,
   "metadata": {},
   "outputs": [
    {
     "data": {
      "text/plain": [
       "(65, 'A')"
      ]
     },
     "execution_count": 18,
     "metadata": {},
     "output_type": "execute_result"
    }
   ],
   "source": [
    "ord('A'),chr(65)"
   ]
  },
  {
   "cell_type": "code",
   "execution_count": 19,
   "metadata": {},
   "outputs": [
    {
     "data": {
      "text/plain": [
       "(['OB94382', 'OB32308', 'OB83461', 'OB74830', 'OB82345'],\n",
       " ['OW11235', 'OB82345'])"
      ]
     },
     "execution_count": 19,
     "metadata": {},
     "output_type": "execute_result"
    }
   ],
   "source": [
    "EmployeeID = ['OB94382', 'OW34723', 'OB32308', 'OB83461', \n",
    "                                  'OB74830', 'OW37402', 'OW11235', 'OB82345'] \n",
    "\n",
    "# startswith로 OB로 시작하는 문자열 가져오기\n",
    "s_with = [P for P in EmployeeID if P.startswith('OB')]   # 'OB'로 시작하는 직원 ID를 다 찾아봅니다\n",
    "# endswith로 5로 끝나는 문자열 가져오기\n",
    "e_with = [P for P in EmployeeID if P.endswith('5')]   # 'OB'로 시작하는 직원 ID를 다 찾아봅니다\n",
    "\n",
    "s_with,e_with"
   ]
  },
  {
   "cell_type": "code",
   "execution_count": 20,
   "metadata": {},
   "outputs": [
    {
     "name": "stdout",
     "output_type": "stream",
     "text": [
      "ALPHA alpha Alpha\n",
      "False True True True False False\n"
     ]
    }
   ],
   "source": [
    "# 대소문자\n",
    "a = 'alpha'\n",
    "print(a.upper(), a.lower(), a.capitalize())\n",
    "print(a.isupper(), a.islower(), a.isalnum(), a.isalpha(), a.isdecimal(), a.istitle())"
   ]
  },
  {
   "cell_type": "code",
   "execution_count": 21,
   "metadata": {},
   "outputs": [
    {
     "data": {
      "text/plain": [
       "'fundamentals,exploration,goingdeeper'"
      ]
     },
     "execution_count": 21,
     "metadata": {},
     "output_type": "execute_result"
    }
   ],
   "source": [
    "# join\n",
    "stages = ['fundamentals', 'exploration', 'goingdeeper']\n",
    "\",\".join(stages)"
   ]
  },
  {
   "cell_type": "code",
   "execution_count": 22,
   "metadata": {},
   "outputs": [
    {
     "data": {
      "text/plain": [
       "['fundamentals', 'exploration', 'goingdeeper']"
      ]
     },
     "execution_count": 22,
     "metadata": {},
     "output_type": "execute_result"
    }
   ],
   "source": [
    "# split\n",
    "'fundamentals,exploration,goingdeeper'.split(',')"
   ]
  }
 ],
 "metadata": {
  "kernelspec": {
   "display_name": "Python 3.10.5 64-bit",
   "language": "python",
   "name": "python3"
  },
  "language_info": {
   "codemirror_mode": {
    "name": "ipython",
    "version": 3
   },
   "file_extension": ".py",
   "mimetype": "text/x-python",
   "name": "python",
   "nbconvert_exporter": "python",
   "pygments_lexer": "ipython3",
   "version": "3.10.5"
  },
  "orig_nbformat": 4,
  "vscode": {
   "interpreter": {
    "hash": "be04ff51d9b28d0a801579a1b9c0a46c912d4ebd8df3f1a97b27efafcf776c92"
   }
  }
 },
 "nbformat": 4,
 "nbformat_minor": 2
}
