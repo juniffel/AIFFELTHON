{
 "cells": [
  {
   "cell_type": "markdown",
   "metadata": {},
   "source": [
    "파일읽고 쓰기\n",
    "\n",
    "메서드\n",
    "\n",
    "- f.read() : 파일을 읽는다.\n",
    "- f.readline() : 파일을 한 줄씩 읽는다.\n",
    "- f.readlines() : 파일 안의 모든 줄을 읽어 그 값을 리스트로 반환한다.\n",
    "- f.write(str) : 파일에 쓴다. 문자열 타입을 인자로 받는다.\n",
    "- f.writelines(str) : 파일에 인자를 한 줄씩 쓴다.\n",
    "- f.close() : 파일을 닫는다.\n",
    "- f.seek(offset) : 해당 파일의 위치(offset)를 찾아 파일의 커서를 옮긴다. 파일의 처음 위치는 0이다.\n",
    "- f.tell(): 현재 커서의 위치를 반환한다.\n",
    "\n",
    "파이썬 모듈 및 패키지 개념\n",
    "\n",
    "- 모듈(module) : 파이썬으로 만든 코드가 들어간 파일 .py\n",
    "\n",
    "- 패키지(package) : 기능적으로 동일하거나 동일한 결과를 만드는 모듈들의 집합 또는 폴더. 종종 라이브러리라고도 불림\n",
    "\n",
    "- 라이브러리(library) : 모듈과 패키지의 집합. 패키지보다 포괄적인 개념이나 패키지와 혼용되어 사용되기도 함.\n",
    "\n",
    "- PIP(Package Installer for Python) : 패키지 관리자로 파이썬을 설치하면 기본으로 설치됨\n",
    "\n",
    "- PyPA(Python Packaging Authority) : 파이선 패키지를 관리하고 유지하는 그룹\n",
    "\n",
    "- PyPI(The Python Package Index) : 파이썬 패키지들의 저장소"
   ]
  },
  {
   "cell_type": "code",
   "execution_count": 33,
   "metadata": {},
   "outputs": [
    {
     "name": "stdout",
     "output_type": "stream",
     "text": [
      "위치 : 84\n",
      "첫번째 파일의 내용을 읽어왔습니다. ['이 문서는 파이썬으로 파일을 다루기 위한 용도 입니다.\\n', '용도외의 사용을 자제해 주세요.']\n",
      "위치 : 130\n",
      "두번째 파일의 내용을 읽어왔습니다. ['이 문서는 파이썬으로 파일을 다루기 위한 용도 입니다.\\n', '용도외의 사용을 자제해 주세요.이 리스트는 이어쓰기 테스트를 위한 용도입니다.']\n"
     ]
    }
   ],
   "source": [
    "# 파일 열기\n",
    "with open('test.txt', 'w') as f:\n",
    "    f.write('이 문서는 파이썬으로 파일을 다루기 위한 용도 입니다.\\n용도외의 사용을 자제해 주세요.')\n",
    "    \n",
    "# 파일읽기\n",
    "with open('test.txt', 'r')as f:\n",
    "    text = f.readlines()\n",
    "    print(f'위치 : {f.tell()}')\n",
    "\n",
    "print(f'첫번째 파일의 내용을 읽어왔습니다. {text}')\n",
    "\n",
    "texts = ['이 리스트는 ', '이어쓰기 테스트를 위한 ','용도입니다.']\n",
    "# 파일 이어쓰기\n",
    "with open('test.txt', 'a')as f:\n",
    "    f.writelines(texts)\n",
    "\n",
    "# 이어쓴 파일 읽기\n",
    "with open('test.txt', 'r')as f:\n",
    "    text = f.readlines()\n",
    "    print(f'위치 : {f.tell()}')\n",
    "\n",
    "print(f'두번째 파일의 내용을 읽어왔습니다. {text}')"
   ]
  },
  {
   "cell_type": "code",
   "execution_count": null,
   "metadata": {},
   "outputs": [],
   "source": []
  }
 ],
 "metadata": {
  "kernelspec": {
   "display_name": "Python 3.9.13 ('juniffel')",
   "language": "python",
   "name": "python3"
  },
  "language_info": {
   "codemirror_mode": {
    "name": "ipython",
    "version": 3
   },
   "file_extension": ".py",
   "mimetype": "text/x-python",
   "name": "python",
   "nbconvert_exporter": "python",
   "pygments_lexer": "ipython3",
   "version": "3.9.13"
  },
  "orig_nbformat": 4,
  "vscode": {
   "interpreter": {
    "hash": "e24eaae4446a8c18a11ac9ac97a1975649d6b5c8a03839fbffd925b691114b7a"
   }
  }
 },
 "nbformat": 4,
 "nbformat_minor": 2
}
