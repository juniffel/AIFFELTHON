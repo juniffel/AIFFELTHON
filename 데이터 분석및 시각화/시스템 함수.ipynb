{
 "cells": [
  {
   "cell_type": "markdown",
   "metadata": {},
   "source": [
    "시스템 함수\n",
    "\n",
    "- sys.path : 현재 폴더와 파이썬 모듈들이 저장되는 위치를 리스트 형태로 반환\n",
    "- sys.path.append() : 자신이 만든 모듈의 경로를 append 함수를 이용해서 추가함. 그 후 추가한 디렉터리에 있는 파이썬 모듈을 불러와 사용할 수 있다.\n",
    "- os.chdir() : 디렉터리 위치 변경\n",
    "- os.getcwd() : 현재 자신의 디렉터리 위치를 반환\n",
    "- os.mkdir() : 디렉터리 생성\n",
    "- os.rmdir() : 디렉터리 삭제 (단, 디렉터리가 비어 있을 경우)\n",
    "- glob.glob() : 해당 경로 안의 디렉터리나 파일들을 리스트 형태로 반환\n",
    "- os.path.join() : 경로(path)를 병합하여 새 경로 생성\n",
    "- os.listdir() : 디렉터리 안의 파일 및 서브 디렉터리를 리스트 형태로 반환\n",
    "- os.path.exists() : 파일 혹은 디렉터리의 경로 존재 여부 확인\n",
    "- os.path.isfile() : 파일 경로의 존재 여부 확인\n",
    "- os.path.isdir() : 디렉터리 경로의 존재 여부 확인\n",
    "- os.path.getsize() : 파일의 크기 확인"
   ]
  },
  {
   "cell_type": "code",
   "execution_count": 2,
   "metadata": {},
   "outputs": [
    {
     "data": {
      "text/plain": [
       "['c:\\\\Users\\\\kkuju\\\\Desktop\\\\project\\\\데이터 분석및 시각화',\n",
       " 'c:\\\\Users\\\\kkuju\\\\.vscode\\\\extensions\\\\ms-toolsai.jupyter-2022.6.1101950301\\\\pythonFiles',\n",
       " 'c:\\\\Users\\\\kkuju\\\\.vscode\\\\extensions\\\\ms-toolsai.jupyter-2022.6.1101950301\\\\pythonFiles\\\\lib\\\\python',\n",
       " 'c:\\\\Users\\\\kkuju\\\\AppData\\\\Local\\\\Programs\\\\Python\\\\Python310\\\\python310.zip',\n",
       " 'c:\\\\Users\\\\kkuju\\\\AppData\\\\Local\\\\Programs\\\\Python\\\\Python310\\\\DLLs',\n",
       " 'c:\\\\Users\\\\kkuju\\\\AppData\\\\Local\\\\Programs\\\\Python\\\\Python310\\\\lib',\n",
       " 'c:\\\\Users\\\\kkuju\\\\AppData\\\\Local\\\\Programs\\\\Python\\\\Python310',\n",
       " '',\n",
       " 'c:\\\\Users\\\\kkuju\\\\AppData\\\\Local\\\\Programs\\\\Python\\\\Python310\\\\lib\\\\site-packages',\n",
       " 'c:\\\\Users\\\\kkuju\\\\AppData\\\\Local\\\\Programs\\\\Python\\\\Python310\\\\lib\\\\site-packages\\\\win32',\n",
       " 'c:\\\\Users\\\\kkuju\\\\AppData\\\\Local\\\\Programs\\\\Python\\\\Python310\\\\lib\\\\site-packages\\\\win32\\\\lib',\n",
       " 'c:\\\\Users\\\\kkuju\\\\AppData\\\\Local\\\\Programs\\\\Python\\\\Python310\\\\lib\\\\site-packages\\\\Pythonwin']"
      ]
     },
     "execution_count": 2,
     "metadata": {},
     "output_type": "execute_result"
    }
   ],
   "source": [
    "import sys\n",
    "sys.path"
   ]
  },
  {
   "cell_type": "code",
   "execution_count": 3,
   "metadata": {},
   "outputs": [
    {
     "data": {
      "text/plain": [
       "<module 'ntpath' from 'c:\\\\Users\\\\kkuju\\\\AppData\\\\Local\\\\Programs\\\\Python\\\\Python310\\\\lib\\\\ntpath.py'>"
      ]
     },
     "execution_count": 3,
     "metadata": {},
     "output_type": "execute_result"
    }
   ],
   "source": [
    "import os\n",
    "os.path"
   ]
  },
  {
   "cell_type": "code",
   "execution_count": null,
   "metadata": {},
   "outputs": [],
   "source": []
  }
 ],
 "metadata": {
  "kernelspec": {
   "display_name": "Python 3.10.5 64-bit",
   "language": "python",
   "name": "python3"
  },
  "language_info": {
   "codemirror_mode": {
    "name": "ipython",
    "version": 3
   },
   "file_extension": ".py",
   "mimetype": "text/x-python",
   "name": "python",
   "nbconvert_exporter": "python",
   "pygments_lexer": "ipython3",
   "version": "3.10.5"
  },
  "orig_nbformat": 4,
  "vscode": {
   "interpreter": {
    "hash": "be04ff51d9b28d0a801579a1b9c0a46c912d4ebd8df3f1a97b27efafcf776c92"
   }
  }
 },
 "nbformat": 4,
 "nbformat_minor": 2
}
