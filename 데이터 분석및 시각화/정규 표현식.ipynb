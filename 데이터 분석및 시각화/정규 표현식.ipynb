{
 "cells": [
  {
   "cell_type": "markdown",
   "metadata": {},
   "source": [
    "정규표현식\n",
    "\n",
    "임포트 \n",
    "- import re\n",
    "\n",
    "매서드 \n",
    "- compile() : 패턴정의 \n",
    "- search() : 일치하는 패턴 찾기 (일치 패턴이 있으면 MatchObject를 반환합니다)\n",
    "- match() : search()와 비슷하지만, 처음부터 패턴이 검색 대상과 일치해야 합니다.\n",
    "- findall() : 일치하는 모든 패턴 찾기 (모든 일치 패턴을 리스트에 담아서 반환합니다)\n",
    "- split() : 패턴으로 나누기\n",
    "- sub() : 일치하는 패턴으로 대체하기\n",
    "- group() : 실제 결과에 해당하는 문자열을 반환합니다.\n",
    "\n",
    "패턴\n",
    "- [ ] : 문자\n",
    "-  &#45; : 범위\n",
    "- . : 하나의 문자\n",
    "- ? : 0회 또는 1회 반복\n",
    "- &#42; : 0회 이상 반복\n",
    "- &#43; : 1회 이상 반복\n",
    "- {m, n} : m ~ n\n",
    "- \\d : 숫자, [0-9]와 동일\n",
    "- \\D : 비 숫자, [^0-9]와 동일\n",
    "- \\w : 알파벳 문자 + 숫자 + _, [a-zA-Z0-9_]와 동일\n",
    "- \\W : 비 알파벳 문자 + 비숫자, [^a-zA-Z0-9_]와 동일\n",
    "- \\s : 공백 문자, [ \\t\\n\\r\\f\\v]와 동일\n",
    "- \\S : 비 공백 문자, [^ \\t\\n\\r\\f\\v]와 동일\n",
    "- \\b : 단어 경계\n",
    "- \\B : 비 단어 경계\n",
    "- \\t : 가로 탭(tab)\n",
    "- \\v : 세로 탭(vertical tab)\n",
    "- \\f : 폼 피드\n",
    "- \\n : 라인 피드(개행문자)\n",
    "- \\r : 캐리지 리턴(원시 문자열)"
   ]
  },
  {
   "cell_type": "code",
   "execution_count": 5,
   "metadata": {},
   "outputs": [
    {
     "data": {
      "text/plain": [
       "['the', 'the', 'the']"
      ]
     },
     "execution_count": 5,
     "metadata": {},
     "output_type": "execute_result"
    }
   ],
   "source": [
    "import re\n",
    "#1단계 :  \"the\"라는 패턴을 컴파일한 후 패턴 객체를 리턴합니다. \n",
    "pattern = re.compile(\"the\")    \n",
    "\n",
    "# 2단계 : 컴파일된 패턴 객체를 활용하여 다른 텍스트에서 검색을 수행합니다.\n",
    "pattern.findall('of the people, for the people, by the people')"
   ]
  },
  {
   "cell_type": "code",
   "execution_count": 6,
   "metadata": {},
   "outputs": [
    {
     "name": "stdout",
     "output_type": "stream",
     "text": [
      "010-111-1111\n",
      "------\n"
     ]
    }
   ],
   "source": [
    "#- 전화번호(숫자, 기호)\n",
    "phonenumber = re.compile(r'\\d{3}-\\d{3}-\\d{4}')\n",
    "phone = phonenumber.search('This is my phone number 010-111-1111')\n",
    "if phone:\n",
    "  print(phone.group())\n",
    "print('------')\n",
    "phone = phonenumber.match ('This is my phone number 010-111-1111')\n",
    "if phone:\n",
    "  print(phone.group())"
   ]
  },
  {
   "cell_type": "code",
   "execution_count": 7,
   "metadata": {},
   "outputs": [
    {
     "name": "stdout",
     "output_type": "stream",
     "text": [
      "010-111-1111\n",
      "------\n"
     ]
    }
   ],
   "source": [
    "#- 전화번호(숫자, 기호)\n",
    "phonenumber = re.compile(r'(\\d{3}-){2}\\d{4}')\n",
    "phone = phonenumber.search('This is my phone number 010-111-1111')\n",
    "if phone:\n",
    "  print(phone.group())\n",
    "print('------')\n",
    "phone = phonenumber.match ('This is my phone number 010-111-1111')\n",
    "if phone:\n",
    "  print(phone.group())"
   ]
  },
  {
   "cell_type": "code",
   "execution_count": 8,
   "metadata": {},
   "outputs": [
    {
     "data": {
      "text/plain": [
       "['doingharu@aiffel.com', 'tomorrow@aiffel.com']"
      ]
     },
     "execution_count": 8,
     "metadata": {},
     "output_type": "execute_result"
    }
   ],
   "source": [
    "#- 이메일(알파벳, 숫자, 기호)\n",
    "text = \"My e-mail adress is doingharu@aiffel.com, and tomorrow@aiffel.com\"\n",
    "pattern = re.compile(\"[0-9a-zA-Z]+@[0-9a-z]+\\.[0-9a-z]+\")\n",
    "pattern.findall(text)"
   ]
  },
  {
   "cell_type": "code",
   "execution_count": null,
   "metadata": {},
   "outputs": [],
   "source": []
  }
 ],
 "metadata": {
  "kernelspec": {
   "display_name": "Python 3.10.5 64-bit",
   "language": "python",
   "name": "python3"
  },
  "language_info": {
   "codemirror_mode": {
    "name": "ipython",
    "version": 3
   },
   "file_extension": ".py",
   "mimetype": "text/x-python",
   "name": "python",
   "nbconvert_exporter": "python",
   "pygments_lexer": "ipython3",
   "version": "3.10.5"
  },
  "orig_nbformat": 4,
  "vscode": {
   "interpreter": {
    "hash": "be04ff51d9b28d0a801579a1b9c0a46c912d4ebd8df3f1a97b27efafcf776c92"
   }
  }
 },
 "nbformat": 4,
 "nbformat_minor": 2
}
