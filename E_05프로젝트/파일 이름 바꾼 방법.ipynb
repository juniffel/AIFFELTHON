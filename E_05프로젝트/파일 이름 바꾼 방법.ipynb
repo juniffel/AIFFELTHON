{
 "cells": [
  {
   "cell_type": "markdown",
   "metadata": {},
   "source": [
    "## 💖 파일이름 바꾼방법\n",
    "    - 파일을 합치려하니 이름이 0,1,2,3...이런식이라 겹치는 문제가 있엇음\n",
    "    - 이를 해결하기위해 3개의 파일에 대해 각 파일별로 숫자를 연이어 설정하게끔 이름을 바꿔줌"
   ]
  },
  {
   "cell_type": "code",
   "execution_count": 4,
   "metadata": {},
   "outputs": [],
   "source": [
    "import os\n",
    "# 예시\n",
    "os.renames('paper/400.jpg', 'paper/0.jpg') # 이름이400이면 0으로 바꿔라"
   ]
  },
  {
   "cell_type": "code",
   "execution_count": 12,
   "metadata": {},
   "outputs": [],
   "source": [
    "# 바꿀 폴더명 , 파일 이름으로 몇번 부터 몇번을 지정할껀지\n",
    "def folder_rename(folder, start, finish):\n",
    "    for i in range(start,finish):\n",
    "        os.renames(f'{folder}/{i-start}.jpg', f'{folder}/{i}.jpg')"
   ]
  },
  {
   "cell_type": "code",
   "execution_count": 13,
   "metadata": {},
   "outputs": [],
   "source": [
    "folder_rename('scissor2',400,800)"
   ]
  },
  {
   "cell_type": "code",
   "execution_count": 14,
   "metadata": {},
   "outputs": [],
   "source": [
    "folder_rename('scissor3',800,1006)"
   ]
  },
  {
   "cell_type": "code",
   "execution_count": null,
   "metadata": {},
   "outputs": [],
   "source": []
  }
 ],
 "metadata": {
  "kernelspec": {
   "display_name": "Python 3.10.5 64-bit",
   "language": "python",
   "name": "python3"
  },
  "language_info": {
   "codemirror_mode": {
    "name": "ipython",
    "version": 3
   },
   "file_extension": ".py",
   "mimetype": "text/x-python",
   "name": "python",
   "nbconvert_exporter": "python",
   "pygments_lexer": "ipython3",
   "version": "3.10.5"
  },
  "orig_nbformat": 4,
  "vscode": {
   "interpreter": {
    "hash": "be04ff51d9b28d0a801579a1b9c0a46c912d4ebd8df3f1a97b27efafcf776c92"
   }
  }
 },
 "nbformat": 4,
 "nbformat_minor": 2
}
