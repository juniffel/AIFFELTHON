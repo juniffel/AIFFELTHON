{
  "cells": [
    {
      "cell_type": "markdown",
      "metadata": {
        "id": "vdOfysGbJIrG"
      },
      "source": [
        "### ➰ 목표\n",
        "\n",
        ": 축구 21-22시즌 프리미어리그 선수들의 스탯을 나타내는 데이터 파일을 분석하여 각 팀에 대한 스탯을 담은 데이터프레임을 생성해 최종 승점을 내고 실제 21-22시즌의 승점 순위와 얼마나 차이가 나는 가를 비교 분석하고자 합니다.\n",
        "<br><br>\n",
        "\n",
        "### ➰ 각 팀에 대한 스탯을 담은 데이터프레임 내 컬럼 종류\n",
        ": 승점을 내기 위해 승점을 판단할 수 있는 6가지 요소를 컬럼으로 지정해 데이터 프레임을 생성하고자 합니다.<br>\n",
        "\n",
        "1. 팀별 득점수\n",
        "2. (공격수 + 미드필더)의 나이에 따른 평균 득점률\n",
        "3. (공격수 + 미드필더) 국적에 따른 평균 득점률\n",
        "4. 선수의 평균 지구력\n",
        "5. 경고 카드 평균 누적량\n",
        "6. (실제 골 - 예상 골) 평균 수치\n",
        "<br><br>\n",
        "\n",
        "### ➰ 분석과정\n",
        "- 데이터 전처리하기\n",
        "- 팀 스탯 데이터 프레임에 추가할 컬럼 생성\n",
        "- 승점 데이터프레임 생성\n",
        "- 실제 승점과 비교분석하기\n",
        "\n"
      ]
    },
    {
      "cell_type": "markdown",
      "metadata": {
        "id": "BmGdoG-nMjJt"
      },
      "source": [
        "\n",
        "\n",
        "---\n",
        "\n"
      ]
    },
    {
      "cell_type": "markdown",
      "metadata": {
        "id": "tfsrYVm9Ml_-"
      },
      "source": [
        "### ⚽ 데이터 전처리하기"
      ]
    },
    {
      "cell_type": "markdown",
      "metadata": {
        "id": "rH1eiXgpMQzu"
      },
      "source": [
        "- 프로젝트를 진행하기 위해 필요한 라이브러리"
      ]
    },
    {
      "cell_type": "code",
      "execution_count": 1,
      "metadata": {
        "id": "DXvdFmcA8HjC"
      },
      "outputs": [],
      "source": [
        "import chardet # csv파일 인코딩 확인하기 위한 라이브러리\n",
        "\n",
        "import pandas as pd # 데이터프레임 생성을 위한 라이브러리\n",
        "import missingno as msno # 결측치 확인을 위한 라이브러리\n",
        "\n",
        "# 시각화를 위한 라이브러리\n",
        "import seaborn as sns \n",
        "import matplotlib.pyplot as plt\n",
        "\n",
        "# 코드 실행시 발생하는 경고를 무시하기 위함\n",
        "import warnings\n",
        "warnings.filterwarnings('ignore')"
      ]
    },
    {
      "cell_type": "markdown",
      "metadata": {
        "id": "dzoQOp1YMdgR"
      },
      "source": [
        "- 데이터 가져오기\n",
        ": 오류 발생, 오류 해결\n"
      ]
    },
    {
      "cell_type": "code",
      "execution_count": 2,
      "metadata": {
        "colab": {
          "base_uri": "https://localhost:8080/"
        },
        "id": "QW2dLlFKXuhU",
        "outputId": "4f603282-61eb-4ab6-90a9-444adc3e9904"
      },
      "outputs": [
        {
          "name": "stdout",
          "output_type": "stream",
          "text": [
            "에러 : 'utf-8' codec can't decode byte 0xa0 in position 169: invalid start byte\n"
          ]
        }
      ],
      "source": [
        "path = \"리그.csv\"\n",
        "\n",
        "try :\n",
        "    premier_league = pd.read_csv(path)\n",
        "    print(premier_league)\n",
        "except Exception as e: # 파일을 열었을 때 발생한 에러 출력\n",
        "    print(f'에러 : {e}')"
      ]
    },
    {
      "cell_type": "code",
      "execution_count": 3,
      "metadata": {
        "colab": {
          "base_uri": "https://localhost:8080/"
        },
        "id": "NR0vs5QNZAfv",
        "outputId": "855b9805-dacd-4466-f562-5e2f5c5ca982"
      },
      "outputs": [
        {
          "name": "stdout",
          "output_type": "stream",
          "text": [
            "{'encoding': 'Windows-1252', 'confidence': 0.7298079067727586, 'language': ''}\n",
            "Windows-1252\n"
          ]
        }
      ],
      "source": [
        "with open(path, 'rb')as f:\n",
        "    text = f.read()\n",
        "\n",
        "result = chardet.detect(text) # csv파일 내 정보 출력\n",
        "print(result)\n",
        "enc = result['encoding'] # encoding에 해당하는 부분을 출력했더니 \n",
        "print(enc) # Windows-1252임을 확인할 수 있음"
      ]
    },
    {
      "cell_type": "markdown",
      "metadata": {
        "id": "0N3CDw3_YMww"
      },
      "source": [
        "- 데이터 가져오기"
      ]
    },
    {
      "cell_type": "code",
      "execution_count": 4,
      "metadata": {
        "colab": {
          "base_uri": "https://localhost:8080/",
          "height": 0
        },
        "id": "NHXBfAYgMbrx",
        "outputId": "5d63f66a-2781-4127-fd9d-63d4200f32b4"
      },
      "outputs": [
        {
          "name": "stdout",
          "output_type": "stream",
          "text": [
            "(691, 30)\n"
          ]
        },
        {
          "data": {
            "text/html": [
              "<div>\n",
              "<style scoped>\n",
              "    .dataframe tbody tr th:only-of-type {\n",
              "        vertical-align: middle;\n",
              "    }\n",
              "\n",
              "    .dataframe tbody tr th {\n",
              "        vertical-align: top;\n",
              "    }\n",
              "\n",
              "    .dataframe thead th {\n",
              "        text-align: right;\n",
              "    }\n",
              "</style>\n",
              "<table border=\"1\" class=\"dataframe\">\n",
              "  <thead>\n",
              "    <tr style=\"text-align: right;\">\n",
              "      <th></th>\n",
              "      <th>Player</th>\n",
              "      <th>Team</th>\n",
              "      <th>Nation</th>\n",
              "      <th>Pos</th>\n",
              "      <th>Age</th>\n",
              "      <th>MP</th>\n",
              "      <th>Starts</th>\n",
              "      <th>Min</th>\n",
              "      <th>90s</th>\n",
              "      <th>Gls</th>\n",
              "      <th>Ast</th>\n",
              "      <th>G-PK</th>\n",
              "      <th>PK</th>\n",
              "      <th>PKatt</th>\n",
              "      <th>CrdY</th>\n",
              "      <th>CrdR</th>\n",
              "      <th>Gls.1</th>\n",
              "      <th>Ast.1</th>\n",
              "      <th>G+A</th>\n",
              "      <th>G-PK.1</th>\n",
              "      <th>G+A-PK</th>\n",
              "      <th>xG</th>\n",
              "      <th>npxG</th>\n",
              "      <th>xA</th>\n",
              "      <th>npxG+xA</th>\n",
              "      <th>xG.1</th>\n",
              "      <th>xA.1</th>\n",
              "      <th>xG+xA</th>\n",
              "      <th>npxG.1</th>\n",
              "      <th>npxG+xA.1</th>\n",
              "    </tr>\n",
              "  </thead>\n",
              "  <tbody>\n",
              "    <tr>\n",
              "      <th>0</th>\n",
              "      <td>Bukayo Saka</td>\n",
              "      <td>Arsenal</td>\n",
              "      <td>eng ENG</td>\n",
              "      <td>FW,MF</td>\n",
              "      <td>19.0</td>\n",
              "      <td>38</td>\n",
              "      <td>36</td>\n",
              "      <td>2,978</td>\n",
              "      <td>33.1</td>\n",
              "      <td>11.0</td>\n",
              "      <td>7.0</td>\n",
              "      <td>9.0</td>\n",
              "      <td>2.0</td>\n",
              "      <td>2.0</td>\n",
              "      <td>6.0</td>\n",
              "      <td>0.0</td>\n",
              "      <td>0.33</td>\n",
              "      <td>0.21</td>\n",
              "      <td>0.54</td>\n",
              "      <td>0.27</td>\n",
              "      <td>0.48</td>\n",
              "      <td>9.7</td>\n",
              "      <td>8.2</td>\n",
              "      <td>6.9</td>\n",
              "      <td>15.2</td>\n",
              "      <td>0.29</td>\n",
              "      <td>0.21</td>\n",
              "      <td>0.50</td>\n",
              "      <td>0.25</td>\n",
              "      <td>0.46</td>\n",
              "    </tr>\n",
              "    <tr>\n",
              "      <th>1</th>\n",
              "      <td>Gabriel Dos Santos</td>\n",
              "      <td>Arsenal</td>\n",
              "      <td>br BRA</td>\n",
              "      <td>DF</td>\n",
              "      <td>23.0</td>\n",
              "      <td>35</td>\n",
              "      <td>35</td>\n",
              "      <td>3,063</td>\n",
              "      <td>34.0</td>\n",
              "      <td>5.0</td>\n",
              "      <td>0.0</td>\n",
              "      <td>5.0</td>\n",
              "      <td>0.0</td>\n",
              "      <td>0.0</td>\n",
              "      <td>8.0</td>\n",
              "      <td>1.0</td>\n",
              "      <td>0.15</td>\n",
              "      <td>0.00</td>\n",
              "      <td>0.15</td>\n",
              "      <td>0.15</td>\n",
              "      <td>0.15</td>\n",
              "      <td>2.7</td>\n",
              "      <td>2.7</td>\n",
              "      <td>0.8</td>\n",
              "      <td>3.5</td>\n",
              "      <td>0.08</td>\n",
              "      <td>0.02</td>\n",
              "      <td>0.10</td>\n",
              "      <td>0.08</td>\n",
              "      <td>0.10</td>\n",
              "    </tr>\n",
              "    <tr>\n",
              "      <th>2</th>\n",
              "      <td>Aaron Ramsdale</td>\n",
              "      <td>Arsenal</td>\n",
              "      <td>eng ENG</td>\n",
              "      <td>GK</td>\n",
              "      <td>23.0</td>\n",
              "      <td>34</td>\n",
              "      <td>34</td>\n",
              "      <td>3,060</td>\n",
              "      <td>34.0</td>\n",
              "      <td>0.0</td>\n",
              "      <td>0.0</td>\n",
              "      <td>0.0</td>\n",
              "      <td>0.0</td>\n",
              "      <td>0.0</td>\n",
              "      <td>1.0</td>\n",
              "      <td>0.0</td>\n",
              "      <td>0.00</td>\n",
              "      <td>0.00</td>\n",
              "      <td>0.00</td>\n",
              "      <td>0.00</td>\n",
              "      <td>0.00</td>\n",
              "      <td>0.0</td>\n",
              "      <td>0.0</td>\n",
              "      <td>0.0</td>\n",
              "      <td>0.0</td>\n",
              "      <td>0.00</td>\n",
              "      <td>0.00</td>\n",
              "      <td>0.00</td>\n",
              "      <td>0.00</td>\n",
              "      <td>0.00</td>\n",
              "    </tr>\n",
              "    <tr>\n",
              "      <th>3</th>\n",
              "      <td>Ben White</td>\n",
              "      <td>Arsenal</td>\n",
              "      <td>eng ENG</td>\n",
              "      <td>DF</td>\n",
              "      <td>23.0</td>\n",
              "      <td>32</td>\n",
              "      <td>32</td>\n",
              "      <td>2,880</td>\n",
              "      <td>32.0</td>\n",
              "      <td>0.0</td>\n",
              "      <td>0.0</td>\n",
              "      <td>0.0</td>\n",
              "      <td>0.0</td>\n",
              "      <td>0.0</td>\n",
              "      <td>3.0</td>\n",
              "      <td>0.0</td>\n",
              "      <td>0.00</td>\n",
              "      <td>0.00</td>\n",
              "      <td>0.00</td>\n",
              "      <td>0.00</td>\n",
              "      <td>0.00</td>\n",
              "      <td>1.0</td>\n",
              "      <td>1.0</td>\n",
              "      <td>0.6</td>\n",
              "      <td>1.6</td>\n",
              "      <td>0.03</td>\n",
              "      <td>0.02</td>\n",
              "      <td>0.05</td>\n",
              "      <td>0.03</td>\n",
              "      <td>0.05</td>\n",
              "    </tr>\n",
              "    <tr>\n",
              "      <th>4</th>\n",
              "      <td>Martin Ødegaard</td>\n",
              "      <td>Arsenal</td>\n",
              "      <td>no NOR</td>\n",
              "      <td>MF</td>\n",
              "      <td>22.0</td>\n",
              "      <td>36</td>\n",
              "      <td>32</td>\n",
              "      <td>2,785</td>\n",
              "      <td>30.9</td>\n",
              "      <td>7.0</td>\n",
              "      <td>4.0</td>\n",
              "      <td>7.0</td>\n",
              "      <td>0.0</td>\n",
              "      <td>0.0</td>\n",
              "      <td>4.0</td>\n",
              "      <td>0.0</td>\n",
              "      <td>0.23</td>\n",
              "      <td>0.13</td>\n",
              "      <td>0.36</td>\n",
              "      <td>0.23</td>\n",
              "      <td>0.36</td>\n",
              "      <td>4.8</td>\n",
              "      <td>4.8</td>\n",
              "      <td>6.8</td>\n",
              "      <td>11.6</td>\n",
              "      <td>0.16</td>\n",
              "      <td>0.22</td>\n",
              "      <td>0.38</td>\n",
              "      <td>0.16</td>\n",
              "      <td>0.38</td>\n",
              "    </tr>\n",
              "  </tbody>\n",
              "</table>\n",
              "</div>"
            ],
            "text/plain": [
              "               Player     Team   Nation    Pos   Age  MP  Starts    Min   90s  \\\n",
              "0         Bukayo Saka  Arsenal  eng ENG  FW,MF  19.0  38      36  2,978  33.1   \n",
              "1  Gabriel Dos Santos  Arsenal   br BRA     DF  23.0  35      35  3,063  34.0   \n",
              "2      Aaron Ramsdale  Arsenal  eng ENG     GK  23.0  34      34  3,060  34.0   \n",
              "3           Ben White  Arsenal  eng ENG     DF  23.0  32      32  2,880  32.0   \n",
              "4     Martin Ødegaard  Arsenal   no NOR     MF  22.0  36      32  2,785  30.9   \n",
              "\n",
              "    Gls  Ast  G-PK   PK  PKatt  CrdY  CrdR  Gls.1  Ast.1   G+A  G-PK.1  \\\n",
              "0  11.0  7.0   9.0  2.0    2.0   6.0   0.0   0.33   0.21  0.54    0.27   \n",
              "1   5.0  0.0   5.0  0.0    0.0   8.0   1.0   0.15   0.00  0.15    0.15   \n",
              "2   0.0  0.0   0.0  0.0    0.0   1.0   0.0   0.00   0.00  0.00    0.00   \n",
              "3   0.0  0.0   0.0  0.0    0.0   3.0   0.0   0.00   0.00  0.00    0.00   \n",
              "4   7.0  4.0   7.0  0.0    0.0   4.0   0.0   0.23   0.13  0.36    0.23   \n",
              "\n",
              "   G+A-PK   xG  npxG   xA  npxG+xA  xG.1  xA.1  xG+xA  npxG.1  npxG+xA.1  \n",
              "0    0.48  9.7   8.2  6.9     15.2  0.29  0.21   0.50    0.25       0.46  \n",
              "1    0.15  2.7   2.7  0.8      3.5  0.08  0.02   0.10    0.08       0.10  \n",
              "2    0.00  0.0   0.0  0.0      0.0  0.00  0.00   0.00    0.00       0.00  \n",
              "3    0.00  1.0   1.0  0.6      1.6  0.03  0.02   0.05    0.03       0.05  \n",
              "4    0.36  4.8   4.8  6.8     11.6  0.16  0.22   0.38    0.16       0.38  "
            ]
          },
          "execution_count": 4,
          "metadata": {},
          "output_type": "execute_result"
        }
      ],
      "source": [
        "premier_league = pd.read_csv(path, encoding=\"Windows-1252\")\n",
        "# pandas를 이용하여 데이터 호출하기\n",
        "\n",
        "pd.set_option('display.max_rows', None)\n",
        "pd.set_option('display.max_columns', None)\n",
        "# 데이터가 잘리는 것 없이 확인하기 위함\n",
        "\n",
        "print(premier_league.shape) # 총 30개의 컬럼을 가진 691개의 데이터 확인 가능\n",
        "premier_league.head() # 데이터 확인"
      ]
    },
    {
      "cell_type": "markdown",
      "metadata": {
        "id": "uZY1Q2f3S-SU"
      },
      "source": [
        "- 데이터 프레임 내의 컬럼 설명"
      ]
    },
    {
      "cell_type": "markdown",
      "metadata": {
        "id": "auRE4GUzOfQY"
      },
      "source": [
        "\n",
        "\n",
        "||||데이터 컬럼 설명||||\n",
        "|---|---|---|---|---|---|---|\n",
        "|Player|플레이어의 이름|Team|2021-2020년에 활약한 클럽|Nation|플레이어의 국가|\n",
        "|Pos|포지션|Age|플레이어의 나이|MP|플레이한 경기|\n",
        "|starts|경기 시작|Min|재생 시간|90s|플레이 시간을 90으로 나눈 값|\n",
        "|Gls|득점 또는 허용된 골|AST|어시스트|G-PK|무승부 골|\n",
        "|PK|페널티킥|PKatt|승부차기 참가|CrdY|옐로우 카드|\n",
        "|CrdR|레드 카드|Gls|90분당 득점|Ast|90분당 어시스트|\n",
        "|G+A|90분당 골 및 어시스트|G-PK|90분당 득점에서 페널티킥을 뺀 횟수|G+A-PK|90분당 득점 + 어시스트 - 페널티 킥|\n",
        "|xG|예상 골|npxG|페널티 없는 예상 골|xA|예상 지원\n",
        "|npxG+xA|페널티 없는 예상 골 + 예상 어시스트|xG|90분당 예상 골|npxG|90분당 페널티 없는 예상 골|\n",
        "|xA|90분당 예상 어시스트|npxG+xA|페널티 없는 예상 골 + 90분당 예상 어시스트"
      ]
    },
    {
      "cell_type": "markdown",
      "metadata": {
        "id": "RKY1RmKnTD4j"
      },
      "source": [
        "- 사용할 컬럼만을 따로 담은 데이터 프레임 생성"
      ]
    },
    {
      "cell_type": "code",
      "execution_count": 5,
      "metadata": {
        "colab": {
          "base_uri": "https://localhost:8080/",
          "height": 0
        },
        "id": "uCA6n_TDOrQo",
        "outputId": "21c64e02-14a0-4a0f-ddb3-33023681fbde"
      },
      "outputs": [
        {
          "data": {
            "text/html": [
              "<div>\n",
              "<style scoped>\n",
              "    .dataframe tbody tr th:only-of-type {\n",
              "        vertical-align: middle;\n",
              "    }\n",
              "\n",
              "    .dataframe tbody tr th {\n",
              "        vertical-align: top;\n",
              "    }\n",
              "\n",
              "    .dataframe thead th {\n",
              "        text-align: right;\n",
              "    }\n",
              "</style>\n",
              "<table border=\"1\" class=\"dataframe\">\n",
              "  <thead>\n",
              "    <tr style=\"text-align: right;\">\n",
              "      <th></th>\n",
              "      <th>Team</th>\n",
              "      <th>Nation</th>\n",
              "      <th>Pos</th>\n",
              "      <th>Age</th>\n",
              "      <th>MP</th>\n",
              "      <th>Min</th>\n",
              "      <th>Gls</th>\n",
              "      <th>CrdY</th>\n",
              "      <th>CrdR</th>\n",
              "      <th>xG</th>\n",
              "    </tr>\n",
              "  </thead>\n",
              "  <tbody>\n",
              "    <tr>\n",
              "      <th>0</th>\n",
              "      <td>Arsenal</td>\n",
              "      <td>eng ENG</td>\n",
              "      <td>FW,MF</td>\n",
              "      <td>19.0</td>\n",
              "      <td>38</td>\n",
              "      <td>2,978</td>\n",
              "      <td>11.0</td>\n",
              "      <td>6.0</td>\n",
              "      <td>0.0</td>\n",
              "      <td>9.7</td>\n",
              "    </tr>\n",
              "    <tr>\n",
              "      <th>1</th>\n",
              "      <td>Arsenal</td>\n",
              "      <td>br BRA</td>\n",
              "      <td>DF</td>\n",
              "      <td>23.0</td>\n",
              "      <td>35</td>\n",
              "      <td>3,063</td>\n",
              "      <td>5.0</td>\n",
              "      <td>8.0</td>\n",
              "      <td>1.0</td>\n",
              "      <td>2.7</td>\n",
              "    </tr>\n",
              "    <tr>\n",
              "      <th>2</th>\n",
              "      <td>Arsenal</td>\n",
              "      <td>eng ENG</td>\n",
              "      <td>GK</td>\n",
              "      <td>23.0</td>\n",
              "      <td>34</td>\n",
              "      <td>3,060</td>\n",
              "      <td>0.0</td>\n",
              "      <td>1.0</td>\n",
              "      <td>0.0</td>\n",
              "      <td>0.0</td>\n",
              "    </tr>\n",
              "    <tr>\n",
              "      <th>3</th>\n",
              "      <td>Arsenal</td>\n",
              "      <td>eng ENG</td>\n",
              "      <td>DF</td>\n",
              "      <td>23.0</td>\n",
              "      <td>32</td>\n",
              "      <td>2,880</td>\n",
              "      <td>0.0</td>\n",
              "      <td>3.0</td>\n",
              "      <td>0.0</td>\n",
              "      <td>1.0</td>\n",
              "    </tr>\n",
              "    <tr>\n",
              "      <th>4</th>\n",
              "      <td>Arsenal</td>\n",
              "      <td>no NOR</td>\n",
              "      <td>MF</td>\n",
              "      <td>22.0</td>\n",
              "      <td>36</td>\n",
              "      <td>2,785</td>\n",
              "      <td>7.0</td>\n",
              "      <td>4.0</td>\n",
              "      <td>0.0</td>\n",
              "      <td>4.8</td>\n",
              "    </tr>\n",
              "  </tbody>\n",
              "</table>\n",
              "</div>"
            ],
            "text/plain": [
              "      Team   Nation    Pos   Age  MP    Min   Gls  CrdY  CrdR   xG\n",
              "0  Arsenal  eng ENG  FW,MF  19.0  38  2,978  11.0   6.0   0.0  9.7\n",
              "1  Arsenal   br BRA     DF  23.0  35  3,063   5.0   8.0   1.0  2.7\n",
              "2  Arsenal  eng ENG     GK  23.0  34  3,060   0.0   1.0   0.0  0.0\n",
              "3  Arsenal  eng ENG     DF  23.0  32  2,880   0.0   3.0   0.0  1.0\n",
              "4  Arsenal   no NOR     MF  22.0  36  2,785   7.0   4.0   0.0  4.8"
            ]
          },
          "execution_count": 5,
          "metadata": {},
          "output_type": "execute_result"
        }
      ],
      "source": [
        "R_PL = premier_league[[\"Team\",\t\"Nation\",\t\"Pos\", \"Age\", \"MP\",\t\"Min\",\t\"Gls\",\t\"CrdY\",\t\"CrdR\",\t\"xG\"]]\n",
        "# 사용할 컬럼만 따로 저장한 데이터프레임 생성\n",
        "\n",
        "R_PL.head() # 데이터 확인"
      ]
    },
    {
      "cell_type": "markdown",
      "metadata": {
        "id": "0Rl_euR9S0bF"
      },
      "source": [
        "- 결측치 확인"
      ]
    },
    {
      "cell_type": "code",
      "execution_count": 6,
      "metadata": {
        "colab": {
          "base_uri": "https://localhost:8080/",
          "height": 0
        },
        "id": "Iwxhr9Z3ir_4",
        "outputId": "744b8d74-2354-4e2b-fed5-1ce338ca53c2"
      },
      "outputs": [
        {
          "name": "stdout",
          "output_type": "stream",
          "text": [
            "column:       Team\t Percent of NaN value:0.00%\n",
            "column:     Nation\t Percent of NaN value:0.43%\n",
            "column:        Pos\t Percent of NaN value:0.00%\n",
            "column:        Age\t Percent of NaN value:0.58%\n",
            "column:         MP\t Percent of NaN value:0.00%\n",
            "column:        Min\t Percent of NaN value:20.98%\n",
            "column:        Gls\t Percent of NaN value:20.84%\n",
            "column:       CrdY\t Percent of NaN value:20.84%\n",
            "column:       CrdR\t Percent of NaN value:20.84%\n",
            "column:         xG\t Percent of NaN value:20.98%\n"
          ]
        },
        {
          "data": {
            "text/plain": [
              "<AxesSubplot:>"
            ]
          },
          "execution_count": 6,
          "metadata": {},
          "output_type": "execute_result"
        },
        {
          "data": {
            "image/png": "[encoded data removed]",
            "text/plain": [
              "<Figure size 360x360 with 2 Axes>"
            ]
          },
          "metadata": {
            "needs_background": "light"
          },
          "output_type": "display_data"
        }
      ],
      "source": [
        "for col in R_PL.columns:\n",
        "  msg = 'column: {:>10}\\t Percent of NaN value:{:.2f}%'.format(col, 100 * (premier_league[col].isnull().sum() / premier_league[col].shape[0]))\n",
        "  # isnull함수를 통해 결측치 비율 확인\n",
        "  \n",
        "  print(msg)\n",
        "\n",
        "msno.matrix(df = R_PL.iloc[:, :], figsize=(5, 5))\n",
        "# missingno 라이브러리를 통한 결측치 시각화"
      ]
    },
    {
      "cell_type": "markdown",
      "metadata": {
        "id": "mKfOJaHCTu2e"
      },
      "source": [
        "- 결측치 제거"
      ]
    },
    {
      "cell_type": "code",
      "execution_count": 7,
      "metadata": {
        "colab": {
          "base_uri": "https://localhost:8080/",
          "height": 0
        },
        "id": "5_4ea8EcioOr",
        "outputId": "14350daf-d18f-4004-823d-50e635d63e8a"
      },
      "outputs": [
        {
          "name": "stdout",
          "output_type": "stream",
          "text": [
            "결측치 제거 전 행 수 : 691\n",
            "결측치 제거 후 행 수 : 546\n"
          ]
        },
        {
          "data": {
            "text/html": [
              "<div>\n",
              "<style scoped>\n",
              "    .dataframe tbody tr th:only-of-type {\n",
              "        vertical-align: middle;\n",
              "    }\n",
              "\n",
              "    .dataframe tbody tr th {\n",
              "        vertical-align: top;\n",
              "    }\n",
              "\n",
              "    .dataframe thead th {\n",
              "        text-align: right;\n",
              "    }\n",
              "</style>\n",
              "<table border=\"1\" class=\"dataframe\">\n",
              "  <thead>\n",
              "    <tr style=\"text-align: right;\">\n",
              "      <th></th>\n",
              "      <th>Team</th>\n",
              "      <th>Nation</th>\n",
              "      <th>Pos</th>\n",
              "      <th>Age</th>\n",
              "      <th>MP</th>\n",
              "      <th>Min</th>\n",
              "      <th>Gls</th>\n",
              "      <th>CrdY</th>\n",
              "      <th>CrdR</th>\n",
              "      <th>xG</th>\n",
              "    </tr>\n",
              "  </thead>\n",
              "  <tbody>\n",
              "    <tr>\n",
              "      <th>0</th>\n",
              "      <td>Arsenal</td>\n",
              "      <td>eng ENG</td>\n",
              "      <td>FW,MF</td>\n",
              "      <td>19.0</td>\n",
              "      <td>38</td>\n",
              "      <td>2,978</td>\n",
              "      <td>11.0</td>\n",
              "      <td>6.0</td>\n",
              "      <td>0.0</td>\n",
              "      <td>9.7</td>\n",
              "    </tr>\n",
              "    <tr>\n",
              "      <th>1</th>\n",
              "      <td>Arsenal</td>\n",
              "      <td>br BRA</td>\n",
              "      <td>DF</td>\n",
              "      <td>23.0</td>\n",
              "      <td>35</td>\n",
              "      <td>3,063</td>\n",
              "      <td>5.0</td>\n",
              "      <td>8.0</td>\n",
              "      <td>1.0</td>\n",
              "      <td>2.7</td>\n",
              "    </tr>\n",
              "    <tr>\n",
              "      <th>2</th>\n",
              "      <td>Arsenal</td>\n",
              "      <td>eng ENG</td>\n",
              "      <td>GK</td>\n",
              "      <td>23.0</td>\n",
              "      <td>34</td>\n",
              "      <td>3,060</td>\n",
              "      <td>0.0</td>\n",
              "      <td>1.0</td>\n",
              "      <td>0.0</td>\n",
              "      <td>0.0</td>\n",
              "    </tr>\n",
              "    <tr>\n",
              "      <th>3</th>\n",
              "      <td>Arsenal</td>\n",
              "      <td>eng ENG</td>\n",
              "      <td>DF</td>\n",
              "      <td>23.0</td>\n",
              "      <td>32</td>\n",
              "      <td>2,880</td>\n",
              "      <td>0.0</td>\n",
              "      <td>3.0</td>\n",
              "      <td>0.0</td>\n",
              "      <td>1.0</td>\n",
              "    </tr>\n",
              "    <tr>\n",
              "      <th>4</th>\n",
              "      <td>Arsenal</td>\n",
              "      <td>no NOR</td>\n",
              "      <td>MF</td>\n",
              "      <td>22.0</td>\n",
              "      <td>36</td>\n",
              "      <td>2,785</td>\n",
              "      <td>7.0</td>\n",
              "      <td>4.0</td>\n",
              "      <td>0.0</td>\n",
              "      <td>4.8</td>\n",
              "    </tr>\n",
              "  </tbody>\n",
              "</table>\n",
              "</div>"
            ],
            "text/plain": [
              "      Team   Nation    Pos   Age  MP    Min   Gls  CrdY  CrdR   xG\n",
              "0  Arsenal  eng ENG  FW,MF  19.0  38  2,978  11.0   6.0   0.0  9.7\n",
              "1  Arsenal   br BRA     DF  23.0  35  3,063   5.0   8.0   1.0  2.7\n",
              "2  Arsenal  eng ENG     GK  23.0  34  3,060   0.0   1.0   0.0  0.0\n",
              "3  Arsenal  eng ENG     DF  23.0  32  2,880   0.0   3.0   0.0  1.0\n",
              "4  Arsenal   no NOR     MF  22.0  36  2,785   7.0   4.0   0.0  4.8"
            ]
          },
          "execution_count": 7,
          "metadata": {},
          "output_type": "execute_result"
        }
      ],
      "source": [
        "# 컬럼 min이 결측치에 해당하는 경우 행 제거\n",
        "\n",
        "print(f'결측치 제거 전 행 수 : {len(R_PL)}')\n",
        "\n",
        "not_a_number =  R_PL[R_PL[\"Min\"].isnull()==True].index  # 결측치에 해당하는 인덱스 추출\n",
        "\n",
        "R_PL.drop(not_a_number, inplace=True) # 결측치에 해당하는 행 제거\n",
        "R_PL.reset_index(drop=True, inplace=True) # 인덱스 정렬\n",
        "\n",
        "print(f'결측치 제거 후 행 수 : {len(R_PL)}')\n",
        "\n",
        "R_PL.head() # 데이터 확인\n"
      ]
    },
    {
      "cell_type": "markdown",
      "metadata": {
        "id": "naSHjdiWUjWu"
      },
      "source": [
        "- 추후 국가별 평균 득점률을 내기 위한 Nation컬럼 전처리\n",
        "<br>\n",
        ": 국가를 나타내는 맨 뒤의 대문자만 남기고 제거\n"
      ]
    },
    {
      "cell_type": "code",
      "execution_count": 8,
      "metadata": {
        "colab": {
          "base_uri": "https://localhost:8080/",
          "height": 0
        },
        "id": "sU4AljODV-b_",
        "outputId": "21fb7893-9155-4cbe-84c1-47f10d9d5c6d"
      },
      "outputs": [
        {
          "data": {
            "text/plain": [
              "'eng\\xa0ENG'"
            ]
          },
          "execution_count": 8,
          "metadata": {},
          "output_type": "execute_result"
        }
      ],
      "source": [
        "R_PL['Nation'][0] # Nation 데이터 확인"
      ]
    },
    {
      "cell_type": "code",
      "execution_count": 9,
      "metadata": {
        "colab": {
          "base_uri": "https://localhost:8080/",
          "height": 0
        },
        "id": "Bpx5QdRBcRzb",
        "outputId": "0cdf93f0-a3a4-4378-fbde-c93cf266cdcd"
      },
      "outputs": [
        {
          "data": {
            "text/html": [
              "<div>\n",
              "<style scoped>\n",
              "    .dataframe tbody tr th:only-of-type {\n",
              "        vertical-align: middle;\n",
              "    }\n",
              "\n",
              "    .dataframe tbody tr th {\n",
              "        vertical-align: top;\n",
              "    }\n",
              "\n",
              "    .dataframe thead th {\n",
              "        text-align: right;\n",
              "    }\n",
              "</style>\n",
              "<table border=\"1\" class=\"dataframe\">\n",
              "  <thead>\n",
              "    <tr style=\"text-align: right;\">\n",
              "      <th></th>\n",
              "      <th>Team</th>\n",
              "      <th>Nation</th>\n",
              "      <th>Pos</th>\n",
              "      <th>Age</th>\n",
              "      <th>MP</th>\n",
              "      <th>Min</th>\n",
              "      <th>Gls</th>\n",
              "      <th>CrdY</th>\n",
              "      <th>CrdR</th>\n",
              "      <th>xG</th>\n",
              "    </tr>\n",
              "  </thead>\n",
              "  <tbody>\n",
              "    <tr>\n",
              "      <th>0</th>\n",
              "      <td>Arsenal</td>\n",
              "      <td>ENG</td>\n",
              "      <td>FW,MF</td>\n",
              "      <td>19.0</td>\n",
              "      <td>38</td>\n",
              "      <td>2,978</td>\n",
              "      <td>11.0</td>\n",
              "      <td>6.0</td>\n",
              "      <td>0.0</td>\n",
              "      <td>9.7</td>\n",
              "    </tr>\n",
              "    <tr>\n",
              "      <th>1</th>\n",
              "      <td>Arsenal</td>\n",
              "      <td>BRA</td>\n",
              "      <td>DF</td>\n",
              "      <td>23.0</td>\n",
              "      <td>35</td>\n",
              "      <td>3,063</td>\n",
              "      <td>5.0</td>\n",
              "      <td>8.0</td>\n",
              "      <td>1.0</td>\n",
              "      <td>2.7</td>\n",
              "    </tr>\n",
              "    <tr>\n",
              "      <th>2</th>\n",
              "      <td>Arsenal</td>\n",
              "      <td>ENG</td>\n",
              "      <td>GK</td>\n",
              "      <td>23.0</td>\n",
              "      <td>34</td>\n",
              "      <td>3,060</td>\n",
              "      <td>0.0</td>\n",
              "      <td>1.0</td>\n",
              "      <td>0.0</td>\n",
              "      <td>0.0</td>\n",
              "    </tr>\n",
              "    <tr>\n",
              "      <th>3</th>\n",
              "      <td>Arsenal</td>\n",
              "      <td>ENG</td>\n",
              "      <td>DF</td>\n",
              "      <td>23.0</td>\n",
              "      <td>32</td>\n",
              "      <td>2,880</td>\n",
              "      <td>0.0</td>\n",
              "      <td>3.0</td>\n",
              "      <td>0.0</td>\n",
              "      <td>1.0</td>\n",
              "    </tr>\n",
              "    <tr>\n",
              "      <th>4</th>\n",
              "      <td>Arsenal</td>\n",
              "      <td>NOR</td>\n",
              "      <td>MF</td>\n",
              "      <td>22.0</td>\n",
              "      <td>36</td>\n",
              "      <td>2,785</td>\n",
              "      <td>7.0</td>\n",
              "      <td>4.0</td>\n",
              "      <td>0.0</td>\n",
              "      <td>4.8</td>\n",
              "    </tr>\n",
              "  </tbody>\n",
              "</table>\n",
              "</div>"
            ],
            "text/plain": [
              "      Team Nation    Pos   Age  MP    Min   Gls  CrdY  CrdR   xG\n",
              "0  Arsenal    ENG  FW,MF  19.0  38  2,978  11.0   6.0   0.0  9.7\n",
              "1  Arsenal    BRA     DF  23.0  35  3,063   5.0   8.0   1.0  2.7\n",
              "2  Arsenal    ENG     GK  23.0  34  3,060   0.0   1.0   0.0  0.0\n",
              "3  Arsenal    ENG     DF  23.0  32  2,880   0.0   3.0   0.0  1.0\n",
              "4  Arsenal    NOR     MF  22.0  36  2,785   7.0   4.0   0.0  4.8"
            ]
          },
          "execution_count": 9,
          "metadata": {},
          "output_type": "execute_result"
        }
      ],
      "source": [
        "# 국가 컬럼 전처리\n",
        "nation = R_PL['Nation'].copy()\n",
        "\n",
        "for i in range(len(nation)):\n",
        "    nation[i] = nation[i][-3:]\n",
        "    # nation 컬럼 데이터 내의 국가를 나타내는 맨 뒤의 대문자만 따로 추출\n",
        "\n",
        "R_PL['Nation'] = nation # R_PL 데이터 프레임 nation에 덮어씌우기\n",
        "\n",
        "R_PL.head() # 데이터 확인"
      ]
    },
    {
      "cell_type": "markdown",
      "metadata": {
        "id": "ohuCyplTV-_B"
      },
      "source": [
        "- 전처리가 완료된 데이터 프레임을 새로운 CSV로 변환하기"
      ]
    },
    {
      "cell_type": "code",
      "execution_count": 10,
      "metadata": {
        "id": "7o2xXYdjRyS_"
      },
      "outputs": [],
      "source": [
        "path = \"R_PL.csv\"\n",
        "\n",
        "R_PL.to_csv(path, index=False) # 데이터프레임 csv로 변환\n",
        "\n",
        "FB_DF = pd.read_csv(path) # 데이터 프레임 호출"
      ]
    },
    {
      "cell_type": "markdown",
      "metadata": {
        "id": "fu_MZryLWw1i"
      },
      "source": [
        "### ⚽ 팀 스탯 데이터 프레임에 추가할 컬럼 생성\n",
        "\n"
      ]
    },
    {
      "cell_type": "markdown",
      "metadata": {
        "id": "15lDo-EWeOLB"
      },
      "source": [
        "#####⭐ 팀별 득점수\n",
        "\n"
      ]
    },
    {
      "cell_type": "markdown",
      "metadata": {
        "id": "E8r3GIT00c0g"
      },
      "source": [
        "step1. Gls컬럼을 통해 팀 당 득점수 구하기"
      ]
    },
    {
      "cell_type": "code",
      "execution_count": 11,
      "metadata": {
        "colab": {
          "base_uri": "https://localhost:8080/",
          "height": 0
        },
        "id": "KpkL2uOl6RY-",
        "outputId": "a67111d7-42cf-4309-824f-34b4b79bea1e"
      },
      "outputs": [
        {
          "data": {
            "text/html": [
              "<div>\n",
              "<style scoped>\n",
              "    .dataframe tbody tr th:only-of-type {\n",
              "        vertical-align: middle;\n",
              "    }\n",
              "\n",
              "    .dataframe tbody tr th {\n",
              "        vertical-align: top;\n",
              "    }\n",
              "\n",
              "    .dataframe thead th {\n",
              "        text-align: right;\n",
              "    }\n",
              "</style>\n",
              "<table border=\"1\" class=\"dataframe\">\n",
              "  <thead>\n",
              "    <tr style=\"text-align: right;\">\n",
              "      <th></th>\n",
              "      <th>Team</th>\n",
              "      <th>Team_G</th>\n",
              "    </tr>\n",
              "  </thead>\n",
              "  <tbody>\n",
              "    <tr>\n",
              "      <th>0</th>\n",
              "      <td>Southampton</td>\n",
              "      <td>41.0</td>\n",
              "    </tr>\n",
              "    <tr>\n",
              "      <th>1</th>\n",
              "      <td>Leeds United</td>\n",
              "      <td>42.0</td>\n",
              "    </tr>\n",
              "    <tr>\n",
              "      <th>2</th>\n",
              "      <td>Wolverhampton Wanderers</td>\n",
              "      <td>35.0</td>\n",
              "    </tr>\n",
              "    <tr>\n",
              "      <th>3</th>\n",
              "      <td>Arsenal</td>\n",
              "      <td>60.0</td>\n",
              "    </tr>\n",
              "    <tr>\n",
              "      <th>4</th>\n",
              "      <td>Manchester United</td>\n",
              "      <td>56.0</td>\n",
              "    </tr>\n",
              "  </tbody>\n",
              "</table>\n",
              "</div>"
            ],
            "text/plain": [
              "                      Team  Team_G\n",
              "0              Southampton    41.0\n",
              "1             Leeds United    42.0\n",
              "2  Wolverhampton Wanderers    35.0\n",
              "3                  Arsenal    60.0\n",
              "4        Manchester United    56.0"
            ]
          },
          "execution_count": 11,
          "metadata": {},
          "output_type": "execute_result"
        }
      ],
      "source": [
        "team = list(set(FB_DF['Team']))\n",
        "# 팀 내 중복 제거한 데이터 확인\n",
        "\n",
        "team_G = {}\n",
        "for i in range(len(team)):\n",
        "    team_G[team[i]] = FB_DF[FB_DF['Team']==team[i]]['Gls'].sum()\n",
        "    # 팀명에 따른 팀별 득점 수 매치\n",
        "\n",
        "dict_ = {}\n",
        "dict_['Team'] = [i for i in team]\n",
        "dict_['Team_G'] = [i  for i in team_G.values()]\n",
        "\n",
        "teamrank = pd.DataFrame(dict_) \n",
        "# 팀 별 득점 수 딕셔너리 데이터 프레임 형태로 변환\n",
        "teamrank.head() # 데이터 확인"
      ]
    },
    {
      "cell_type": "markdown",
      "metadata": {
        "id": "HkdasARa0VXs"
      },
      "source": [
        "step2. 팀 별 평균 득점률 시각화"
      ]
    },
    {
      "cell_type": "code",
      "execution_count": 12,
      "metadata": {
        "colab": {
          "base_uri": "https://localhost:8080/",
          "height": 0
        },
        "id": "I5q4S8iz2vBG",
        "outputId": "1aa10003-efa9-493a-bb01-8790bb464325"
      },
      "outputs": [
        {
          "data": {
            "text/plain": [
              "<AxesSubplot:xlabel='Team_G', ylabel='Team'>"
            ]
          },
          "execution_count": 12,
          "metadata": {},
          "output_type": "execute_result"
        },
        {
          "data": {
            "image/png": "[encoded data removed]",
            "text/plain": [
              "<Figure size 432x288 with 1 Axes>"
            ]
          },
          "metadata": {
            "needs_background": "light"
          },
          "output_type": "display_data"
        }
      ],
      "source": [
        "teamrank = teamrank.sort_values(by=['Team_G'])\n",
        "# 팀 별 득점수 순위를 확인하기 위한 득점수 정렬\n",
        "\n",
        "sns.barplot(data = teamrank, y = 'Team', x = 'Team_G')\n",
        "# 막대그래프를 통한 데이터 시각화"
      ]
    },
    {
      "cell_type": "markdown",
      "metadata": {
        "id": "-Z4QBoDzefAT"
      },
      "source": [
        "#####⭐(공격수 + 미드필더)의 나이에 따른 평균 득점률"
      ]
    },
    {
      "cell_type": "markdown",
      "metadata": {
        "id": "tqhOFw8njMLA"
      },
      "source": [
        "step1. 주 득점원은 공격과 미드필더라고 판단하고 수비와 골키퍼는 해당 데이터에서 제외하기"
      ]
    },
    {
      "cell_type": "code",
      "execution_count": 13,
      "metadata": {
        "colab": {
          "base_uri": "https://localhost:8080/"
        },
        "id": "JlnswSTxg3rf",
        "outputId": "4ba26fb7-2063-4658-c052-5e34a9586d35"
      },
      "outputs": [
        {
          "name": "stdout",
          "output_type": "stream",
          "text": [
            "수비수 골키퍼 제외 전 : 546\n",
            "수비수 골키퍼 제외 후 : 319\n"
          ]
        }
      ],
      "source": [
        "fm = FB_DF.copy() # 데이터 프레임 copy\n",
        "print(f'수비수 골키퍼 제외 전 : {len(fm)}')\n",
        "\n",
        "# 수비수, 골키퍼 제외\n",
        "dg = fm[(fm['Pos']=='DF')|(fm['Pos']=='GK')].index\n",
        "fm.drop(dg,inplace = True)\n",
        "print(f'수비수 골키퍼 제외 후 : {len(fm)}')"
      ]
    },
    {
      "cell_type": "markdown",
      "metadata": {
        "id": "A8z8xdOQjvli"
      },
      "source": [
        "step2. Gls컬럼과 Age컬럼을 통해 나이별 득점 분포를 알아보고 나이별 평균 득점율 구하기<br>\n",
        ": (총 득점율/나이가 같은 선수 수)"
      ]
    },
    {
      "cell_type": "code",
      "execution_count": 14,
      "metadata": {
        "colab": {
          "base_uri": "https://localhost:8080/"
        },
        "id": "erHVl3eYjknb",
        "outputId": "c5224ec4-dff2-4c6b-e4b2-d45dabc79b20"
      },
      "outputs": [
        {
          "name": "stdout",
          "output_type": "stream",
          "text": [
            "나이별 평균 골수 : {16.0: 0.0, 17.0: 0.0, 18.0: 0.0, 19.0: 1.68, 20.0: 1.19, 21.0: 2.4, 22.0: 2.75, 23.0: 2.13, 24.0: 5.1, 25.0: 2.7, 26.0: 3.45, 27.0: 1.31, 28.0: 4.18, 29.0: 5.32, 30.0: 3.63, 31.0: 2.21, 32.0: 1.17, 33.0: 0.0, 34.0: 3.43, 35.0: 0.0, 36.0: 6.67}\n"
          ]
        }
      ],
      "source": [
        "ages = list(set((fm['Age']))) # 나이 중복 제거\n",
        "\n",
        "gls_rate = {} # 비어있는 딕셔너리 생성\n",
        "\n",
        "for i in range(len(ages)):\n",
        "    age_per_gls =round(fm[fm['Age'] == ages[i]]['Gls'].sum()/len(fm[fm['Age'] == ages[i]]),2)\n",
        "    gls_rate[ages[i]] = age_per_gls\n",
        "    # gls_rate 딕셔너리 내에 나이에 따른 평균 득점 수 할당\n",
        "\n",
        "print(f'나이별 평균 골수 : {gls_rate}') # 나이별 평균 골수\n"
      ]
    },
    {
      "cell_type": "code",
      "execution_count": 15,
      "metadata": {
        "colab": {
          "base_uri": "https://localhost:8080/",
          "height": 206
        },
        "id": "wvEftvf5xKlb",
        "outputId": "840f1192-7d6b-444f-f1e4-9fce87a6d3ac"
      },
      "outputs": [
        {
          "data": {
            "text/html": [
              "<div>\n",
              "<style scoped>\n",
              "    .dataframe tbody tr th:only-of-type {\n",
              "        vertical-align: middle;\n",
              "    }\n",
              "\n",
              "    .dataframe tbody tr th {\n",
              "        vertical-align: top;\n",
              "    }\n",
              "\n",
              "    .dataframe thead th {\n",
              "        text-align: right;\n",
              "    }\n",
              "</style>\n",
              "<table border=\"1\" class=\"dataframe\">\n",
              "  <thead>\n",
              "    <tr style=\"text-align: right;\">\n",
              "      <th></th>\n",
              "      <th>Age</th>\n",
              "      <th>GPA</th>\n",
              "    </tr>\n",
              "  </thead>\n",
              "  <tbody>\n",
              "    <tr>\n",
              "      <th>0</th>\n",
              "      <td>16.0</td>\n",
              "      <td>0.00</td>\n",
              "    </tr>\n",
              "    <tr>\n",
              "      <th>1</th>\n",
              "      <td>17.0</td>\n",
              "      <td>0.00</td>\n",
              "    </tr>\n",
              "    <tr>\n",
              "      <th>2</th>\n",
              "      <td>18.0</td>\n",
              "      <td>0.00</td>\n",
              "    </tr>\n",
              "    <tr>\n",
              "      <th>3</th>\n",
              "      <td>19.0</td>\n",
              "      <td>1.68</td>\n",
              "    </tr>\n",
              "    <tr>\n",
              "      <th>4</th>\n",
              "      <td>20.0</td>\n",
              "      <td>1.19</td>\n",
              "    </tr>\n",
              "  </tbody>\n",
              "</table>\n",
              "</div>"
            ],
            "text/plain": [
              "    Age   GPA\n",
              "0  16.0  0.00\n",
              "1  17.0  0.00\n",
              "2  18.0  0.00\n",
              "3  19.0  1.68\n",
              "4  20.0  1.19"
            ]
          },
          "execution_count": 15,
          "metadata": {},
          "output_type": "execute_result"
        }
      ],
      "source": [
        "dict_ = {}\n",
        "dict_['Age'] = [i for i in gls_rate.keys()]\n",
        "dict_['GPA'] = [i  for i in gls_rate.values()]\n",
        "# 비어 있는 딕셔너리에 Age와 GPA key 내에 나이별 평균 골수 대한 key, value 할당\n",
        "\n",
        "age_per_gls = pd.DataFrame(dict_)\n",
        "# 나이별 평균 골수 딕셔너리 데이터 프레임 형태로 변환\n",
        "\n",
        "age_per_gls.head() # 데이터 확인"
      ]
    },
    {
      "cell_type": "code",
      "execution_count": 16,
      "metadata": {
        "colab": {
          "base_uri": "https://localhost:8080/",
          "height": 206
        },
        "id": "5IXfKq_Qm7Yc",
        "outputId": "a034aa0a-fef6-49b5-e484-d03f5adc6fd3"
      },
      "outputs": [
        {
          "data": {
            "text/html": [
              "<div>\n",
              "<style scoped>\n",
              "    .dataframe tbody tr th:only-of-type {\n",
              "        vertical-align: middle;\n",
              "    }\n",
              "\n",
              "    .dataframe tbody tr th {\n",
              "        vertical-align: top;\n",
              "    }\n",
              "\n",
              "    .dataframe thead th {\n",
              "        text-align: right;\n",
              "    }\n",
              "</style>\n",
              "<table border=\"1\" class=\"dataframe\">\n",
              "  <thead>\n",
              "    <tr style=\"text-align: right;\">\n",
              "      <th></th>\n",
              "      <th>Age</th>\n",
              "      <th>GPA</th>\n",
              "    </tr>\n",
              "  </thead>\n",
              "  <tbody>\n",
              "    <tr>\n",
              "      <th>0</th>\n",
              "      <td>19.0</td>\n",
              "      <td>1.68</td>\n",
              "    </tr>\n",
              "    <tr>\n",
              "      <th>1</th>\n",
              "      <td>19.0</td>\n",
              "      <td>1.68</td>\n",
              "    </tr>\n",
              "    <tr>\n",
              "      <th>2</th>\n",
              "      <td>19.0</td>\n",
              "      <td>1.68</td>\n",
              "    </tr>\n",
              "    <tr>\n",
              "      <th>3</th>\n",
              "      <td>19.0</td>\n",
              "      <td>1.68</td>\n",
              "    </tr>\n",
              "    <tr>\n",
              "      <th>4</th>\n",
              "      <td>19.0</td>\n",
              "      <td>1.68</td>\n",
              "    </tr>\n",
              "  </tbody>\n",
              "</table>\n",
              "</div>"
            ],
            "text/plain": [
              "    Age   GPA\n",
              "0  19.0  1.68\n",
              "1  19.0  1.68\n",
              "2  19.0  1.68\n",
              "3  19.0  1.68\n",
              "4  19.0  1.68"
            ]
          },
          "execution_count": 16,
          "metadata": {},
          "output_type": "execute_result"
        }
      ],
      "source": [
        "fm = pd.merge(fm,age_per_gls,how='inner', on='Age') \n",
        "# merge를 사용하여 원래 데이터 프레임에 합치기\n",
        "\n",
        "fm[['Age','GPA']].head() # 특정 컬럼의 데이터 확인"
      ]
    },
    {
      "cell_type": "code",
      "execution_count": 17,
      "metadata": {
        "colab": {
          "base_uri": "https://localhost:8080/",
          "height": 206
        },
        "id": "EmSVWKEgnhzL",
        "outputId": "fea14aba-ba5e-4af2-ea4b-87457e773e79"
      },
      "outputs": [
        {
          "data": {
            "text/html": [
              "<div>\n",
              "<style scoped>\n",
              "    .dataframe tbody tr th:only-of-type {\n",
              "        vertical-align: middle;\n",
              "    }\n",
              "\n",
              "    .dataframe tbody tr th {\n",
              "        vertical-align: top;\n",
              "    }\n",
              "\n",
              "    .dataframe thead th {\n",
              "        text-align: right;\n",
              "    }\n",
              "</style>\n",
              "<table border=\"1\" class=\"dataframe\">\n",
              "  <thead>\n",
              "    <tr style=\"text-align: right;\">\n",
              "      <th></th>\n",
              "      <th>Team</th>\n",
              "      <th>Nation</th>\n",
              "      <th>Pos</th>\n",
              "      <th>Age</th>\n",
              "      <th>MP</th>\n",
              "      <th>Min</th>\n",
              "      <th>Gls</th>\n",
              "      <th>CrdY</th>\n",
              "      <th>CrdR</th>\n",
              "      <th>xG</th>\n",
              "      <th>GPA</th>\n",
              "    </tr>\n",
              "  </thead>\n",
              "  <tbody>\n",
              "    <tr>\n",
              "      <th>0</th>\n",
              "      <td>Arsenal</td>\n",
              "      <td>ENG</td>\n",
              "      <td>FW,MF</td>\n",
              "      <td>19.0</td>\n",
              "      <td>38</td>\n",
              "      <td>2,978</td>\n",
              "      <td>11.0</td>\n",
              "      <td>6.0</td>\n",
              "      <td>0.0</td>\n",
              "      <td>9.7</td>\n",
              "      <td>1.68</td>\n",
              "    </tr>\n",
              "    <tr>\n",
              "      <th>1</th>\n",
              "      <td>Aston Villa</td>\n",
              "      <td>ENG</td>\n",
              "      <td>MF,FW</td>\n",
              "      <td>19.0</td>\n",
              "      <td>3</td>\n",
              "      <td>27</td>\n",
              "      <td>0.0</td>\n",
              "      <td>0.0</td>\n",
              "      <td>0.0</td>\n",
              "      <td>0.0</td>\n",
              "      <td>1.68</td>\n",
              "    </tr>\n",
              "    <tr>\n",
              "      <th>2</th>\n",
              "      <td>Aston Villa</td>\n",
              "      <td>ENG</td>\n",
              "      <td>FW</td>\n",
              "      <td>19.0</td>\n",
              "      <td>1</td>\n",
              "      <td>5</td>\n",
              "      <td>0.0</td>\n",
              "      <td>0.0</td>\n",
              "      <td>0.0</td>\n",
              "      <td>0.0</td>\n",
              "      <td>1.68</td>\n",
              "    </tr>\n",
              "    <tr>\n",
              "      <th>3</th>\n",
              "      <td>Brighton &amp; Hove Albion</td>\n",
              "      <td>ECU</td>\n",
              "      <td>MF</td>\n",
              "      <td>19.0</td>\n",
              "      <td>8</td>\n",
              "      <td>660</td>\n",
              "      <td>1.0</td>\n",
              "      <td>2.0</td>\n",
              "      <td>0.0</td>\n",
              "      <td>0.8</td>\n",
              "      <td>1.68</td>\n",
              "    </tr>\n",
              "    <tr>\n",
              "      <th>4</th>\n",
              "      <td>Brighton &amp; Hove Albion</td>\n",
              "      <td>ECU</td>\n",
              "      <td>FW,MF</td>\n",
              "      <td>19.0</td>\n",
              "      <td>5</td>\n",
              "      <td>48</td>\n",
              "      <td>0.0</td>\n",
              "      <td>0.0</td>\n",
              "      <td>0.0</td>\n",
              "      <td>0.0</td>\n",
              "      <td>1.68</td>\n",
              "    </tr>\n",
              "  </tbody>\n",
              "</table>\n",
              "</div>"
            ],
            "text/plain": [
              "                     Team Nation    Pos   Age  MP    Min   Gls  CrdY  CrdR  \\\n",
              "0                 Arsenal    ENG  FW,MF  19.0  38  2,978  11.0   6.0   0.0   \n",
              "1             Aston Villa    ENG  MF,FW  19.0   3     27   0.0   0.0   0.0   \n",
              "2             Aston Villa    ENG     FW  19.0   1      5   0.0   0.0   0.0   \n",
              "3  Brighton & Hove Albion    ECU     MF  19.0   8    660   1.0   2.0   0.0   \n",
              "4  Brighton & Hove Albion    ECU  FW,MF  19.0   5     48   0.0   0.0   0.0   \n",
              "\n",
              "    xG   GPA  \n",
              "0  9.7  1.68  \n",
              "1  0.0  1.68  \n",
              "2  0.0  1.68  \n",
              "3  0.8  1.68  \n",
              "4  0.0  1.68  "
            ]
          },
          "execution_count": 17,
          "metadata": {},
          "output_type": "execute_result"
        }
      ],
      "source": [
        "fm.head() # 전체 데이터 확인"
      ]
    },
    {
      "cell_type": "markdown",
      "metadata": {
        "id": "WGOpbIpSj-ZG"
      },
      "source": [
        "step3. 팀별 나이를 조사하고 알아낸 나이별 득점율을 통해 팀별 나이에 따른 득점률\n",
        "<br>\n",
        ": ((나이가 같은 인원* 나이에 따른 득점율)의 합/팀 인원 수) 계산하여 데이터프레임 만들기\n"
      ]
    },
    {
      "cell_type": "code",
      "execution_count": 18,
      "metadata": {
        "colab": {
          "base_uri": "https://localhost:8080/"
        },
        "id": "Psregqrvj8pP",
        "outputId": "783a5c76-e8cb-4b44-909d-7dace2bfc1a4"
      },
      "outputs": [
        {
          "name": "stdout",
          "output_type": "stream",
          "text": [
            "팀별 나이 분포에 따른 평균 득점율 : {'Southampton': 3.07, 'Leeds United': 2.45, 'Wolverhampton Wanderers': 2.62, 'Arsenal': 2.72, 'Manchester United': 2.64, 'Newcastle United': 3.66, 'Leicester City': 3.32, 'Chelsea': 2.94, 'Burnley': 3.08, 'Aston Villa': 2.95, 'Manchester City': 2.76, 'Norwich City': 2.23, 'Brighton & Hove Albion': 2.34, 'Watford': 2.46, 'Tottenham Hotspur': 2.97, 'Crystal Palace': 3.01, 'Liverpool': 2.72, 'Everton': 2.73, 'Brentford': 2.42, 'West Ham United': 2.57}\n"
          ]
        }
      ],
      "source": [
        "team =list(set(fm['Team'])) #팀 리스트\n",
        "\n",
        "gls_per_team = {}\n",
        "for i in team:\n",
        "    gls_per_team[i] = (round(fm[fm['Team']==i]['GPA'].sum()/len(fm[fm['Team']==i]),2))\n",
        "    # 팀의 나이에 따른 득점율 = 팀별 평균골수의 합/팀 인원수\n",
        "\n",
        "print(f'팀별 나이 분포에 따른 평균 득점율 : {gls_per_team}')\n",
        "\n",
        "dict_ = {}\n",
        "dict_['Team'] = [i for i in gls_per_team.keys()]\n",
        "dict_['Team_A'] = [i  for i in gls_per_team.values()]\n",
        "# 데이터 프레임 형태로 만들기 위해 딕셔너리 내에 gls_per_team의 key, value값 할당하기"
      ]
    },
    {
      "cell_type": "code",
      "execution_count": 19,
      "metadata": {
        "colab": {
          "base_uri": "https://localhost:8080/",
          "height": 206
        },
        "id": "OJD3hNc5o5qk",
        "outputId": "eda5c994-6505-4e97-8055-934f1f9c54c0"
      },
      "outputs": [
        {
          "data": {
            "text/html": [
              "<div>\n",
              "<style scoped>\n",
              "    .dataframe tbody tr th:only-of-type {\n",
              "        vertical-align: middle;\n",
              "    }\n",
              "\n",
              "    .dataframe tbody tr th {\n",
              "        vertical-align: top;\n",
              "    }\n",
              "\n",
              "    .dataframe thead th {\n",
              "        text-align: right;\n",
              "    }\n",
              "</style>\n",
              "<table border=\"1\" class=\"dataframe\">\n",
              "  <thead>\n",
              "    <tr style=\"text-align: right;\">\n",
              "      <th></th>\n",
              "      <th>Team</th>\n",
              "      <th>Team_A</th>\n",
              "    </tr>\n",
              "  </thead>\n",
              "  <tbody>\n",
              "    <tr>\n",
              "      <th>0</th>\n",
              "      <td>Southampton</td>\n",
              "      <td>3.07</td>\n",
              "    </tr>\n",
              "    <tr>\n",
              "      <th>1</th>\n",
              "      <td>Leeds United</td>\n",
              "      <td>2.45</td>\n",
              "    </tr>\n",
              "    <tr>\n",
              "      <th>2</th>\n",
              "      <td>Wolverhampton Wanderers</td>\n",
              "      <td>2.62</td>\n",
              "    </tr>\n",
              "    <tr>\n",
              "      <th>3</th>\n",
              "      <td>Arsenal</td>\n",
              "      <td>2.72</td>\n",
              "    </tr>\n",
              "    <tr>\n",
              "      <th>4</th>\n",
              "      <td>Manchester United</td>\n",
              "      <td>2.64</td>\n",
              "    </tr>\n",
              "  </tbody>\n",
              "</table>\n",
              "</div>"
            ],
            "text/plain": [
              "                      Team  Team_A\n",
              "0              Southampton    3.07\n",
              "1             Leeds United    2.45\n",
              "2  Wolverhampton Wanderers    2.62\n",
              "3                  Arsenal    2.72\n",
              "4        Manchester United    2.64"
            ]
          },
          "execution_count": 19,
          "metadata": {},
          "output_type": "execute_result"
        }
      ],
      "source": [
        "team_A = pd.DataFrame(dict_)  # 나이별 평균 골수 컬럼을 추가한 팀 스탯 데이터 프레임 생성\n",
        "team_A.head() # 데이터 확인"
      ]
    },
    {
      "cell_type": "code",
      "execution_count": 20,
      "metadata": {
        "colab": {
          "base_uri": "https://localhost:8080/",
          "height": 206
        },
        "id": "YC6CBkUu4PWk",
        "outputId": "13967cec-3dd2-49ea-d6c4-b5b05522ce7c"
      },
      "outputs": [
        {
          "data": {
            "text/html": [
              "<div>\n",
              "<style scoped>\n",
              "    .dataframe tbody tr th:only-of-type {\n",
              "        vertical-align: middle;\n",
              "    }\n",
              "\n",
              "    .dataframe tbody tr th {\n",
              "        vertical-align: top;\n",
              "    }\n",
              "\n",
              "    .dataframe thead th {\n",
              "        text-align: right;\n",
              "    }\n",
              "</style>\n",
              "<table border=\"1\" class=\"dataframe\">\n",
              "  <thead>\n",
              "    <tr style=\"text-align: right;\">\n",
              "      <th></th>\n",
              "      <th>Team</th>\n",
              "      <th>Team_G</th>\n",
              "      <th>Team_A</th>\n",
              "    </tr>\n",
              "  </thead>\n",
              "  <tbody>\n",
              "    <tr>\n",
              "      <th>0</th>\n",
              "      <td>Norwich City</td>\n",
              "      <td>21.0</td>\n",
              "      <td>2.23</td>\n",
              "    </tr>\n",
              "    <tr>\n",
              "      <th>1</th>\n",
              "      <td>Burnley</td>\n",
              "      <td>32.0</td>\n",
              "      <td>3.08</td>\n",
              "    </tr>\n",
              "    <tr>\n",
              "      <th>2</th>\n",
              "      <td>Watford</td>\n",
              "      <td>33.0</td>\n",
              "      <td>2.46</td>\n",
              "    </tr>\n",
              "    <tr>\n",
              "      <th>3</th>\n",
              "      <td>Wolverhampton Wanderers</td>\n",
              "      <td>35.0</td>\n",
              "      <td>2.62</td>\n",
              "    </tr>\n",
              "    <tr>\n",
              "      <th>4</th>\n",
              "      <td>Brighton &amp; Hove Albion</td>\n",
              "      <td>40.0</td>\n",
              "      <td>2.34</td>\n",
              "    </tr>\n",
              "  </tbody>\n",
              "</table>\n",
              "</div>"
            ],
            "text/plain": [
              "                      Team  Team_G  Team_A\n",
              "0             Norwich City    21.0    2.23\n",
              "1                  Burnley    32.0    3.08\n",
              "2                  Watford    33.0    2.46\n",
              "3  Wolverhampton Wanderers    35.0    2.62\n",
              "4   Brighton & Hove Albion    40.0    2.34"
            ]
          },
          "execution_count": 20,
          "metadata": {},
          "output_type": "execute_result"
        }
      ],
      "source": [
        "teamrank = pd.merge(teamrank,team_A,how= 'inner', on='Team')\n",
        "# 팀별 데이터프레임에 추가\n",
        "\n",
        "teamrank.head() # 데이터 확인"
      ]
    },
    {
      "cell_type": "markdown",
      "metadata": {
        "id": "JqFG1chx4ANV"
      },
      "source": [
        "step4. 팀 별 나이에 따른 평균 득점률 시각화"
      ]
    },
    {
      "cell_type": "code",
      "execution_count": 21,
      "metadata": {
        "colab": {
          "base_uri": "https://localhost:8080/",
          "height": 298
        },
        "id": "18xxAmKd3_67",
        "outputId": "d8d09055-227b-4d7e-f8e9-d76e9fc30e1a"
      },
      "outputs": [
        {
          "data": {
            "text/plain": [
              "<AxesSubplot:xlabel='Team_A', ylabel='Team'>"
            ]
          },
          "execution_count": 21,
          "metadata": {},
          "output_type": "execute_result"
        },
        {
          "data": {
            "image/png": "[encoded data removed]",
            "text/plain": [
              "<Figure size 432x288 with 1 Axes>"
            ]
          },
          "metadata": {
            "needs_background": "light"
          },
          "output_type": "display_data"
        }
      ],
      "source": [
        "team_a = team_A.sort_values(by=['Team_A'])\n",
        "# 팀 별 나이에 따른 평균 득점률 순위를 확인하기 위한 득점률 정렬\n",
        "\n",
        "sns.barplot(data = team_a, y = 'Team', x = 'Team_A')\n",
        "# 막대그래프를 통한 데이터 시각화"
      ]
    },
    {
      "cell_type": "markdown",
      "metadata": {
        "id": "QkYn_jK9ee32"
      },
      "source": [
        "\n",
        "#####⭐(공격수 + 미드필더) 국적에 따른 평균 득점률\n"
      ]
    },
    {
      "cell_type": "markdown",
      "metadata": {
        "id": "X8u-GZDoyajB"
      },
      "source": [
        "step1. Gls컬럼과 Age컬럼을 통해 국가별 득점 분포를 알아보고 국가별 평균 득점율 구하기 <br>\n",
        ": (총 득점율/국가가 같은 선수 수)\n",
        "\n",
        ": 주 득점원은 공격과 미드필더라고 판단하고 앞서 수비와 골키퍼가 제외된 fm 데이터프레임 사용"
      ]
    },
    {
      "cell_type": "code",
      "execution_count": 22,
      "metadata": {
        "colab": {
          "base_uri": "https://localhost:8080/"
        },
        "id": "ICJ6cDfXxvJn",
        "outputId": "902e379b-8866-47e3-cd7e-ec9e0275094c"
      },
      "outputs": [
        {
          "name": "stdout",
          "output_type": "stream",
          "text": [
            "국가별 평균 골수 :{'ARG': 3.5, 'GHA': 3.0, 'MLI': 1.0, 'SUI': 1.0, 'BEL': 5.75, 'ENG': 2.34, 'CZE': 2.33, 'SEN': 5.25, 'VEN': 1.0, 'NIR': 0.5, 'IRL': 0.5, 'CRO': 1.5, 'NOR': 4.25, 'ALG': 9.5, 'NGA': 2.75, 'USA': 4.0, 'COL': 3.0, 'WAL': 1.25, 'NZL': 2.5, 'POR': 5.17, 'GUI': 3.0, 'MAR': 2.0, 'MEX': 6.0, 'ECU': 0.5, 'DEN': 1.0, 'GAB': 4.0, 'TUR': 0.0, 'UKR': 1.0, 'KOR': 14.0, 'URU': 1.0, 'CIV': 6.0, 'BRA': 4.24, 'JAM': 5.5, 'KVX': 1.0, 'JPN': 3.0, 'ZIM': 0.0, 'IRN': 1.0, 'ANG': 0.0, 'POL': 0.33, 'SRB': 0.0, 'ALB': 6.0, 'TUN': 0.0, 'ZAM': 3.5, 'SCO': 1.6, 'BFA': 0.0, 'ESP': 2.25, 'GRE': 0.0, 'COD': 2.67, 'ITA': 3.0, 'ISL': 0.0, 'PAR': 1.0, 'EGY': 7.67, 'SVK': 1.0, 'SWE': 2.33, 'GRN': 1.0, 'FRA': 2.62, 'GER': 3.71, 'NED': 0.89, 'FIN': 5.5}\n"
          ]
        }
      ],
      "source": [
        "nations = list(set((fm['Nation']))) # 국가 중복 제거\n",
        "\n",
        "gls_rate = {}\n",
        "\n",
        "for i in range(len(nations)):\n",
        "    Nation_per_gls =round(fm[fm['Nation'] == nations[i]]['Gls'].sum()/len(fm[fm['Nation'] == nations[i]]),2)\n",
        "    gls_rate[nations[i]] = Nation_per_gls\n",
        "    # gls_rate 국가별 평균 골수를 할당함(총 득점율/국가가 같은 선수 수)\n",
        "    \n",
        "print(f'국가별 평균 골수 :{gls_rate}') # 국가 별 평균 골수\n",
        "\n",
        "dict_ = {}\n",
        "dict_['Nation'] = [i for i in gls_rate.keys()]\n",
        "dict_['GPA_N'] = [i  for i in gls_rate.values()]\n",
        "# 데이터 프레임 형태로 만들기 위해 딕셔너리 내에 gls_rate의 key, value값 할당하기"
      ]
    },
    {
      "cell_type": "code",
      "execution_count": 23,
      "metadata": {
        "colab": {
          "base_uri": "https://localhost:8080/",
          "height": 0
        },
        "id": "kYHX4VoH3SlE",
        "outputId": "e5d3c06a-c3ab-42c1-c0d7-295adc5696d9"
      },
      "outputs": [
        {
          "data": {
            "text/html": [
              "<div>\n",
              "<style scoped>\n",
              "    .dataframe tbody tr th:only-of-type {\n",
              "        vertical-align: middle;\n",
              "    }\n",
              "\n",
              "    .dataframe tbody tr th {\n",
              "        vertical-align: top;\n",
              "    }\n",
              "\n",
              "    .dataframe thead th {\n",
              "        text-align: right;\n",
              "    }\n",
              "</style>\n",
              "<table border=\"1\" class=\"dataframe\">\n",
              "  <thead>\n",
              "    <tr style=\"text-align: right;\">\n",
              "      <th></th>\n",
              "      <th>Nation</th>\n",
              "      <th>GPA_N</th>\n",
              "    </tr>\n",
              "  </thead>\n",
              "  <tbody>\n",
              "    <tr>\n",
              "      <th>0</th>\n",
              "      <td>ENG</td>\n",
              "      <td>2.34</td>\n",
              "    </tr>\n",
              "    <tr>\n",
              "      <th>1</th>\n",
              "      <td>ENG</td>\n",
              "      <td>2.34</td>\n",
              "    </tr>\n",
              "    <tr>\n",
              "      <th>2</th>\n",
              "      <td>ENG</td>\n",
              "      <td>2.34</td>\n",
              "    </tr>\n",
              "    <tr>\n",
              "      <th>3</th>\n",
              "      <td>ENG</td>\n",
              "      <td>2.34</td>\n",
              "    </tr>\n",
              "    <tr>\n",
              "      <th>4</th>\n",
              "      <td>ENG</td>\n",
              "      <td>2.34</td>\n",
              "    </tr>\n",
              "  </tbody>\n",
              "</table>\n",
              "</div>"
            ],
            "text/plain": [
              "  Nation  GPA_N\n",
              "0    ENG   2.34\n",
              "1    ENG   2.34\n",
              "2    ENG   2.34\n",
              "3    ENG   2.34\n",
              "4    ENG   2.34"
            ]
          },
          "execution_count": 23,
          "metadata": {},
          "output_type": "execute_result"
        }
      ],
      "source": [
        "Nation_per_gls = pd.DataFrame(dict_)\n",
        "Nation_per_gls.head() # 국적별 평균 골수 데이터 프레임\n",
        "\n",
        "fm = pd.merge(fm , Nation_per_gls,how='inner', on='Nation')\n",
        "# Team 컬럼을 기준으로 데이터 프레임 합치기\n",
        "\n",
        "fm[['Nation','GPA_N']].head() # 데이터 확인"
      ]
    },
    {
      "cell_type": "code",
      "execution_count": 24,
      "metadata": {
        "colab": {
          "base_uri": "https://localhost:8080/",
          "height": 0
        },
        "id": "2AoNRlDM3uf-",
        "outputId": "43ab87e7-aaa1-409e-b434-d7b161534452"
      },
      "outputs": [
        {
          "data": {
            "text/html": [
              "<div>\n",
              "<style scoped>\n",
              "    .dataframe tbody tr th:only-of-type {\n",
              "        vertical-align: middle;\n",
              "    }\n",
              "\n",
              "    .dataframe tbody tr th {\n",
              "        vertical-align: top;\n",
              "    }\n",
              "\n",
              "    .dataframe thead th {\n",
              "        text-align: right;\n",
              "    }\n",
              "</style>\n",
              "<table border=\"1\" class=\"dataframe\">\n",
              "  <thead>\n",
              "    <tr style=\"text-align: right;\">\n",
              "      <th></th>\n",
              "      <th>Team</th>\n",
              "      <th>Nation</th>\n",
              "      <th>Pos</th>\n",
              "      <th>Age</th>\n",
              "      <th>MP</th>\n",
              "      <th>Min</th>\n",
              "      <th>Gls</th>\n",
              "      <th>CrdY</th>\n",
              "      <th>CrdR</th>\n",
              "      <th>xG</th>\n",
              "      <th>GPA</th>\n",
              "      <th>GPA_N</th>\n",
              "    </tr>\n",
              "  </thead>\n",
              "  <tbody>\n",
              "    <tr>\n",
              "      <th>0</th>\n",
              "      <td>Arsenal</td>\n",
              "      <td>ENG</td>\n",
              "      <td>FW,MF</td>\n",
              "      <td>19.0</td>\n",
              "      <td>38</td>\n",
              "      <td>2,978</td>\n",
              "      <td>11.0</td>\n",
              "      <td>6.0</td>\n",
              "      <td>0.0</td>\n",
              "      <td>9.7</td>\n",
              "      <td>1.68</td>\n",
              "      <td>2.34</td>\n",
              "    </tr>\n",
              "    <tr>\n",
              "      <th>1</th>\n",
              "      <td>Aston Villa</td>\n",
              "      <td>ENG</td>\n",
              "      <td>MF,FW</td>\n",
              "      <td>19.0</td>\n",
              "      <td>3</td>\n",
              "      <td>27</td>\n",
              "      <td>0.0</td>\n",
              "      <td>0.0</td>\n",
              "      <td>0.0</td>\n",
              "      <td>0.0</td>\n",
              "      <td>1.68</td>\n",
              "      <td>2.34</td>\n",
              "    </tr>\n",
              "    <tr>\n",
              "      <th>2</th>\n",
              "      <td>Aston Villa</td>\n",
              "      <td>ENG</td>\n",
              "      <td>FW</td>\n",
              "      <td>19.0</td>\n",
              "      <td>1</td>\n",
              "      <td>5</td>\n",
              "      <td>0.0</td>\n",
              "      <td>0.0</td>\n",
              "      <td>0.0</td>\n",
              "      <td>0.0</td>\n",
              "      <td>1.68</td>\n",
              "      <td>2.34</td>\n",
              "    </tr>\n",
              "    <tr>\n",
              "      <th>3</th>\n",
              "      <td>Leeds United</td>\n",
              "      <td>ENG</td>\n",
              "      <td>FW,MF</td>\n",
              "      <td>19.0</td>\n",
              "      <td>20</td>\n",
              "      <td>746</td>\n",
              "      <td>2.0</td>\n",
              "      <td>4.0</td>\n",
              "      <td>0.0</td>\n",
              "      <td>3.1</td>\n",
              "      <td>1.68</td>\n",
              "      <td>2.34</td>\n",
              "    </tr>\n",
              "    <tr>\n",
              "      <th>4</th>\n",
              "      <td>Leeds United</td>\n",
              "      <td>ENG</td>\n",
              "      <td>MF,FW</td>\n",
              "      <td>19.0</td>\n",
              "      <td>7</td>\n",
              "      <td>237</td>\n",
              "      <td>0.0</td>\n",
              "      <td>0.0</td>\n",
              "      <td>0.0</td>\n",
              "      <td>0.4</td>\n",
              "      <td>1.68</td>\n",
              "      <td>2.34</td>\n",
              "    </tr>\n",
              "  </tbody>\n",
              "</table>\n",
              "</div>"
            ],
            "text/plain": [
              "           Team Nation    Pos   Age  MP    Min   Gls  CrdY  CrdR   xG   GPA  \\\n",
              "0       Arsenal    ENG  FW,MF  19.0  38  2,978  11.0   6.0   0.0  9.7  1.68   \n",
              "1   Aston Villa    ENG  MF,FW  19.0   3     27   0.0   0.0   0.0  0.0  1.68   \n",
              "2   Aston Villa    ENG     FW  19.0   1      5   0.0   0.0   0.0  0.0  1.68   \n",
              "3  Leeds United    ENG  FW,MF  19.0  20    746   2.0   4.0   0.0  3.1  1.68   \n",
              "4  Leeds United    ENG  MF,FW  19.0   7    237   0.0   0.0   0.0  0.4  1.68   \n",
              "\n",
              "   GPA_N  \n",
              "0   2.34  \n",
              "1   2.34  \n",
              "2   2.34  \n",
              "3   2.34  \n",
              "4   2.34  "
            ]
          },
          "execution_count": 24,
          "metadata": {},
          "output_type": "execute_result"
        }
      ],
      "source": [
        "fm.head() # 데이터 확인"
      ]
    },
    {
      "cell_type": "markdown",
      "metadata": {
        "id": "qT_ospR44e4G"
      },
      "source": [
        "step2. 팀별 국가를 조사하고 알아낸 국가별 득점율을 통해 팀별 국가에 따른 득점율((국가가 같은 인원* 국가에 따른 득점율)의 합/팀 인원 수) 계산하여 데이터프레임 만들기"
      ]
    },
    {
      "cell_type": "code",
      "execution_count": 25,
      "metadata": {
        "colab": {
          "base_uri": "https://localhost:8080/"
        },
        "id": "E4p32sDP0vs9",
        "outputId": "6bca18a8-653c-420c-8230-1ac0f9cdad61"
      },
      "outputs": [
        {
          "name": "stdout",
          "output_type": "stream",
          "text": [
            "{'Southampton': 2.29, 'Leeds United': 1.91, 'Wolverhampton Wanderers': 5.01, 'Arsenal': 3.5, 'Manchester United': 2.27, 'Newcastle United': 2.36, 'Leicester City': 2.9, 'Chelsea': 2.92, 'Burnley': 2.34, 'Aston Villa': 2.78, 'Manchester City': 3.69, 'Norwich City': 2.22, 'Brighton & Hove Albion': 2.11, 'Watford': 2.65, 'Tottenham Hotspur': 3.11, 'Crystal Palace': 2.85, 'Liverpool': 3.53, 'Everton': 2.41, 'Brentford': 2.16, 'West Ham United': 3.02}\n"
          ]
        }
      ],
      "source": [
        "team =list(set(fm['Team'])) # 팀 리스트\n",
        "\n",
        "gls_per_team = {}\n",
        "\n",
        "for i in team:\n",
        "    gls_per_team[i] = (round(fm[fm['Team']==i]['GPA_N'].sum()/len(fm[fm['Team']==i]),2))\n",
        "    # 팀의 국가에 따른 득점률 = 팀별 평균 골수의 합/팀 인원수\n",
        "\n",
        "print(gls_per_team)"
      ]
    },
    {
      "cell_type": "code",
      "execution_count": 26,
      "metadata": {
        "colab": {
          "base_uri": "https://localhost:8080/",
          "height": 0
        },
        "id": "kjTgluG34q2w",
        "outputId": "64fe7ad6-a669-4feb-c77b-3b0b113b5672"
      },
      "outputs": [
        {
          "data": {
            "text/html": [
              "<div>\n",
              "<style scoped>\n",
              "    .dataframe tbody tr th:only-of-type {\n",
              "        vertical-align: middle;\n",
              "    }\n",
              "\n",
              "    .dataframe tbody tr th {\n",
              "        vertical-align: top;\n",
              "    }\n",
              "\n",
              "    .dataframe thead th {\n",
              "        text-align: right;\n",
              "    }\n",
              "</style>\n",
              "<table border=\"1\" class=\"dataframe\">\n",
              "  <thead>\n",
              "    <tr style=\"text-align: right;\">\n",
              "      <th></th>\n",
              "      <th>Team</th>\n",
              "      <th>Team_N</th>\n",
              "    </tr>\n",
              "  </thead>\n",
              "  <tbody>\n",
              "    <tr>\n",
              "      <th>0</th>\n",
              "      <td>Southampton</td>\n",
              "      <td>2.29</td>\n",
              "    </tr>\n",
              "    <tr>\n",
              "      <th>1</th>\n",
              "      <td>Leeds United</td>\n",
              "      <td>1.91</td>\n",
              "    </tr>\n",
              "    <tr>\n",
              "      <th>2</th>\n",
              "      <td>Wolverhampton Wanderers</td>\n",
              "      <td>5.01</td>\n",
              "    </tr>\n",
              "    <tr>\n",
              "      <th>3</th>\n",
              "      <td>Arsenal</td>\n",
              "      <td>3.50</td>\n",
              "    </tr>\n",
              "    <tr>\n",
              "      <th>4</th>\n",
              "      <td>Manchester United</td>\n",
              "      <td>2.27</td>\n",
              "    </tr>\n",
              "  </tbody>\n",
              "</table>\n",
              "</div>"
            ],
            "text/plain": [
              "                      Team  Team_N\n",
              "0              Southampton    2.29\n",
              "1             Leeds United    1.91\n",
              "2  Wolverhampton Wanderers    5.01\n",
              "3                  Arsenal    3.50\n",
              "4        Manchester United    2.27"
            ]
          },
          "execution_count": 26,
          "metadata": {},
          "output_type": "execute_result"
        }
      ],
      "source": [
        "dict_ = {}\n",
        "dict_['Team'] = [i for i in gls_per_team.keys()]\n",
        "dict_['Team_N'] = [i  for i in gls_per_team.values()]\n",
        "\n",
        "\n",
        "team_N = pd.DataFrame(dict_)\n",
        "# 국가별 평균 득점률 딕셔너리 데이터 프레임 형태로 변환\n",
        "\n",
        "team_N.head() # 데이터 확인"
      ]
    },
    {
      "cell_type": "code",
      "execution_count": 27,
      "metadata": {
        "colab": {
          "base_uri": "https://localhost:8080/",
          "height": 0
        },
        "id": "SLvrScSjAuaV",
        "outputId": "2bf7bcc8-ccf4-43e3-e4f0-59c0fcbfe7e7"
      },
      "outputs": [
        {
          "data": {
            "text/html": [
              "<div>\n",
              "<style scoped>\n",
              "    .dataframe tbody tr th:only-of-type {\n",
              "        vertical-align: middle;\n",
              "    }\n",
              "\n",
              "    .dataframe tbody tr th {\n",
              "        vertical-align: top;\n",
              "    }\n",
              "\n",
              "    .dataframe thead th {\n",
              "        text-align: right;\n",
              "    }\n",
              "</style>\n",
              "<table border=\"1\" class=\"dataframe\">\n",
              "  <thead>\n",
              "    <tr style=\"text-align: right;\">\n",
              "      <th></th>\n",
              "      <th>Team</th>\n",
              "      <th>Team_G</th>\n",
              "      <th>Team_A</th>\n",
              "      <th>Team_N</th>\n",
              "    </tr>\n",
              "  </thead>\n",
              "  <tbody>\n",
              "    <tr>\n",
              "      <th>0</th>\n",
              "      <td>Norwich City</td>\n",
              "      <td>21.0</td>\n",
              "      <td>2.23</td>\n",
              "      <td>2.22</td>\n",
              "    </tr>\n",
              "    <tr>\n",
              "      <th>1</th>\n",
              "      <td>Burnley</td>\n",
              "      <td>32.0</td>\n",
              "      <td>3.08</td>\n",
              "      <td>2.34</td>\n",
              "    </tr>\n",
              "    <tr>\n",
              "      <th>2</th>\n",
              "      <td>Watford</td>\n",
              "      <td>33.0</td>\n",
              "      <td>2.46</td>\n",
              "      <td>2.65</td>\n",
              "    </tr>\n",
              "    <tr>\n",
              "      <th>3</th>\n",
              "      <td>Wolverhampton Wanderers</td>\n",
              "      <td>35.0</td>\n",
              "      <td>2.62</td>\n",
              "      <td>5.01</td>\n",
              "    </tr>\n",
              "    <tr>\n",
              "      <th>4</th>\n",
              "      <td>Brighton &amp; Hove Albion</td>\n",
              "      <td>40.0</td>\n",
              "      <td>2.34</td>\n",
              "      <td>2.11</td>\n",
              "    </tr>\n",
              "  </tbody>\n",
              "</table>\n",
              "</div>"
            ],
            "text/plain": [
              "                      Team  Team_G  Team_A  Team_N\n",
              "0             Norwich City    21.0    2.23    2.22\n",
              "1                  Burnley    32.0    3.08    2.34\n",
              "2                  Watford    33.0    2.46    2.65\n",
              "3  Wolverhampton Wanderers    35.0    2.62    5.01\n",
              "4   Brighton & Hove Albion    40.0    2.34    2.11"
            ]
          },
          "execution_count": 27,
          "metadata": {},
          "output_type": "execute_result"
        }
      ],
      "source": [
        "teamrank = pd.merge(teamrank,team_N, how = 'inner', on= 'Team')\n",
        "# 팀별 데이터프레임에 추가\n",
        "\n",
        "teamrank.head() # 데이터 확인"
      ]
    },
    {
      "cell_type": "markdown",
      "metadata": {
        "id": "9T_mrCXnAGJ5"
      },
      "source": [
        "step3. 팀 별 국적에 따른 평균 득점률 시각화\n",
        "\n",
        "\n"
      ]
    },
    {
      "cell_type": "code",
      "execution_count": 28,
      "metadata": {
        "colab": {
          "base_uri": "https://localhost:8080/",
          "height": 0
        },
        "id": "9Mtwwp22ALrJ",
        "outputId": "4fff4063-7c16-4b3f-b458-dab468f7dba2"
      },
      "outputs": [
        {
          "data": {
            "text/plain": [
              "<AxesSubplot:xlabel='Team_N', ylabel='Team'>"
            ]
          },
          "execution_count": 28,
          "metadata": {},
          "output_type": "execute_result"
        },
        {
          "data": {
            "image/png": "[encoded data removed]",
            "text/plain": [
              "<Figure size 432x288 with 1 Axes>"
            ]
          },
          "metadata": {
            "needs_background": "light"
          },
          "output_type": "display_data"
        }
      ],
      "source": [
        "team_n = team_N.sort_values(by=['Team_N'])\n",
        "# 팀 별 국적에 따른 평균 득점률 순위를 확인하기 위한 득점률 정렬\n",
        "\n",
        "sns.barplot(data = team_n, y = 'Team', x = 'Team_N')\n",
        "# 막대그래프를 통한 데이터 시각화"
      ]
    },
    {
      "cell_type": "markdown",
      "metadata": {
        "id": "0up2mswYeew0"
      },
      "source": [
        "#####⭐선수별 평균 지구력\n"
      ]
    },
    {
      "cell_type": "markdown",
      "metadata": {
        "id": "T-v7NK5iMbx3"
      },
      "source": [
        "step1. 선수별 지구력을 구하기 위해 (출정시간 / 출정횟수) 계산 하기\n",
        "<br>\n",
        ": 오류 발생 타입이 맞지 않는 에러 발생 PB_DF[\"Min\"][0] : str, PB_DF[\"MP\"][0]: int"
      ]
    },
    {
      "cell_type": "code",
      "execution_count": 29,
      "metadata": {
        "colab": {
          "base_uri": "https://localhost:8080/",
          "height": 206
        },
        "id": "UHOgFqtCUvBO",
        "outputId": "d443824b-ef5c-456b-e7cc-f964fac6a14f"
      },
      "outputs": [
        {
          "data": {
            "text/html": [
              "<div>\n",
              "<style scoped>\n",
              "    .dataframe tbody tr th:only-of-type {\n",
              "        vertical-align: middle;\n",
              "    }\n",
              "\n",
              "    .dataframe tbody tr th {\n",
              "        vertical-align: top;\n",
              "    }\n",
              "\n",
              "    .dataframe thead th {\n",
              "        text-align: right;\n",
              "    }\n",
              "</style>\n",
              "<table border=\"1\" class=\"dataframe\">\n",
              "  <thead>\n",
              "    <tr style=\"text-align: right;\">\n",
              "      <th></th>\n",
              "      <th>Team</th>\n",
              "      <th>Nation</th>\n",
              "      <th>Pos</th>\n",
              "      <th>Age</th>\n",
              "      <th>MP</th>\n",
              "      <th>Min</th>\n",
              "      <th>Gls</th>\n",
              "      <th>CrdY</th>\n",
              "      <th>CrdR</th>\n",
              "      <th>xG</th>\n",
              "      <th>endurance</th>\n",
              "    </tr>\n",
              "  </thead>\n",
              "  <tbody>\n",
              "    <tr>\n",
              "      <th>0</th>\n",
              "      <td>Arsenal</td>\n",
              "      <td>ENG</td>\n",
              "      <td>FW,MF</td>\n",
              "      <td>19.0</td>\n",
              "      <td>38</td>\n",
              "      <td>2978</td>\n",
              "      <td>11.0</td>\n",
              "      <td>6.0</td>\n",
              "      <td>0.0</td>\n",
              "      <td>9.7</td>\n",
              "      <td>78.368</td>\n",
              "    </tr>\n",
              "    <tr>\n",
              "      <th>1</th>\n",
              "      <td>Arsenal</td>\n",
              "      <td>BRA</td>\n",
              "      <td>DF</td>\n",
              "      <td>23.0</td>\n",
              "      <td>35</td>\n",
              "      <td>3063</td>\n",
              "      <td>5.0</td>\n",
              "      <td>8.0</td>\n",
              "      <td>1.0</td>\n",
              "      <td>2.7</td>\n",
              "      <td>87.514</td>\n",
              "    </tr>\n",
              "    <tr>\n",
              "      <th>2</th>\n",
              "      <td>Arsenal</td>\n",
              "      <td>ENG</td>\n",
              "      <td>GK</td>\n",
              "      <td>23.0</td>\n",
              "      <td>34</td>\n",
              "      <td>3060</td>\n",
              "      <td>0.0</td>\n",
              "      <td>1.0</td>\n",
              "      <td>0.0</td>\n",
              "      <td>0.0</td>\n",
              "      <td>90.000</td>\n",
              "    </tr>\n",
              "    <tr>\n",
              "      <th>3</th>\n",
              "      <td>Arsenal</td>\n",
              "      <td>ENG</td>\n",
              "      <td>DF</td>\n",
              "      <td>23.0</td>\n",
              "      <td>32</td>\n",
              "      <td>2880</td>\n",
              "      <td>0.0</td>\n",
              "      <td>3.0</td>\n",
              "      <td>0.0</td>\n",
              "      <td>1.0</td>\n",
              "      <td>90.000</td>\n",
              "    </tr>\n",
              "    <tr>\n",
              "      <th>4</th>\n",
              "      <td>Arsenal</td>\n",
              "      <td>NOR</td>\n",
              "      <td>MF</td>\n",
              "      <td>22.0</td>\n",
              "      <td>36</td>\n",
              "      <td>2785</td>\n",
              "      <td>7.0</td>\n",
              "      <td>4.0</td>\n",
              "      <td>0.0</td>\n",
              "      <td>4.8</td>\n",
              "      <td>77.361</td>\n",
              "    </tr>\n",
              "  </tbody>\n",
              "</table>\n",
              "</div>"
            ],
            "text/plain": [
              "      Team Nation    Pos   Age  MP   Min   Gls  CrdY  CrdR   xG  endurance\n",
              "0  Arsenal    ENG  FW,MF  19.0  38  2978  11.0   6.0   0.0  9.7     78.368\n",
              "1  Arsenal    BRA     DF  23.0  35  3063   5.0   8.0   1.0  2.7     87.514\n",
              "2  Arsenal    ENG     GK  23.0  34  3060   0.0   1.0   0.0  0.0     90.000\n",
              "3  Arsenal    ENG     DF  23.0  32  2880   0.0   3.0   0.0  1.0     90.000\n",
              "4  Arsenal    NOR     MF  22.0  36  2785   7.0   4.0   0.0  4.8     77.361"
            ]
          },
          "execution_count": 29,
          "metadata": {},
          "output_type": "execute_result"
        }
      ],
      "source": [
        "FB_DF[\"Min\"] = FB_DF[\"Min\"].str.replace(\",\", \"\")\n",
        "# 문자열 하나하나 쪼개서 반점 발견되면 삭제하기\n",
        "\n",
        "FB_DF[\"Min\"] = FB_DF[\"Min\"].astype(int)\n",
        "# FB_DF[\"Min\"] 내의 데이터 문자열에서 int형으로 변환\n",
        "\n",
        "FB_DF[\"endurance\"] = round(FB_DF[\"Min\"] / FB_DF[\"MP\"], 3)\n",
        "# 지구력 계산하기, (출정시간 / 출정횟수)\n",
        "\n",
        "FB_DF.head() # 데이터 확인"
      ]
    },
    {
      "cell_type": "code",
      "execution_count": 30,
      "metadata": {
        "colab": {
          "base_uri": "https://localhost:8080/",
          "height": 279
        },
        "id": "i-PNwypalbXi",
        "outputId": "9128402b-4e9e-47ae-9ebb-8404a60b01a5"
      },
      "outputs": [
        {
          "data": {
            "image/png": "[encoded data removed]",
            "text/plain": [
              "<Figure size 432x288 with 1 Axes>"
            ]
          },
          "metadata": {
            "needs_background": "light"
          },
          "output_type": "display_data"
        }
      ],
      "source": [
        "# 선수별 나이에 따른 지구력 분포 확인\n",
        "sns.lineplot(data=FB_DF, x=\"Age\", y=\"endurance\")\n",
        "plt.show()"
      ]
    },
    {
      "cell_type": "code",
      "execution_count": 31,
      "metadata": {
        "colab": {
          "base_uri": "https://localhost:8080/"
        },
        "id": "6vqVLTlPPZwm",
        "outputId": "c27ebc83-25f6-4382-f378-40fdb5b09dd0"
      },
      "outputs": [
        {
          "name": "stdout",
          "output_type": "stream",
          "text": [
            "           Team Nation Pos   Age  MP   Min  Gls  CrdY  CrdR   xG  endurance\n",
            "2       Arsenal    ENG  GK  23.0  34  3060  0.0   1.0   0.0  0.0       90.0\n",
            "3       Arsenal    ENG  DF  23.0  32  2880  0.0   3.0   0.0  1.0       90.0\n",
            "20      Arsenal    GER  GK  29.0   4   360  0.0   0.0   0.0  0.0       90.0\n",
            "22      Arsenal    ESP  DF  27.0   2   180  0.0   1.0   0.0  0.3       90.0\n",
            "28  Aston Villa    ARG  GK  28.0  36  3240  0.0   4.0   0.0  0.0       90.0\n",
            "51  Aston Villa    SWE  GK  31.0   1    90  0.0   0.0   0.0  0.0       90.0\n"
          ]
        }
      ],
      "source": [
        "print(FB_DF[FB_DF[\"endurance\"] == 90.0][:6])\n",
        "#\n",
        "# 출력을 해보니 나이가 많은데 지구력이 높은 사람들이 많아 따로 확인 해 보니\n",
        "# 골키퍼가 대부분을 차지하는 것을 확인 할 수 있었다."
      ]
    },
    {
      "cell_type": "markdown",
      "metadata": {
        "id": "vmRY9JffOooh"
      },
      "source": [
        "step2. 팀 별 평균 지구력 계산하기\n",
        "<br>\n",
        ": 골키퍼는 경기에 계속 참여하였기에 지구력이 높게 나와 골기퍼 포지션 제외하고 계산"
      ]
    },
    {
      "cell_type": "code",
      "execution_count": 32,
      "metadata": {
        "colab": {
          "base_uri": "https://localhost:8080/"
        },
        "id": "tQqG123KRFCS",
        "outputId": "4483286d-db1d-4086-f9c3-9e23e960ee9c"
      },
      "outputs": [
        {
          "name": "stdout",
          "output_type": "stream",
          "text": [
            "골키퍼 제외 전 : 546\n",
            "골키퍼 제외 후 : 504\n"
          ]
        }
      ],
      "source": [
        "print(f'골키퍼 제외 전 : {len(FB_DF)}')\n",
        "\n",
        "GK = FB_DF[FB_DF[\"Pos\"] == \"GK\"].index\n",
        "# 포지션이 골키퍼에 해당하는 인덱스 추출\n",
        "\n",
        "R_FB_DF = FB_DF.drop(GK) \n",
        "# 포지션이 골키퍼에 해당하는 인덱스 삭제\n",
        "\n",
        "print(f'골키퍼 제외 후 : {len(R_FB_DF)}')"
      ]
    },
    {
      "cell_type": "code",
      "execution_count": 33,
      "metadata": {
        "colab": {
          "base_uri": "https://localhost:8080/",
          "height": 206
        },
        "id": "rPP8nCeES5SS",
        "outputId": "5149a689-c016-4467-d40f-f3db27229098"
      },
      "outputs": [
        {
          "data": {
            "text/html": [
              "<div>\n",
              "<style scoped>\n",
              "    .dataframe tbody tr th:only-of-type {\n",
              "        vertical-align: middle;\n",
              "    }\n",
              "\n",
              "    .dataframe tbody tr th {\n",
              "        vertical-align: top;\n",
              "    }\n",
              "\n",
              "    .dataframe thead th {\n",
              "        text-align: right;\n",
              "    }\n",
              "</style>\n",
              "<table border=\"1\" class=\"dataframe\">\n",
              "  <thead>\n",
              "    <tr style=\"text-align: right;\">\n",
              "      <th></th>\n",
              "      <th>Team</th>\n",
              "      <th>Nation</th>\n",
              "      <th>Pos</th>\n",
              "      <th>Age</th>\n",
              "      <th>MP</th>\n",
              "      <th>Min</th>\n",
              "      <th>Gls</th>\n",
              "      <th>CrdY</th>\n",
              "      <th>CrdR</th>\n",
              "      <th>xG</th>\n",
              "      <th>endurance</th>\n",
              "    </tr>\n",
              "  </thead>\n",
              "  <tbody>\n",
              "    <tr>\n",
              "      <th>0</th>\n",
              "      <td>Arsenal</td>\n",
              "      <td>ENG</td>\n",
              "      <td>FW,MF</td>\n",
              "      <td>19.0</td>\n",
              "      <td>38</td>\n",
              "      <td>2978</td>\n",
              "      <td>11.0</td>\n",
              "      <td>6.0</td>\n",
              "      <td>0.0</td>\n",
              "      <td>9.7</td>\n",
              "      <td>78.368</td>\n",
              "    </tr>\n",
              "    <tr>\n",
              "      <th>1</th>\n",
              "      <td>Arsenal</td>\n",
              "      <td>BRA</td>\n",
              "      <td>DF</td>\n",
              "      <td>23.0</td>\n",
              "      <td>35</td>\n",
              "      <td>3063</td>\n",
              "      <td>5.0</td>\n",
              "      <td>8.0</td>\n",
              "      <td>1.0</td>\n",
              "      <td>2.7</td>\n",
              "      <td>87.514</td>\n",
              "    </tr>\n",
              "    <tr>\n",
              "      <th>3</th>\n",
              "      <td>Arsenal</td>\n",
              "      <td>ENG</td>\n",
              "      <td>DF</td>\n",
              "      <td>23.0</td>\n",
              "      <td>32</td>\n",
              "      <td>2880</td>\n",
              "      <td>0.0</td>\n",
              "      <td>3.0</td>\n",
              "      <td>0.0</td>\n",
              "      <td>1.0</td>\n",
              "      <td>90.000</td>\n",
              "    </tr>\n",
              "    <tr>\n",
              "      <th>4</th>\n",
              "      <td>Arsenal</td>\n",
              "      <td>NOR</td>\n",
              "      <td>MF</td>\n",
              "      <td>22.0</td>\n",
              "      <td>36</td>\n",
              "      <td>2785</td>\n",
              "      <td>7.0</td>\n",
              "      <td>4.0</td>\n",
              "      <td>0.0</td>\n",
              "      <td>4.8</td>\n",
              "      <td>77.361</td>\n",
              "    </tr>\n",
              "    <tr>\n",
              "      <th>5</th>\n",
              "      <td>Arsenal</td>\n",
              "      <td>SUI</td>\n",
              "      <td>MF,DF</td>\n",
              "      <td>28.0</td>\n",
              "      <td>27</td>\n",
              "      <td>2327</td>\n",
              "      <td>1.0</td>\n",
              "      <td>10.0</td>\n",
              "      <td>1.0</td>\n",
              "      <td>1.2</td>\n",
              "      <td>86.185</td>\n",
              "    </tr>\n",
              "  </tbody>\n",
              "</table>\n",
              "</div>"
            ],
            "text/plain": [
              "      Team Nation    Pos   Age  MP   Min   Gls  CrdY  CrdR   xG  endurance\n",
              "0  Arsenal    ENG  FW,MF  19.0  38  2978  11.0   6.0   0.0  9.7     78.368\n",
              "1  Arsenal    BRA     DF  23.0  35  3063   5.0   8.0   1.0  2.7     87.514\n",
              "3  Arsenal    ENG     DF  23.0  32  2880   0.0   3.0   0.0  1.0     90.000\n",
              "4  Arsenal    NOR     MF  22.0  36  2785   7.0   4.0   0.0  4.8     77.361\n",
              "5  Arsenal    SUI  MF,DF  28.0  27  2327   1.0  10.0   1.0  1.2     86.185"
            ]
          },
          "execution_count": 33,
          "metadata": {},
          "output_type": "execute_result"
        }
      ],
      "source": [
        "R_FB_DF.head() # 데이터 확인"
      ]
    },
    {
      "cell_type": "code",
      "execution_count": 34,
      "metadata": {
        "colab": {
          "base_uri": "https://localhost:8080/",
          "height": 279
        },
        "id": "IDBX8rkMST_V",
        "outputId": "d7a6bfbc-2f0d-4306-b3b2-a21c89574841"
      },
      "outputs": [
        {
          "data": {
            "image/png": "[encoded data removed]",
            "text/plain": [
              "<Figure size 432x288 with 1 Axes>"
            ]
          },
          "metadata": {
            "needs_background": "light"
          },
          "output_type": "display_data"
        }
      ],
      "source": [
        "# 선수별 공격수 득점 분포 확인 (골키퍼 제외)\n",
        "sns.lineplot(data=R_FB_DF, x=\"Age\", y=\"endurance\")\n",
        "plt.show()"
      ]
    },
    {
      "cell_type": "code",
      "execution_count": 35,
      "metadata": {
        "colab": {
          "base_uri": "https://localhost:8080/"
        },
        "id": "KGjENj8LViQJ",
        "outputId": "a0969e65-c34d-4ee4-bf2e-46b6878b7768"
      },
      "outputs": [
        {
          "name": "stdout",
          "output_type": "stream",
          "text": [
            "{'Arsenal': 25, 'Aston Villa': 28, 'Brentford': 26, 'Brighton & Hove Albion': 24, 'Burnley': 21, 'Chelsea': 24, 'Crystal Palace': 22, 'Everton': 31, 'Leeds United': 27, 'Leicester City': 26, 'Liverpool': 25, 'Manchester City': 24, 'Manchester United': 28, 'Newcastle United': 26, 'Norwich City': 26, 'Southampton': 22, 'Tottenham Hotspur': 24, 'Watford': 28, 'West Ham United': 23, 'Wolverhampton Wanderers': 24}\n"
          ]
        }
      ],
      "source": [
        "# 팀 별 평균 지구력 계산하기\n",
        "\n",
        "Team = {}\n",
        "\n",
        "for i in R_FB_DF[\"Team\"]: # 팀에 해당하는 데이터 i에 할당\n",
        "    if i in Team: # 비어있는 딕셔너리 내에 데이터가 존재할 경우\n",
        "      Team[i] += 1 # +1:count\n",
        "    else: # 존재하지 않을 경우\n",
        "      Team[i] = 1 # 처음 count: 1\n",
        "\n",
        "print(Team) # 팀 당 골키퍼 제외 인원 수 딕셔너리"
      ]
    },
    {
      "cell_type": "code",
      "execution_count": 36,
      "metadata": {
        "colab": {
          "base_uri": "https://localhost:8080/",
          "height": 206
        },
        "id": "e-16vLeEUREW",
        "outputId": "54af9adb-cd7c-4f80-f863-a70d4b71bd32"
      },
      "outputs": [
        {
          "data": {
            "text/html": [
              "<div>\n",
              "<style scoped>\n",
              "    .dataframe tbody tr th:only-of-type {\n",
              "        vertical-align: middle;\n",
              "    }\n",
              "\n",
              "    .dataframe tbody tr th {\n",
              "        vertical-align: top;\n",
              "    }\n",
              "\n",
              "    .dataframe thead th {\n",
              "        text-align: right;\n",
              "    }\n",
              "</style>\n",
              "<table border=\"1\" class=\"dataframe\">\n",
              "  <thead>\n",
              "    <tr style=\"text-align: right;\">\n",
              "      <th></th>\n",
              "      <th>Team</th>\n",
              "      <th>Nation</th>\n",
              "      <th>Pos</th>\n",
              "      <th>Age</th>\n",
              "      <th>MP</th>\n",
              "      <th>Min</th>\n",
              "      <th>Gls</th>\n",
              "      <th>CrdY</th>\n",
              "      <th>CrdR</th>\n",
              "      <th>xG</th>\n",
              "      <th>endurance</th>\n",
              "    </tr>\n",
              "  </thead>\n",
              "  <tbody>\n",
              "    <tr>\n",
              "      <th>0</th>\n",
              "      <td>Arsenal</td>\n",
              "      <td>ENG</td>\n",
              "      <td>FW,MF</td>\n",
              "      <td>19.0</td>\n",
              "      <td>38</td>\n",
              "      <td>2978</td>\n",
              "      <td>11.0</td>\n",
              "      <td>6.0</td>\n",
              "      <td>0.0</td>\n",
              "      <td>9.7</td>\n",
              "      <td>78.368</td>\n",
              "    </tr>\n",
              "    <tr>\n",
              "      <th>1</th>\n",
              "      <td>Arsenal</td>\n",
              "      <td>BRA</td>\n",
              "      <td>DF</td>\n",
              "      <td>23.0</td>\n",
              "      <td>35</td>\n",
              "      <td>3063</td>\n",
              "      <td>5.0</td>\n",
              "      <td>8.0</td>\n",
              "      <td>1.0</td>\n",
              "      <td>2.7</td>\n",
              "      <td>87.514</td>\n",
              "    </tr>\n",
              "    <tr>\n",
              "      <th>3</th>\n",
              "      <td>Arsenal</td>\n",
              "      <td>ENG</td>\n",
              "      <td>DF</td>\n",
              "      <td>23.0</td>\n",
              "      <td>32</td>\n",
              "      <td>2880</td>\n",
              "      <td>0.0</td>\n",
              "      <td>3.0</td>\n",
              "      <td>0.0</td>\n",
              "      <td>1.0</td>\n",
              "      <td>90.000</td>\n",
              "    </tr>\n",
              "    <tr>\n",
              "      <th>4</th>\n",
              "      <td>Arsenal</td>\n",
              "      <td>NOR</td>\n",
              "      <td>MF</td>\n",
              "      <td>22.0</td>\n",
              "      <td>36</td>\n",
              "      <td>2785</td>\n",
              "      <td>7.0</td>\n",
              "      <td>4.0</td>\n",
              "      <td>0.0</td>\n",
              "      <td>4.8</td>\n",
              "      <td>77.361</td>\n",
              "    </tr>\n",
              "    <tr>\n",
              "      <th>5</th>\n",
              "      <td>Arsenal</td>\n",
              "      <td>SUI</td>\n",
              "      <td>MF,DF</td>\n",
              "      <td>28.0</td>\n",
              "      <td>27</td>\n",
              "      <td>2327</td>\n",
              "      <td>1.0</td>\n",
              "      <td>10.0</td>\n",
              "      <td>1.0</td>\n",
              "      <td>1.2</td>\n",
              "      <td>86.185</td>\n",
              "    </tr>\n",
              "  </tbody>\n",
              "</table>\n",
              "</div>"
            ],
            "text/plain": [
              "      Team Nation    Pos   Age  MP   Min   Gls  CrdY  CrdR   xG  endurance\n",
              "0  Arsenal    ENG  FW,MF  19.0  38  2978  11.0   6.0   0.0  9.7     78.368\n",
              "1  Arsenal    BRA     DF  23.0  35  3063   5.0   8.0   1.0  2.7     87.514\n",
              "3  Arsenal    ENG     DF  23.0  32  2880   0.0   3.0   0.0  1.0     90.000\n",
              "4  Arsenal    NOR     MF  22.0  36  2785   7.0   4.0   0.0  4.8     77.361\n",
              "5  Arsenal    SUI  MF,DF  28.0  27  2327   1.0  10.0   1.0  1.2     86.185"
            ]
          },
          "execution_count": 36,
          "metadata": {},
          "output_type": "execute_result"
        }
      ],
      "source": [
        "R_FB_DF.head() # 데이터 확인"
      ]
    },
    {
      "cell_type": "code",
      "execution_count": 37,
      "metadata": {
        "colab": {
          "base_uri": "https://localhost:8080/"
        },
        "id": "Ob6P5-tihjhK",
        "outputId": "e4083a3c-9266-4443-bed5-4ba9558bdc69"
      },
      "outputs": [
        {
          "name": "stdout",
          "output_type": "stream",
          "text": [
            "{'Arsenal': 64.325, 'Aston Villa': 52.683, 'Brentford': 57.53, 'Brighton & Hove Albion': 59.9, 'Burnley': 69.512, 'Chelsea': 64.211, 'Crystal Palace': 62.947, 'Everton': 55.829, 'Leeds United': 57.812, 'Leicester City': 65.164, 'Liverpool': 58.257, 'Manchester City': 61.669, 'Manchester United': 58.002, 'Newcastle United': 67.293, 'Norwich City': 62.694, 'Southampton': 64.425, 'Tottenham Hotspur': 61.471, 'Watford': 64.007, 'West Ham United': 56.144, 'Wolverhampton Wanderers': 61.861}\n"
          ]
        }
      ],
      "source": [
        "Team_e = {}\n",
        "\n",
        "for i, j in enumerate(R_FB_DF[\"Team\"]): # 팀명에 따른 인덱스와 데이터 할당\n",
        "  if j in Team_e: # 비어있는 딕셔너리 내에 데이터가 존재할 경우\n",
        "    Team_e[j] += R_FB_DF.iloc[i][\"endurance\"] # 지구력 더함\n",
        "  else: # 존재하지 않을 경우\n",
        "    Team_e[j] = R_FB_DF.iloc[i][\"endurance\"] # 초기 지구력 설정\n",
        "\n",
        "for i in Team_e.keys():\n",
        "    Team_e[i] = round(Team_e[i]/Team[i], 3)\n",
        "    # 각 팀에 따른 최종 평균 지구력 딕셔너리\n",
        "\n",
        "print(Team_e)"
      ]
    },
    {
      "cell_type": "code",
      "execution_count": 38,
      "metadata": {
        "colab": {
          "base_uri": "https://localhost:8080/",
          "height": 206
        },
        "id": "09HERAavyIUe",
        "outputId": "62260697-cbe2-44b0-8e49-ffca235926b8"
      },
      "outputs": [
        {
          "data": {
            "text/html": [
              "<div>\n",
              "<style scoped>\n",
              "    .dataframe tbody tr th:only-of-type {\n",
              "        vertical-align: middle;\n",
              "    }\n",
              "\n",
              "    .dataframe tbody tr th {\n",
              "        vertical-align: top;\n",
              "    }\n",
              "\n",
              "    .dataframe thead th {\n",
              "        text-align: right;\n",
              "    }\n",
              "</style>\n",
              "<table border=\"1\" class=\"dataframe\">\n",
              "  <thead>\n",
              "    <tr style=\"text-align: right;\">\n",
              "      <th></th>\n",
              "      <th>Team</th>\n",
              "      <th>Team_G</th>\n",
              "      <th>Team_A</th>\n",
              "      <th>Team_N</th>\n",
              "      <th>Team_E</th>\n",
              "    </tr>\n",
              "  </thead>\n",
              "  <tbody>\n",
              "    <tr>\n",
              "      <th>0</th>\n",
              "      <td>Norwich City</td>\n",
              "      <td>21.0</td>\n",
              "      <td>2.23</td>\n",
              "      <td>2.22</td>\n",
              "      <td>62.694</td>\n",
              "    </tr>\n",
              "    <tr>\n",
              "      <th>1</th>\n",
              "      <td>Burnley</td>\n",
              "      <td>32.0</td>\n",
              "      <td>3.08</td>\n",
              "      <td>2.34</td>\n",
              "      <td>69.512</td>\n",
              "    </tr>\n",
              "    <tr>\n",
              "      <th>2</th>\n",
              "      <td>Watford</td>\n",
              "      <td>33.0</td>\n",
              "      <td>2.46</td>\n",
              "      <td>2.65</td>\n",
              "      <td>64.007</td>\n",
              "    </tr>\n",
              "    <tr>\n",
              "      <th>3</th>\n",
              "      <td>Wolverhampton Wanderers</td>\n",
              "      <td>35.0</td>\n",
              "      <td>2.62</td>\n",
              "      <td>5.01</td>\n",
              "      <td>61.861</td>\n",
              "    </tr>\n",
              "    <tr>\n",
              "      <th>4</th>\n",
              "      <td>Brighton &amp; Hove Albion</td>\n",
              "      <td>40.0</td>\n",
              "      <td>2.34</td>\n",
              "      <td>2.11</td>\n",
              "      <td>59.900</td>\n",
              "    </tr>\n",
              "  </tbody>\n",
              "</table>\n",
              "</div>"
            ],
            "text/plain": [
              "                      Team  Team_G  Team_A  Team_N  Team_E\n",
              "0             Norwich City    21.0    2.23    2.22  62.694\n",
              "1                  Burnley    32.0    3.08    2.34  69.512\n",
              "2                  Watford    33.0    2.46    2.65  64.007\n",
              "3  Wolverhampton Wanderers    35.0    2.62    5.01  61.861\n",
              "4   Brighton & Hove Albion    40.0    2.34    2.11  59.900"
            ]
          },
          "execution_count": 38,
          "metadata": {},
          "output_type": "execute_result"
        }
      ],
      "source": [
        "Team_E = pd.DataFrame()\n",
        "\n",
        "Team_E[\"Team\"] = Team_e.keys()\n",
        "Team_E[\"Team_E\"] = Team_e.values()\n",
        "# 팀 별 평균 지구력 데이터 프레임 생성\n",
        "\n",
        "teamrank = pd.merge(teamrank, Team_E, on = 'Team')\n",
        "# 팀별 데이터프레임에 추가\n",
        "\n",
        "teamrank.head() # 데이터 확인"
      ]
    },
    {
      "cell_type": "markdown",
      "metadata": {
        "id": "Nt2BnvYneenI"
      },
      "source": [
        "#####⭐경고 카드 평균 누적량\n"
      ]
    },
    {
      "cell_type": "markdown",
      "metadata": {
        "id": "1fZsL7M__u8g"
      },
      "source": [
        "step1. 팀별로 옐로카드와 (레드카드)*2를 합산하여 옐로 카드의 누적치 구하기"
      ]
    },
    {
      "cell_type": "code",
      "execution_count": 39,
      "metadata": {
        "colab": {
          "base_uri": "https://localhost:8080/",
          "height": 0
        },
        "id": "m2qXoto2g5cM",
        "outputId": "b6dba997-f005-43d8-ee89-2198ad1cb65c"
      },
      "outputs": [
        {
          "name": "stdout",
          "output_type": "stream",
          "text": [
            " 팀별 카드수 : {'Southampton': 69.0, 'Leeds United': 106.0, 'Wolverhampton Wanderers': 66.0, 'Arsenal': 75.0, 'Manchester United': 81.0, 'Newcastle United': 85.0, 'Burnley': 72.0, 'Chelsea': 65.0, 'Leicester City': 57.0, 'Aston Villa': 85.0, 'Manchester City': 44.0, 'Norwich City': 59.0, 'Brighton & Hove Albion': 76.0, 'Watford': 69.0, 'Tottenham Hotspur': 71.0, 'Crystal Palace': 71.0, 'Liverpool': 52.0, 'Everton': 94.0, 'Brentford': 71.0, 'West Ham United': 58.0}\n"
          ]
        },
        {
          "data": {
            "text/html": [
              "<div>\n",
              "<style scoped>\n",
              "    .dataframe tbody tr th:only-of-type {\n",
              "        vertical-align: middle;\n",
              "    }\n",
              "\n",
              "    .dataframe tbody tr th {\n",
              "        vertical-align: top;\n",
              "    }\n",
              "\n",
              "    .dataframe thead th {\n",
              "        text-align: right;\n",
              "    }\n",
              "</style>\n",
              "<table border=\"1\" class=\"dataframe\">\n",
              "  <thead>\n",
              "    <tr style=\"text-align: right;\">\n",
              "      <th></th>\n",
              "      <th>Team</th>\n",
              "      <th>Team_C</th>\n",
              "    </tr>\n",
              "  </thead>\n",
              "  <tbody>\n",
              "    <tr>\n",
              "      <th>0</th>\n",
              "      <td>Southampton</td>\n",
              "      <td>69.0</td>\n",
              "    </tr>\n",
              "    <tr>\n",
              "      <th>1</th>\n",
              "      <td>Leeds United</td>\n",
              "      <td>106.0</td>\n",
              "    </tr>\n",
              "    <tr>\n",
              "      <th>2</th>\n",
              "      <td>Wolverhampton Wanderers</td>\n",
              "      <td>66.0</td>\n",
              "    </tr>\n",
              "    <tr>\n",
              "      <th>3</th>\n",
              "      <td>Arsenal</td>\n",
              "      <td>75.0</td>\n",
              "    </tr>\n",
              "    <tr>\n",
              "      <th>4</th>\n",
              "      <td>Manchester United</td>\n",
              "      <td>81.0</td>\n",
              "    </tr>\n",
              "  </tbody>\n",
              "</table>\n",
              "</div>"
            ],
            "text/plain": [
              "                      Team  Team_C\n",
              "0              Southampton    69.0\n",
              "1             Leeds United   106.0\n",
              "2  Wolverhampton Wanderers    66.0\n",
              "3                  Arsenal    75.0\n",
              "4        Manchester United    81.0"
            ]
          },
          "execution_count": 39,
          "metadata": {},
          "output_type": "execute_result"
        }
      ],
      "source": [
        "teams =  list(set(FB_DF['Team']))\n",
        "\n",
        "team_crds ={}\n",
        "for i in teams:\n",
        "    y = FB_DF[FB_DF['Team']==i]['CrdY'].sum() # 총 옐로카드 수\n",
        "    r = FB_DF[FB_DF['Team']==i]['CrdR'].sum()*2 # 총 레드카드 수 = 옐로카드 * 2\n",
        "    team_crds[i] = y+r\n",
        "\n",
        "print(f' 팀별 카드수 : {team_crds}')\n",
        "\n",
        "dict_ = {}\n",
        "dict_['Team'] = [i for i in team_crds.keys()]\n",
        "dict_['Team_C'] = [i  for i in team_crds.values()]\n",
        "# 데이터 프레임 형태로 만들기 위해 딕셔너리 내에 team_crds의 key, value값 할당하기\n",
        "\n",
        "team_C = pd.DataFrame(dict_)\n",
        "# 팀 별 카드 누적 수 딕셔너리 데이터 프레임 형태로 변환\n",
        "\n",
        "team_C.head() # 데이터 확인"
      ]
    },
    {
      "cell_type": "code",
      "execution_count": 40,
      "metadata": {
        "colab": {
          "base_uri": "https://localhost:8080/",
          "height": 0
        },
        "id": "q2SJ1vZ4CUv4",
        "outputId": "255d9138-987a-4f81-90b8-345e3c174dc0"
      },
      "outputs": [
        {
          "data": {
            "text/html": [
              "<div>\n",
              "<style scoped>\n",
              "    .dataframe tbody tr th:only-of-type {\n",
              "        vertical-align: middle;\n",
              "    }\n",
              "\n",
              "    .dataframe tbody tr th {\n",
              "        vertical-align: top;\n",
              "    }\n",
              "\n",
              "    .dataframe thead th {\n",
              "        text-align: right;\n",
              "    }\n",
              "</style>\n",
              "<table border=\"1\" class=\"dataframe\">\n",
              "  <thead>\n",
              "    <tr style=\"text-align: right;\">\n",
              "      <th></th>\n",
              "      <th>Team</th>\n",
              "      <th>Team_G</th>\n",
              "      <th>Team_A</th>\n",
              "      <th>Team_N</th>\n",
              "      <th>Team_E</th>\n",
              "      <th>Team_C</th>\n",
              "    </tr>\n",
              "  </thead>\n",
              "  <tbody>\n",
              "    <tr>\n",
              "      <th>0</th>\n",
              "      <td>Norwich City</td>\n",
              "      <td>21.0</td>\n",
              "      <td>2.23</td>\n",
              "      <td>2.22</td>\n",
              "      <td>62.694</td>\n",
              "      <td>59.0</td>\n",
              "    </tr>\n",
              "    <tr>\n",
              "      <th>1</th>\n",
              "      <td>Burnley</td>\n",
              "      <td>32.0</td>\n",
              "      <td>3.08</td>\n",
              "      <td>2.34</td>\n",
              "      <td>69.512</td>\n",
              "      <td>72.0</td>\n",
              "    </tr>\n",
              "    <tr>\n",
              "      <th>2</th>\n",
              "      <td>Watford</td>\n",
              "      <td>33.0</td>\n",
              "      <td>2.46</td>\n",
              "      <td>2.65</td>\n",
              "      <td>64.007</td>\n",
              "      <td>69.0</td>\n",
              "    </tr>\n",
              "    <tr>\n",
              "      <th>3</th>\n",
              "      <td>Wolverhampton Wanderers</td>\n",
              "      <td>35.0</td>\n",
              "      <td>2.62</td>\n",
              "      <td>5.01</td>\n",
              "      <td>61.861</td>\n",
              "      <td>66.0</td>\n",
              "    </tr>\n",
              "    <tr>\n",
              "      <th>4</th>\n",
              "      <td>Brighton &amp; Hove Albion</td>\n",
              "      <td>40.0</td>\n",
              "      <td>2.34</td>\n",
              "      <td>2.11</td>\n",
              "      <td>59.900</td>\n",
              "      <td>76.0</td>\n",
              "    </tr>\n",
              "  </tbody>\n",
              "</table>\n",
              "</div>"
            ],
            "text/plain": [
              "                      Team  Team_G  Team_A  Team_N  Team_E  Team_C\n",
              "0             Norwich City    21.0    2.23    2.22  62.694    59.0\n",
              "1                  Burnley    32.0    3.08    2.34  69.512    72.0\n",
              "2                  Watford    33.0    2.46    2.65  64.007    69.0\n",
              "3  Wolverhampton Wanderers    35.0    2.62    5.01  61.861    66.0\n",
              "4   Brighton & Hove Albion    40.0    2.34    2.11  59.900    76.0"
            ]
          },
          "execution_count": 40,
          "metadata": {},
          "output_type": "execute_result"
        }
      ],
      "source": [
        "teamrank = pd.merge(teamrank, team_C, how = 'inner', on= 'Team')\n",
        "# 팀별 데이터프레임에 추가\n",
        "\n",
        "teamrank.head() # 데이터 확인"
      ]
    },
    {
      "cell_type": "markdown",
      "metadata": {
        "id": "sXvVPvWzCMZn"
      },
      "source": [
        "step2. 팀 별 누적 카드 수 시각화"
      ]
    },
    {
      "cell_type": "code",
      "execution_count": 41,
      "metadata": {
        "colab": {
          "base_uri": "https://localhost:8080/",
          "height": 0
        },
        "id": "YvZxdWGECStB",
        "outputId": "bb0dc2ce-0716-472f-b14e-6db469e2915b"
      },
      "outputs": [
        {
          "data": {
            "text/plain": [
              "<AxesSubplot:xlabel='Team_C', ylabel='Team'>"
            ]
          },
          "execution_count": 41,
          "metadata": {},
          "output_type": "execute_result"
        },
        {
          "data": {
            "image/png": "[encoded data removed]",
            "text/plain": [
              "<Figure size 432x288 with 1 Axes>"
            ]
          },
          "metadata": {
            "needs_background": "light"
          },
          "output_type": "display_data"
        }
      ],
      "source": [
        "team_c = team_C.sort_values(by=['Team_C'])\n",
        "# 팀 별 누적 카드수에 따른 순위를 확인하기 위한 누적 카드 수 정렬\n",
        "\n",
        "sns.barplot(data = team_c, y = 'Team', x = 'Team_C')\n",
        "# 막대그래프를 통한 데이터 시각화"
      ]
    },
    {
      "cell_type": "markdown",
      "metadata": {
        "id": "PuhMzlhfeedc"
      },
      "source": [
        "#####⭐(실제 골 - 예상 골) 평균 수치"
      ]
    },
    {
      "cell_type": "markdown",
      "metadata": {
        "id": "__AYsyUR3FpS"
      },
      "source": [
        "step1. step1. 선수별 (실제 골 - 예상 골) 구하기"
      ]
    },
    {
      "cell_type": "code",
      "execution_count": 42,
      "metadata": {
        "colab": {
          "base_uri": "https://localhost:8080/",
          "height": 206
        },
        "id": "I3626SXW4Bza",
        "outputId": "43b54709-8147-45aa-c31d-269bd543f23c"
      },
      "outputs": [
        {
          "data": {
            "text/html": [
              "<div>\n",
              "<style scoped>\n",
              "    .dataframe tbody tr th:only-of-type {\n",
              "        vertical-align: middle;\n",
              "    }\n",
              "\n",
              "    .dataframe tbody tr th {\n",
              "        vertical-align: top;\n",
              "    }\n",
              "\n",
              "    .dataframe thead th {\n",
              "        text-align: right;\n",
              "    }\n",
              "</style>\n",
              "<table border=\"1\" class=\"dataframe\">\n",
              "  <thead>\n",
              "    <tr style=\"text-align: right;\">\n",
              "      <th></th>\n",
              "      <th>Team</th>\n",
              "      <th>Nation</th>\n",
              "      <th>Pos</th>\n",
              "      <th>Age</th>\n",
              "      <th>MP</th>\n",
              "      <th>Min</th>\n",
              "      <th>Gls</th>\n",
              "      <th>CrdY</th>\n",
              "      <th>CrdR</th>\n",
              "      <th>xG</th>\n",
              "      <th>endurance</th>\n",
              "      <th>Gls-xG</th>\n",
              "    </tr>\n",
              "  </thead>\n",
              "  <tbody>\n",
              "    <tr>\n",
              "      <th>0</th>\n",
              "      <td>Arsenal</td>\n",
              "      <td>ENG</td>\n",
              "      <td>FW,MF</td>\n",
              "      <td>19.0</td>\n",
              "      <td>38</td>\n",
              "      <td>2978</td>\n",
              "      <td>11.0</td>\n",
              "      <td>6.0</td>\n",
              "      <td>0.0</td>\n",
              "      <td>9.7</td>\n",
              "      <td>78.368</td>\n",
              "      <td>1.3</td>\n",
              "    </tr>\n",
              "    <tr>\n",
              "      <th>1</th>\n",
              "      <td>Arsenal</td>\n",
              "      <td>BRA</td>\n",
              "      <td>DF</td>\n",
              "      <td>23.0</td>\n",
              "      <td>35</td>\n",
              "      <td>3063</td>\n",
              "      <td>5.0</td>\n",
              "      <td>8.0</td>\n",
              "      <td>1.0</td>\n",
              "      <td>2.7</td>\n",
              "      <td>87.514</td>\n",
              "      <td>2.3</td>\n",
              "    </tr>\n",
              "    <tr>\n",
              "      <th>3</th>\n",
              "      <td>Arsenal</td>\n",
              "      <td>ENG</td>\n",
              "      <td>DF</td>\n",
              "      <td>23.0</td>\n",
              "      <td>32</td>\n",
              "      <td>2880</td>\n",
              "      <td>0.0</td>\n",
              "      <td>3.0</td>\n",
              "      <td>0.0</td>\n",
              "      <td>1.0</td>\n",
              "      <td>90.000</td>\n",
              "      <td>-1.0</td>\n",
              "    </tr>\n",
              "    <tr>\n",
              "      <th>4</th>\n",
              "      <td>Arsenal</td>\n",
              "      <td>NOR</td>\n",
              "      <td>MF</td>\n",
              "      <td>22.0</td>\n",
              "      <td>36</td>\n",
              "      <td>2785</td>\n",
              "      <td>7.0</td>\n",
              "      <td>4.0</td>\n",
              "      <td>0.0</td>\n",
              "      <td>4.8</td>\n",
              "      <td>77.361</td>\n",
              "      <td>2.2</td>\n",
              "    </tr>\n",
              "    <tr>\n",
              "      <th>5</th>\n",
              "      <td>Arsenal</td>\n",
              "      <td>SUI</td>\n",
              "      <td>MF,DF</td>\n",
              "      <td>28.0</td>\n",
              "      <td>27</td>\n",
              "      <td>2327</td>\n",
              "      <td>1.0</td>\n",
              "      <td>10.0</td>\n",
              "      <td>1.0</td>\n",
              "      <td>1.2</td>\n",
              "      <td>86.185</td>\n",
              "      <td>-0.2</td>\n",
              "    </tr>\n",
              "  </tbody>\n",
              "</table>\n",
              "</div>"
            ],
            "text/plain": [
              "      Team Nation    Pos   Age  MP   Min   Gls  CrdY  CrdR   xG  endurance  \\\n",
              "0  Arsenal    ENG  FW,MF  19.0  38  2978  11.0   6.0   0.0  9.7     78.368   \n",
              "1  Arsenal    BRA     DF  23.0  35  3063   5.0   8.0   1.0  2.7     87.514   \n",
              "3  Arsenal    ENG     DF  23.0  32  2880   0.0   3.0   0.0  1.0     90.000   \n",
              "4  Arsenal    NOR     MF  22.0  36  2785   7.0   4.0   0.0  4.8     77.361   \n",
              "5  Arsenal    SUI  MF,DF  28.0  27  2327   1.0  10.0   1.0  1.2     86.185   \n",
              "\n",
              "   Gls-xG  \n",
              "0     1.3  \n",
              "1     2.3  \n",
              "3    -1.0  \n",
              "4     2.2  \n",
              "5    -0.2  "
            ]
          },
          "execution_count": 42,
          "metadata": {},
          "output_type": "execute_result"
        }
      ],
      "source": [
        "R_FB_DF[\"Gls-xG\"] = R_FB_DF[\"Gls\"] - R_FB_DF[\"xG\"]\n",
        "# 선수별 (실제 골 - 예상 골)을 나타내는 새로운 컬럼 생성\n",
        "\n",
        "R_FB_DF.head()"
      ]
    },
    {
      "cell_type": "code",
      "execution_count": 43,
      "metadata": {
        "colab": {
          "base_uri": "https://localhost:8080/"
        },
        "id": "-48BiQLCWfAi",
        "outputId": "9d047a01-97e5-4f1b-bf57-70276683499e"
      },
      "outputs": [
        {
          "name": "stdout",
          "output_type": "stream",
          "text": [
            "{'Arsenal': -0.056, 'Aston Villa': 0.189, 'Brentford': -0.088, 'Brighton & Hove Albion': -0.279, 'Burnley': -0.371, 'Chelsea': 0.25, 'Crystal Palace': 0.141, 'Everton': -0.045, 'Leeds United': -0.226, 'Leicester City': 0.396, 'Liverpool': 0.116, 'Manchester City': 0.213, 'Manchester United': 0.032, 'Newcastle United': -0.012, 'Norwich City': -0.508, 'Southampton': -0.3, 'Tottenham Hotspur': -0.125, 'Watford': -0.221, 'West Ham United': 0.304, 'Wolverhampton Wanderers': -0.071}\n"
          ]
        }
      ],
      "source": [
        "Team_F = {}\n",
        "\n",
        "for i, j in enumerate(R_FB_DF[\"Team\"]): # 팀명에 따른 인덱스와 데이터 할당\n",
        "  if j in Team_F:  # 비어있는 딕셔너리 내에 데이터가 존재할 경우\n",
        "    Team_F[j] += R_FB_DF.iloc[i][\"Gls-xG\"] # (실제 골 - 예상 골) 수치 더함\n",
        "  else: # 존재하지 않을 경우\n",
        "    Team_F[j] = R_FB_DF.iloc[i][\"Gls-xG\"] # 초기 (실제 골 - 예상 골) 수치 설정\n",
        "\n",
        "for i in Team_F.keys():\n",
        "  if Team_F[i]:\n",
        "    Team_F[i] = round(Team_F[i]/Team[i], 3)\n",
        "     # 각 팀에 따른 최종 평균(실제 골 - 예상 골) 수치 딕셔너리\n",
        "\n",
        "print(Team_F)"
      ]
    },
    {
      "cell_type": "code",
      "execution_count": 44,
      "metadata": {
        "colab": {
          "base_uri": "https://localhost:8080/",
          "height": 206
        },
        "id": "WLnweB2p9uKB",
        "outputId": "52d64074-5571-4199-cb9b-9804a9c269d8"
      },
      "outputs": [
        {
          "data": {
            "text/html": [
              "<div>\n",
              "<style scoped>\n",
              "    .dataframe tbody tr th:only-of-type {\n",
              "        vertical-align: middle;\n",
              "    }\n",
              "\n",
              "    .dataframe tbody tr th {\n",
              "        vertical-align: top;\n",
              "    }\n",
              "\n",
              "    .dataframe thead th {\n",
              "        text-align: right;\n",
              "    }\n",
              "</style>\n",
              "<table border=\"1\" class=\"dataframe\">\n",
              "  <thead>\n",
              "    <tr style=\"text-align: right;\">\n",
              "      <th></th>\n",
              "      <th>Team</th>\n",
              "      <th>Team_G</th>\n",
              "      <th>Team_A</th>\n",
              "      <th>Team_N</th>\n",
              "      <th>Team_E</th>\n",
              "      <th>Team_C</th>\n",
              "      <th>Team_F</th>\n",
              "    </tr>\n",
              "  </thead>\n",
              "  <tbody>\n",
              "    <tr>\n",
              "      <th>0</th>\n",
              "      <td>Norwich City</td>\n",
              "      <td>21.0</td>\n",
              "      <td>2.23</td>\n",
              "      <td>2.22</td>\n",
              "      <td>62.694</td>\n",
              "      <td>59.0</td>\n",
              "      <td>-0.508</td>\n",
              "    </tr>\n",
              "    <tr>\n",
              "      <th>1</th>\n",
              "      <td>Burnley</td>\n",
              "      <td>32.0</td>\n",
              "      <td>3.08</td>\n",
              "      <td>2.34</td>\n",
              "      <td>69.512</td>\n",
              "      <td>72.0</td>\n",
              "      <td>-0.371</td>\n",
              "    </tr>\n",
              "    <tr>\n",
              "      <th>2</th>\n",
              "      <td>Watford</td>\n",
              "      <td>33.0</td>\n",
              "      <td>2.46</td>\n",
              "      <td>2.65</td>\n",
              "      <td>64.007</td>\n",
              "      <td>69.0</td>\n",
              "      <td>-0.221</td>\n",
              "    </tr>\n",
              "    <tr>\n",
              "      <th>3</th>\n",
              "      <td>Wolverhampton Wanderers</td>\n",
              "      <td>35.0</td>\n",
              "      <td>2.62</td>\n",
              "      <td>5.01</td>\n",
              "      <td>61.861</td>\n",
              "      <td>66.0</td>\n",
              "      <td>-0.071</td>\n",
              "    </tr>\n",
              "    <tr>\n",
              "      <th>4</th>\n",
              "      <td>Brighton &amp; Hove Albion</td>\n",
              "      <td>40.0</td>\n",
              "      <td>2.34</td>\n",
              "      <td>2.11</td>\n",
              "      <td>59.900</td>\n",
              "      <td>76.0</td>\n",
              "      <td>-0.279</td>\n",
              "    </tr>\n",
              "  </tbody>\n",
              "</table>\n",
              "</div>"
            ],
            "text/plain": [
              "                      Team  Team_G  Team_A  Team_N  Team_E  Team_C  Team_F\n",
              "0             Norwich City    21.0    2.23    2.22  62.694    59.0  -0.508\n",
              "1                  Burnley    32.0    3.08    2.34  69.512    72.0  -0.371\n",
              "2                  Watford    33.0    2.46    2.65  64.007    69.0  -0.221\n",
              "3  Wolverhampton Wanderers    35.0    2.62    5.01  61.861    66.0  -0.071\n",
              "4   Brighton & Hove Albion    40.0    2.34    2.11  59.900    76.0  -0.279"
            ]
          },
          "execution_count": 44,
          "metadata": {},
          "output_type": "execute_result"
        }
      ],
      "source": [
        "Team_F_ = pd.DataFrame()\n",
        "\n",
        "Team_F_[\"Team\"] = Team_F.keys()\n",
        "Team_F_[\"Team_F\"] = Team_F.values()\n",
        "# 팀 별 평균 (실제 골 - 예상 골) 데이터 프레임 생성\n",
        "\n",
        "teamrank = pd.merge(teamrank, Team_F_, on = 'Team')\n",
        "# 팀별 데이터프레임에 추가\n",
        "\n",
        "teamrank.head() # 데이터 확인"
      ]
    },
    {
      "cell_type": "markdown",
      "metadata": {
        "id": "FlyYoslQw6uA"
      },
      "source": [
        "### ⚽ 승점 데이터프레임 생성\n"
      ]
    },
    {
      "cell_type": "code",
      "execution_count": 45,
      "metadata": {
        "id": "-fWl3ml2EUxk"
      },
      "outputs": [],
      "source": [
        "# 팀 별 컬럼에 따른 평균 승점을 저장해 주기 위한 함수 생성\n",
        "\n",
        "def score_pred(col):\n",
        "    Score = {}\n",
        "\n",
        "    for i in range(len(teamrank)): # 각 컬럼 길이\n",
        "        sum = 0 # 승점\n",
        "        for j in teamrank[col]: # 각 컬럼 값\n",
        "        \n",
        "            if col == \"Team_C\": # 만약 승점 계산 할 컬럼이 Team_C 라면\n",
        "              if teamrank[col][i] < j: # 다른 팀과 비교 했을 때 졌으면 +3점\n",
        "                sum += 3\n",
        "              elif teamrank[col][i] == j: \n",
        "                sum += 1 # 다른 팀과 비교 했을 때 같으면 +1점\n",
        "              \n",
        "            else:\n",
        "              if teamrank[col][i] > j: # 승점 계산 할 팀의 데이터가\n",
        "                  sum += 3  # 다른 팀과 비교 했을 때 이겼으면 +3점\n",
        "              elif teamrank[col][i] == j:\n",
        "                  sum += 1 # 다른 팀과 비교 했을 때 같으면 +1점\n",
        "        sum -=1 # 자기 자신과의 경기 : 무승부 일 때의 1 마이너스\n",
        "\n",
        "        Score[teamrank['Team'][i]] = sum\n",
        "        # 각 컬럼에 해당하는 데이터 최종 승점 컬럼 승점 데이터 프레임에 삽입\n",
        "\n",
        "    dict_ = {}\n",
        "    dict_['Team'] = [i for i in Score.keys()]\n",
        "    dict_[col+'_S'] = [i  for i in Score.values()]\n",
        "    # 각 팀의 승점을 의미하는 딕셔너리 생성\n",
        "\n",
        "    rank = pd.DataFrame(dict_)\n",
        "    # 각 컬럼에 대한 승점 딕셔너리 데이터 프레임 형태로 변환\n",
        "    \n",
        "    return rank\n",
        "    # 각 컬럼에 대한 승점 데이터 프레임 반환\n"
      ]
    },
    {
      "cell_type": "code",
      "execution_count": 46,
      "metadata": {
        "colab": {
          "base_uri": "https://localhost:8080/",
          "height": 206
        },
        "id": "AsaffqE3DRvp",
        "outputId": "c49268fe-e007-4e91-9a1f-9b0509e42ea5"
      },
      "outputs": [
        {
          "data": {
            "text/html": [
              "<div>\n",
              "<style scoped>\n",
              "    .dataframe tbody tr th:only-of-type {\n",
              "        vertical-align: middle;\n",
              "    }\n",
              "\n",
              "    .dataframe tbody tr th {\n",
              "        vertical-align: top;\n",
              "    }\n",
              "\n",
              "    .dataframe thead th {\n",
              "        text-align: right;\n",
              "    }\n",
              "</style>\n",
              "<table border=\"1\" class=\"dataframe\">\n",
              "  <thead>\n",
              "    <tr style=\"text-align: right;\">\n",
              "      <th></th>\n",
              "      <th>Team</th>\n",
              "    </tr>\n",
              "  </thead>\n",
              "  <tbody>\n",
              "    <tr>\n",
              "      <th>0</th>\n",
              "      <td>Southampton</td>\n",
              "    </tr>\n",
              "    <tr>\n",
              "      <th>1</th>\n",
              "      <td>Leeds United</td>\n",
              "    </tr>\n",
              "    <tr>\n",
              "      <th>2</th>\n",
              "      <td>Wolverhampton Wanderers</td>\n",
              "    </tr>\n",
              "    <tr>\n",
              "      <th>3</th>\n",
              "      <td>Arsenal</td>\n",
              "    </tr>\n",
              "    <tr>\n",
              "      <th>4</th>\n",
              "      <td>Manchester United</td>\n",
              "    </tr>\n",
              "  </tbody>\n",
              "</table>\n",
              "</div>"
            ],
            "text/plain": [
              "                      Team\n",
              "0              Southampton\n",
              "1             Leeds United\n",
              "2  Wolverhampton Wanderers\n",
              "3                  Arsenal\n",
              "4        Manchester United"
            ]
          },
          "execution_count": 46,
          "metadata": {},
          "output_type": "execute_result"
        }
      ],
      "source": [
        "scores = pd.DataFrame(data = list(set(FB_DF['Team'])),columns=['Team'])\n",
        "# 승점 저장을 위한 팀 데이터 프레임 생성\n",
        "\n",
        "scores.head() # 데이터 확인"
      ]
    },
    {
      "cell_type": "code",
      "execution_count": 47,
      "metadata": {
        "colab": {
          "base_uri": "https://localhost:8080/",
          "height": 206
        },
        "id": "8CpqUUduD6Qh",
        "outputId": "7dd48b6e-c8c4-4676-bc5c-d313f300d0f0"
      },
      "outputs": [
        {
          "data": {
            "text/html": [
              "<div>\n",
              "<style scoped>\n",
              "    .dataframe tbody tr th:only-of-type {\n",
              "        vertical-align: middle;\n",
              "    }\n",
              "\n",
              "    .dataframe tbody tr th {\n",
              "        vertical-align: top;\n",
              "    }\n",
              "\n",
              "    .dataframe thead th {\n",
              "        text-align: right;\n",
              "    }\n",
              "</style>\n",
              "<table border=\"1\" class=\"dataframe\">\n",
              "  <thead>\n",
              "    <tr style=\"text-align: right;\">\n",
              "      <th></th>\n",
              "      <th>Team</th>\n",
              "      <th>Team_G_S</th>\n",
              "      <th>Team_A_S</th>\n",
              "      <th>Team_N_S</th>\n",
              "      <th>Team_E_S</th>\n",
              "      <th>Team_C_S</th>\n",
              "      <th>Team_F_S</th>\n",
              "    </tr>\n",
              "  </thead>\n",
              "  <tbody>\n",
              "    <tr>\n",
              "      <th>0</th>\n",
              "      <td>Southampton</td>\n",
              "      <td>16</td>\n",
              "      <td>48</td>\n",
              "      <td>15</td>\n",
              "      <td>48</td>\n",
              "      <td>34</td>\n",
              "      <td>6</td>\n",
              "    </tr>\n",
              "    <tr>\n",
              "      <th>1</th>\n",
              "      <td>Leeds United</td>\n",
              "      <td>22</td>\n",
              "      <td>9</td>\n",
              "      <td>0</td>\n",
              "      <td>12</td>\n",
              "      <td>0</td>\n",
              "      <td>12</td>\n",
              "    </tr>\n",
              "    <tr>\n",
              "      <th>2</th>\n",
              "      <td>Wolverhampton Wanderers</td>\n",
              "      <td>9</td>\n",
              "      <td>18</td>\n",
              "      <td>57</td>\n",
              "      <td>30</td>\n",
              "      <td>39</td>\n",
              "      <td>24</td>\n",
              "    </tr>\n",
              "    <tr>\n",
              "      <th>3</th>\n",
              "      <td>Arsenal</td>\n",
              "      <td>42</td>\n",
              "      <td>25</td>\n",
              "      <td>48</td>\n",
              "      <td>45</td>\n",
              "      <td>18</td>\n",
              "      <td>27</td>\n",
              "    </tr>\n",
              "    <tr>\n",
              "      <th>4</th>\n",
              "      <td>Manchester United</td>\n",
              "      <td>36</td>\n",
              "      <td>21</td>\n",
              "      <td>12</td>\n",
              "      <td>15</td>\n",
              "      <td>12</td>\n",
              "      <td>36</td>\n",
              "    </tr>\n",
              "  </tbody>\n",
              "</table>\n",
              "</div>"
            ],
            "text/plain": [
              "                      Team  Team_G_S  Team_A_S  Team_N_S  Team_E_S  Team_C_S  \\\n",
              "0              Southampton        16        48        15        48        34   \n",
              "1             Leeds United        22         9         0        12         0   \n",
              "2  Wolverhampton Wanderers         9        18        57        30        39   \n",
              "3                  Arsenal        42        25        48        45        18   \n",
              "4        Manchester United        36        21        12        15        12   \n",
              "\n",
              "   Team_F_S  \n",
              "0         6  \n",
              "1        12  \n",
              "2        24  \n",
              "3        27  \n",
              "4        36  "
            ]
          },
          "execution_count": 47,
          "metadata": {},
          "output_type": "execute_result"
        }
      ],
      "source": [
        "cols = teamrank.columns[1:]\n",
        "# 승점 계산을 위한 각 컬럼 이름 리스트\n",
        "\n",
        "for i in cols:\n",
        "    data = score_pred(i)\n",
        "    # score_pred 함수를 통해 각 컬럼에 대한 예상 승점 데이터 계산\n",
        "\n",
        "    scores = pd.merge(scores, data, how='inner',on='Team')\n",
        "    # 각 컬럼에 대힌 승점 데이터 프레임 모두 합치기\n",
        "\n",
        "scores.head() # 데이터 확인"
      ]
    },
    {
      "cell_type": "code",
      "execution_count": 48,
      "metadata": {
        "colab": {
          "base_uri": "https://localhost:8080/",
          "height": 206
        },
        "id": "yagsiutiELdA",
        "outputId": "8b0423fd-b267-4260-f7e6-a1e5d6448539"
      },
      "outputs": [
        {
          "data": {
            "text/html": [
              "<div>\n",
              "<style scoped>\n",
              "    .dataframe tbody tr th:only-of-type {\n",
              "        vertical-align: middle;\n",
              "    }\n",
              "\n",
              "    .dataframe tbody tr th {\n",
              "        vertical-align: top;\n",
              "    }\n",
              "\n",
              "    .dataframe thead th {\n",
              "        text-align: right;\n",
              "    }\n",
              "</style>\n",
              "<table border=\"1\" class=\"dataframe\">\n",
              "  <thead>\n",
              "    <tr style=\"text-align: right;\">\n",
              "      <th></th>\n",
              "      <th>Team</th>\n",
              "      <th>Team_G_S</th>\n",
              "      <th>Team_A_S</th>\n",
              "      <th>Team_N_S</th>\n",
              "      <th>Team_E_S</th>\n",
              "      <th>Team_C_S</th>\n",
              "      <th>Team_F_S</th>\n",
              "      <th>Pred_S</th>\n",
              "    </tr>\n",
              "  </thead>\n",
              "  <tbody>\n",
              "    <tr>\n",
              "      <th>0</th>\n",
              "      <td>Southampton</td>\n",
              "      <td>16</td>\n",
              "      <td>48</td>\n",
              "      <td>15</td>\n",
              "      <td>48</td>\n",
              "      <td>34</td>\n",
              "      <td>6</td>\n",
              "      <td>22.86</td>\n",
              "    </tr>\n",
              "    <tr>\n",
              "      <th>1</th>\n",
              "      <td>Leeds United</td>\n",
              "      <td>22</td>\n",
              "      <td>9</td>\n",
              "      <td>0</td>\n",
              "      <td>12</td>\n",
              "      <td>0</td>\n",
              "      <td>12</td>\n",
              "      <td>6.86</td>\n",
              "    </tr>\n",
              "    <tr>\n",
              "      <th>2</th>\n",
              "      <td>Wolverhampton Wanderers</td>\n",
              "      <td>9</td>\n",
              "      <td>18</td>\n",
              "      <td>57</td>\n",
              "      <td>30</td>\n",
              "      <td>39</td>\n",
              "      <td>24</td>\n",
              "      <td>24.29</td>\n",
              "    </tr>\n",
              "    <tr>\n",
              "      <th>3</th>\n",
              "      <td>Arsenal</td>\n",
              "      <td>42</td>\n",
              "      <td>25</td>\n",
              "      <td>48</td>\n",
              "      <td>45</td>\n",
              "      <td>18</td>\n",
              "      <td>27</td>\n",
              "      <td>28.29</td>\n",
              "    </tr>\n",
              "    <tr>\n",
              "      <th>4</th>\n",
              "      <td>Manchester United</td>\n",
              "      <td>36</td>\n",
              "      <td>21</td>\n",
              "      <td>12</td>\n",
              "      <td>15</td>\n",
              "      <td>12</td>\n",
              "      <td>36</td>\n",
              "      <td>17.86</td>\n",
              "    </tr>\n",
              "  </tbody>\n",
              "</table>\n",
              "</div>"
            ],
            "text/plain": [
              "                      Team  Team_G_S  Team_A_S  Team_N_S  Team_E_S  Team_C_S  \\\n",
              "0              Southampton        16        48        15        48        34   \n",
              "1             Leeds United        22         9         0        12         0   \n",
              "2  Wolverhampton Wanderers         9        18        57        30        39   \n",
              "3                  Arsenal        42        25        48        45        18   \n",
              "4        Manchester United        36        21        12        15        12   \n",
              "\n",
              "   Team_F_S  Pred_S  \n",
              "0         6   22.86  \n",
              "1        12    6.86  \n",
              "2        24   24.29  \n",
              "3        27   28.29  \n",
              "4        36   17.86  "
            ]
          },
          "execution_count": 48,
          "metadata": {},
          "output_type": "execute_result"
        }
      ],
      "source": [
        "pred_s = {}\n",
        "\n",
        "for i in range(len(scores)):\n",
        "    col = scores.iloc[i]\n",
        "    pred_s[col[0]] = round(col[1:].sum()/len(scores.columns)-1,2)\n",
        "    # 각 컬럼 별 예상 승점을 모두 더해 평균 계산\n",
        "\n",
        "dict_= {}\n",
        "dict_['Team'] = [i for i in pred_s.keys()]\n",
        "dict_['Pred_S'] = [i for i in pred_s.values()]\n",
        "# 각 컬럼 별 평균 예상 승점 딕셔너리 생성\n",
        "\n",
        "pred_S = pd.DataFrame(dict_)\n",
        "# 각 컬럼에 대한 평균 승점 딕셔너리 데이터 프레임 형태로 변환\n",
        "\n",
        "scores = pd.merge(scores, pred_S,how='inner',on='Team')\n",
        "# 승점 데이터 프레임 생성\n",
        "\n",
        "scores.head() # 데이터 확인"
      ]
    },
    {
      "cell_type": "markdown",
      "metadata": {
        "id": "a1tWPoApw8GG"
      },
      "source": [
        "### ⚽ 실제 승점과 비교분석하기"
      ]
    },
    {
      "cell_type": "markdown",
      "metadata": {
        "id": "Zt_EsYXRKr5E"
      },
      "source": [
        "step1. 실제 승점 가져오기"
      ]
    },
    {
      "cell_type": "code",
      "execution_count": 49,
      "metadata": {
        "colab": {
          "base_uri": "https://localhost:8080/",
          "height": 206
        },
        "id": "i7Qil76dImVj",
        "outputId": "c4ea37ce-d0b3-49a3-ee4f-8cc51922766b"
      },
      "outputs": [
        {
          "data": {
            "text/html": [
              "<div>\n",
              "<style scoped>\n",
              "    .dataframe tbody tr th:only-of-type {\n",
              "        vertical-align: middle;\n",
              "    }\n",
              "\n",
              "    .dataframe tbody tr th {\n",
              "        vertical-align: top;\n",
              "    }\n",
              "\n",
              "    .dataframe thead th {\n",
              "        text-align: right;\n",
              "    }\n",
              "</style>\n",
              "<table border=\"1\" class=\"dataframe\">\n",
              "  <thead>\n",
              "    <tr style=\"text-align: right;\">\n",
              "      <th></th>\n",
              "      <th>Team</th>\n",
              "      <th>Real_S</th>\n",
              "    </tr>\n",
              "  </thead>\n",
              "  <tbody>\n",
              "    <tr>\n",
              "      <th>0</th>\n",
              "      <td>Manchester City</td>\n",
              "      <td>93</td>\n",
              "    </tr>\n",
              "    <tr>\n",
              "      <th>1</th>\n",
              "      <td>Liverpool</td>\n",
              "      <td>92</td>\n",
              "    </tr>\n",
              "    <tr>\n",
              "      <th>2</th>\n",
              "      <td>Chelsea</td>\n",
              "      <td>74</td>\n",
              "    </tr>\n",
              "    <tr>\n",
              "      <th>3</th>\n",
              "      <td>Tottenham Hotspur</td>\n",
              "      <td>71</td>\n",
              "    </tr>\n",
              "    <tr>\n",
              "      <th>4</th>\n",
              "      <td>Arsenal</td>\n",
              "      <td>69</td>\n",
              "    </tr>\n",
              "  </tbody>\n",
              "</table>\n",
              "</div>"
            ],
            "text/plain": [
              "                Team  Real_S\n",
              "0    Manchester City      93\n",
              "1          Liverpool      92\n",
              "2            Chelsea      74\n",
              "3  Tottenham Hotspur      71\n",
              "4            Arsenal      69"
            ]
          },
          "execution_count": 49,
          "metadata": {},
          "output_type": "execute_result"
        }
      ],
      "source": [
        "# 실제 승점 가져오기\n",
        "real_s_path = \"points_table.csv\" # 승점 데이터 저장된 파일\n",
        "Real_S = pd.read_csv(real_s_path)\n",
        "\n",
        "Real_S =Real_S[['Team','Pts']] # 실제 승점 컬럼만 추출\n",
        "\n",
        "Real_S.rename(columns={'Pts':'Real_S'}, inplace = True) # 컬럼명 수정\n",
        "\n",
        "Real_S.head() # 데이터 확인"
      ]
    },
    {
      "cell_type": "code",
      "execution_count": 50,
      "metadata": {
        "colab": {
          "base_uri": "https://localhost:8080/",
          "height": 206
        },
        "id": "2VKMz9SQK3Wm",
        "outputId": "d6aff9b2-6961-4db5-a26d-f39a1c9e35d1"
      },
      "outputs": [
        {
          "data": {
            "text/html": [
              "<div>\n",
              "<style scoped>\n",
              "    .dataframe tbody tr th:only-of-type {\n",
              "        vertical-align: middle;\n",
              "    }\n",
              "\n",
              "    .dataframe tbody tr th {\n",
              "        vertical-align: top;\n",
              "    }\n",
              "\n",
              "    .dataframe thead th {\n",
              "        text-align: right;\n",
              "    }\n",
              "</style>\n",
              "<table border=\"1\" class=\"dataframe\">\n",
              "  <thead>\n",
              "    <tr style=\"text-align: right;\">\n",
              "      <th></th>\n",
              "      <th>Team</th>\n",
              "      <th>Team_G_S</th>\n",
              "      <th>Team_A_S</th>\n",
              "      <th>Team_N_S</th>\n",
              "      <th>Team_E_S</th>\n",
              "      <th>Team_C_S</th>\n",
              "      <th>Team_F_S</th>\n",
              "      <th>Pred_S</th>\n",
              "      <th>Real_S</th>\n",
              "    </tr>\n",
              "  </thead>\n",
              "  <tbody>\n",
              "    <tr>\n",
              "      <th>0</th>\n",
              "      <td>Southampton</td>\n",
              "      <td>16</td>\n",
              "      <td>48</td>\n",
              "      <td>15</td>\n",
              "      <td>48</td>\n",
              "      <td>34</td>\n",
              "      <td>6</td>\n",
              "      <td>22.86</td>\n",
              "      <td>40</td>\n",
              "    </tr>\n",
              "    <tr>\n",
              "      <th>1</th>\n",
              "      <td>Leeds United</td>\n",
              "      <td>22</td>\n",
              "      <td>9</td>\n",
              "      <td>0</td>\n",
              "      <td>12</td>\n",
              "      <td>0</td>\n",
              "      <td>12</td>\n",
              "      <td>6.86</td>\n",
              "      <td>38</td>\n",
              "    </tr>\n",
              "    <tr>\n",
              "      <th>2</th>\n",
              "      <td>Wolverhampton Wanderers</td>\n",
              "      <td>9</td>\n",
              "      <td>18</td>\n",
              "      <td>57</td>\n",
              "      <td>30</td>\n",
              "      <td>39</td>\n",
              "      <td>24</td>\n",
              "      <td>24.29</td>\n",
              "      <td>51</td>\n",
              "    </tr>\n",
              "    <tr>\n",
              "      <th>3</th>\n",
              "      <td>Arsenal</td>\n",
              "      <td>42</td>\n",
              "      <td>25</td>\n",
              "      <td>48</td>\n",
              "      <td>45</td>\n",
              "      <td>18</td>\n",
              "      <td>27</td>\n",
              "      <td>28.29</td>\n",
              "      <td>69</td>\n",
              "    </tr>\n",
              "    <tr>\n",
              "      <th>4</th>\n",
              "      <td>Manchester United</td>\n",
              "      <td>36</td>\n",
              "      <td>21</td>\n",
              "      <td>12</td>\n",
              "      <td>15</td>\n",
              "      <td>12</td>\n",
              "      <td>36</td>\n",
              "      <td>17.86</td>\n",
              "      <td>58</td>\n",
              "    </tr>\n",
              "  </tbody>\n",
              "</table>\n",
              "</div>"
            ],
            "text/plain": [
              "                      Team  Team_G_S  Team_A_S  Team_N_S  Team_E_S  Team_C_S  \\\n",
              "0              Southampton        16        48        15        48        34   \n",
              "1             Leeds United        22         9         0        12         0   \n",
              "2  Wolverhampton Wanderers         9        18        57        30        39   \n",
              "3                  Arsenal        42        25        48        45        18   \n",
              "4        Manchester United        36        21        12        15        12   \n",
              "\n",
              "   Team_F_S  Pred_S  Real_S  \n",
              "0         6   22.86      40  \n",
              "1        12    6.86      38  \n",
              "2        24   24.29      51  \n",
              "3        27   28.29      69  \n",
              "4        36   17.86      58  "
            ]
          },
          "execution_count": 50,
          "metadata": {},
          "output_type": "execute_result"
        }
      ],
      "source": [
        "scores = pd.merge(scores,Real_S,how='inner',on='Team')\n",
        "# 승점 데이터 프레임에 실제 승점 매치\n",
        "\n",
        "scores.head() # 데이터 확인"
      ]
    },
    {
      "cell_type": "code",
      "execution_count": 51,
      "metadata": {
        "colab": {
          "base_uri": "https://localhost:8080/",
          "height": 288
        },
        "id": "oI8rGl6HZVcJ",
        "outputId": "18deb733-9597-495b-bed9-399a178d90e6"
      },
      "outputs": [
        {
          "data": {
            "text/html": [
              "<div>\n",
              "<style scoped>\n",
              "    .dataframe tbody tr th:only-of-type {\n",
              "        vertical-align: middle;\n",
              "    }\n",
              "\n",
              "    .dataframe tbody tr th {\n",
              "        vertical-align: top;\n",
              "    }\n",
              "\n",
              "    .dataframe thead th {\n",
              "        text-align: right;\n",
              "    }\n",
              "</style>\n",
              "<table border=\"1\" class=\"dataframe\">\n",
              "  <thead>\n",
              "    <tr style=\"text-align: right;\">\n",
              "      <th></th>\n",
              "      <th>Team</th>\n",
              "      <th>Team_G_S</th>\n",
              "      <th>Team_A_S</th>\n",
              "      <th>Team_N_S</th>\n",
              "      <th>Team_E_S</th>\n",
              "      <th>Team_C_S</th>\n",
              "      <th>Team_F_S</th>\n",
              "      <th>Pred_S</th>\n",
              "      <th>Real_S</th>\n",
              "      <th>Pred_R</th>\n",
              "      <th>Real_R</th>\n",
              "    </tr>\n",
              "  </thead>\n",
              "  <tbody>\n",
              "    <tr>\n",
              "      <th>0</th>\n",
              "      <td>Southampton</td>\n",
              "      <td>16</td>\n",
              "      <td>48</td>\n",
              "      <td>15</td>\n",
              "      <td>48</td>\n",
              "      <td>34</td>\n",
              "      <td>6</td>\n",
              "      <td>22.86</td>\n",
              "      <td>40</td>\n",
              "      <td>11.0</td>\n",
              "      <td>14.0</td>\n",
              "    </tr>\n",
              "    <tr>\n",
              "      <th>1</th>\n",
              "      <td>Leeds United</td>\n",
              "      <td>22</td>\n",
              "      <td>9</td>\n",
              "      <td>0</td>\n",
              "      <td>12</td>\n",
              "      <td>0</td>\n",
              "      <td>12</td>\n",
              "      <td>6.86</td>\n",
              "      <td>38</td>\n",
              "      <td>19.0</td>\n",
              "      <td>16.0</td>\n",
              "    </tr>\n",
              "    <tr>\n",
              "      <th>2</th>\n",
              "      <td>Wolverhampton Wanderers</td>\n",
              "      <td>9</td>\n",
              "      <td>18</td>\n",
              "      <td>57</td>\n",
              "      <td>30</td>\n",
              "      <td>39</td>\n",
              "      <td>24</td>\n",
              "      <td>24.29</td>\n",
              "      <td>51</td>\n",
              "      <td>10.0</td>\n",
              "      <td>9.0</td>\n",
              "    </tr>\n",
              "    <tr>\n",
              "      <th>3</th>\n",
              "      <td>Arsenal</td>\n",
              "      <td>42</td>\n",
              "      <td>25</td>\n",
              "      <td>48</td>\n",
              "      <td>45</td>\n",
              "      <td>18</td>\n",
              "      <td>27</td>\n",
              "      <td>28.29</td>\n",
              "      <td>69</td>\n",
              "      <td>6.0</td>\n",
              "      <td>5.0</td>\n",
              "    </tr>\n",
              "    <tr>\n",
              "      <th>4</th>\n",
              "      <td>Manchester United</td>\n",
              "      <td>36</td>\n",
              "      <td>21</td>\n",
              "      <td>12</td>\n",
              "      <td>15</td>\n",
              "      <td>12</td>\n",
              "      <td>36</td>\n",
              "      <td>17.86</td>\n",
              "      <td>58</td>\n",
              "      <td>15.0</td>\n",
              "      <td>6.0</td>\n",
              "    </tr>\n",
              "  </tbody>\n",
              "</table>\n",
              "</div>"
            ],
            "text/plain": [
              "                      Team  Team_G_S  Team_A_S  Team_N_S  Team_E_S  Team_C_S  \\\n",
              "0              Southampton        16        48        15        48        34   \n",
              "1             Leeds United        22         9         0        12         0   \n",
              "2  Wolverhampton Wanderers         9        18        57        30        39   \n",
              "3                  Arsenal        42        25        48        45        18   \n",
              "4        Manchester United        36        21        12        15        12   \n",
              "\n",
              "   Team_F_S  Pred_S  Real_S  Pred_R  Real_R  \n",
              "0         6   22.86      40    11.0    14.0  \n",
              "1        12    6.86      38    19.0    16.0  \n",
              "2        24   24.29      51    10.0     9.0  \n",
              "3        27   28.29      69     6.0     5.0  \n",
              "4        36   17.86      58    15.0     6.0  "
            ]
          },
          "execution_count": 51,
          "metadata": {},
          "output_type": "execute_result"
        }
      ],
      "source": [
        "# 승점 기반 순위\n",
        "scores['Pred_R'] = scores['Pred_S'].rank(ascending=False) # 예상 승점 순위\n",
        "scores['Real_R'] = scores['Real_S'].rank(ascending=False) # 실제 승점 순위\n",
        "\n",
        "scores.head()"
      ]
    },
    {
      "cell_type": "markdown",
      "metadata": {
        "id": "mPSaHG2ZIooq"
      },
      "source": [
        "step2. 실제 승점과의 상관관계 시각화"
      ]
    },
    {
      "cell_type": "code",
      "execution_count": 52,
      "metadata": {
        "colab": {
          "base_uri": "https://localhost:8080/",
          "height": 564
        },
        "id": "MxH3Syd5ZXZP",
        "outputId": "5ded0512-6ab4-47cb-b057-0336c1a179e7"
      },
      "outputs": [
        {
          "data": {
            "image/png": "[encoded data removed]",
            "text/plain": [
              "<Figure size 1080x720 with 6 Axes>"
            ]
          },
          "metadata": {
            "needs_background": "light"
          },
          "output_type": "display_data"
        }
      ],
      "source": [
        "fig,ax = plt.subplots(2, 3,figsize=(15,10))\n",
        "\n",
        "plt.title('Correlation of columns')\n",
        "\n",
        "columns = [[\"Team_G_S\",\t\"Team_A_S\",\t\"Team_N_S\"],\t[\"Team_E_S\",\t\"Team_C_S\",\t\"Team_F_S\"]]\n",
        "# 상관관계를 확인하기 위한 컬럼명 리스트\n",
        "\n",
        "count = 0\n",
        "\n",
        "for cols in columns:\n",
        "  for index, col in enumerate(cols):\n",
        "    sns.regplot(x = col, y = 'Real_S', data = scores, ax= ax[count,index])\n",
        "    # 실제 승점과의 상관관계를 보기 위한 산점도\n",
        "\n",
        "    ax[count, index].set_xlabel(col) # x축 컬럼명\n",
        "    ax[count, index].set_ylabel('Real_S') # y축 컬럼명\n",
        "  count += 1\n",
        "\n",
        "plt.show()"
      ]
    },
    {
      "cell_type": "code",
      "execution_count": 87,
      "metadata": {},
      "outputs": [
        {
          "name": "stderr",
          "output_type": "stream",
          "text": [
            "No artists with labels found to put in legend.  Note that artists whose label start with an underscore are ignored when legend() is called with no argument.\n"
          ]
        },
        {
          "data": {
            "image/png": "[encoded data removed]",
            "text/plain": [
              "<Figure size 864x432 with 1 Axes>"
            ]
          },
          "metadata": {
            "needs_background": "light"
          },
          "output_type": "display_data"
        }
      ],
      "source": [
        "# 그림 사이즈, 바 굵기 조정\n",
        "fig, ax = plt.subplots(figsize=(12,6))\n",
        "bar_width = 0.25\n",
        "\n",
        "# 각 연도별로 3개 샵의 bar를 순서대로 나타내는 과정, 각 그래프는 0.25의 간격을 두고 그려짐\n",
        "b1 = plt.barh(scores['Team'],scores['Pred_R'], alpha=0.4, color='red')\n",
        "\n",
        "b2 = plt.barh(scores['Team'],scores['Real_R'], alpha=0.4, color='blue')\n",
        "\n",
        "# x축, y축 이름 및 범례 설정\n",
        "plt.xlabel('rank', size = 13)\n",
        "plt.ylabel('teams', size = 13)\n",
        "plt.legend()\n",
        "plt.show()"
      ]
    },
    {
      "cell_type": "code",
      "execution_count": 74,
      "metadata": {},
      "outputs": [
        {
          "data": {
            "text/plain": [
              "<AxesSubplot:>"
            ]
          },
          "execution_count": 74,
          "metadata": {},
          "output_type": "execute_result"
        },
        {
          "data": {
            "image/png": "[encoded data removed]",
            "text/plain": [
              "<Figure size 432x288 with 1 Axes>"
            ]
          },
          "metadata": {
            "needs_background": "light"
          },
          "output_type": "display_data"
        }
      ],
      "source": [
        "# 실제순위, 예상순위 그래프\n",
        "scores[['Pred_R','Real_R']].plot(kind = 'bar')"
      ]
    },
    {
      "cell_type": "markdown",
      "metadata": {
        "id": "wqeq-C53g_pj"
      },
      "source": [
        "### ⚽ 결론\n",
        "\n",
        "    - 6개 컬럼에 대해 실제 순위와의 상관관계를 확인해 보았다.\n",
        "    - 국가별 득점율(Team_N_S)의 경우 '많은 상관관계를 보이지 않을것이다'라는 가정하에 프로젝트를 진행하였는데 그래프로 보기에 상당한 상관관계를 보여주었다.\n",
        "    - 지구력(Team_E_S)의 경우 생각보다 많은 관계를 보이지 않은것 같다.\n",
        "    - 결론적으로 실제순위와 예상순위가 많은 차이를 보이지 않아 생각보다 좋은 결과가 나온것 같다."
      ]
    },
    {
      "cell_type": "markdown",
      "metadata": {},
      "source": []
    }
  ],
  "metadata": {
    "colab": {
      "collapsed_sections": [],
      "name": "Untitled23.ipynb",
      "provenance": []
    },
    "kernelspec": {
      "display_name": "Python 3.10.5 64-bit",
      "language": "python",
      "name": "python3"
    },
    "language_info": {
      "codemirror_mode": {
        "name": "ipython",
        "version": 3
      },
      "file_extension": ".py",
      "mimetype": "text/x-python",
      "name": "python",
      "nbconvert_exporter": "python",
      "pygments_lexer": "ipython3",
      "version": "3.10.5"
    },
    "vscode": {
      "interpreter": {
        "hash": "be04ff51d9b28d0a801579a1b9c0a46c912d4ebd8df3f1a97b27efafcf776c92"
      }
    }
  },
  "nbformat": 4,
  "nbformat_minor": 0
}
