{
 "cells": [
  {
   "cell_type": "code",
   "execution_count": 2,
   "metadata": {},
   "outputs": [
    {
     "data": {
      "text/plain": [
       "'Windows-1252'"
      ]
     },
     "execution_count": 2,
     "metadata": {},
     "output_type": "execute_result"
    }
   ],
   "source": [
    "import chardet\n",
    "# 파일의 인코딩 확인\n",
    "rawdata = open('리그.csv', 'rb').read()\n",
    "result = chardet.detect(rawdata)\n",
    "charenc = result['encoding']\n",
    "charenc"
   ]
  },
  {
   "cell_type": "code",
   "execution_count": 6,
   "metadata": {},
   "outputs": [
    {
     "data": {
      "text/plain": [
       "Player        True\n",
       "Team          True\n",
       "Nation        True\n",
       "Pos           True\n",
       "Age           True\n",
       "MP           False\n",
       "Starts       False\n",
       "Min           True\n",
       "90s          False\n",
       "Gls          False\n",
       "Ast          False\n",
       "G-PK         False\n",
       "PK           False\n",
       "PKatt        False\n",
       "CrdY         False\n",
       "CrdR         False\n",
       "Gls.1        False\n",
       "Ast.1        False\n",
       "G+A          False\n",
       "G-PK.1       False\n",
       "G+A-PK       False\n",
       "xG           False\n",
       "npxG         False\n",
       "xA           False\n",
       "npxG+xA      False\n",
       "xG.1         False\n",
       "xA.1         False\n",
       "xG+xA        False\n",
       "npxG.1       False\n",
       "npxG+xA.1    False\n",
       "dtype: bool"
      ]
     },
     "execution_count": 6,
     "metadata": {},
     "output_type": "execute_result"
    }
   ],
   "source": [
    "import pandas as pd\n",
    "df = pd.read_csv('리그.csv',encoding = charenc)"
   ]
  },
  {
   "cell_type": "markdown",
   "metadata": {},
   "source": [
    "선수 : 선수의 이름<br>\n",
    "\n",
    "팀 : 2021-2020년에 출전한 클럽<br>\n",
    "\n",
    "Nation : 선수의 국가<br>\n",
    "\n",
    "Pos : 포지션<br>\n",
    "\n",
    "나이 : 선수의 나이<br>\n",
    "\n",
    "MP : 총 경기 횟수<br>\n",
    "\n",
    "starts : 시작된 경기<br>\n",
    "\n",
    "Min : 경기 시간 90초<br>\n",
    "\n",
    "90s: 경기 시간을 90으로 나눈<br>\n",
    "\n",
    "Gls : 득점 또는 허용 골<br>\n",
    "\n",
    "Ast : 어시스트<br>\n",
    "\n",
    "G-PK : 페널티 없는 골<br>\n",
    "\n",
    "PK : 페널티 킥 성공<br>\n",
    "\n",
    "PKatt : 페널티 킥 참여 <br>\n",
    "\n",
    "CrdY : 옐로우 카드<br>\n",
    "\n",
    "CrdR : 레드 카드<br>\n",
    "\n",
    "Gls : 90분당 득점한 골<br>\n",
    "\n",
    "Ast : 90분당 어시스트 <br>\n",
    "\n",
    "G+A : 90분당 골 및 어시스트<br>\n",
    "\n",
    "G -PK : 90분당 득점에서 페널티킥을 뺀 횟수<br>\n",
    "\n",
    "G+A-PK: 90분당 득점을 뺀 어시스트<br>\n",
    "\n",
    "xG : 예상 골<br>\n",
    "\n",
    "npxG : 페널티 없는 예상 골<br>\n",
    "\n",
    "xA : 어시스트<br>\n",
    "\n",
    "npxG+xA : 페널티 없는 예상 골 + 어시스트<br>\n",
    "\n",
    "xG : 90분당 예상 골 <br>\n",
    "\n",
    "npxG : 페널티 없는 90분당 예상 골<br>\n",
    "\n",
    "xA : 어시스트 90 분당<br>\n",
    "\n",
    "npxG+xA : 페널티 없는 예상 골 + 90분당 예상 어시스트\n"
   ]
  },
  {
   "cell_type": "markdown",
   "metadata": {},
   "source": [
    "## 결측치 처리 방법\n",
    "    - 채우기, 버리기, 평균내기\n",
    "\n",
    "## 시각화주제 선정\n",
    "    - 베스트 11\n",
    "        - \n"
   ]
  },
  {
   "cell_type": "code",
   "execution_count": 20,
   "metadata": {},
   "outputs": [
    {
     "data": {
      "text/plain": [
       "['Newcastle United',\n",
       " 'Brighton & Hove Albion',\n",
       " 'Everton',\n",
       " 'Arsenal',\n",
       " 'Burnley',\n",
       " 'Norwich City',\n",
       " 'Liverpool',\n",
       " 'West Ham United',\n",
       " 'Leicester City',\n",
       " 'Aston Villa',\n",
       " 'Manchester City',\n",
       " 'Watford',\n",
       " 'Wolverhampton Wanderers',\n",
       " 'Brentford',\n",
       " 'Southampton',\n",
       " 'Crystal Palace',\n",
       " 'Manchester United',\n",
       " 'Tottenham Hotspur',\n",
       " 'Chelsea',\n",
       " 'Leeds United']"
      ]
     },
     "execution_count": 20,
     "metadata": {},
     "output_type": "execute_result"
    }
   ],
   "source": [
    "# row 생략 없이 출력\n",
    "pd.set_option('display.max_rows', None)\n",
    "# col 생략 없이 출력\n",
    "pd.set_option('display.max_columns', None)\n",
    "\n",
    "kind = list(set(df['Team']))\n",
    "type(kind)\n",
    "kind"
   ]
  },
  {
   "cell_type": "code",
   "execution_count": 13,
   "metadata": {},
   "outputs": [
    {
     "data": {
      "text/plain": [
       "41"
      ]
     },
     "execution_count": 13,
     "metadata": {},
     "output_type": "execute_result"
    }
   ],
   "source": [
    "len(df[df['Team'] == 'Arsenal']) # 팀수"
   ]
  },
  {
   "cell_type": "code",
   "execution_count": 23,
   "metadata": {},
   "outputs": [
    {
     "data": {
      "text/plain": [
       "{'Newcastle United': 33,\n",
       " 'Brighton & Hove Albion': 35,\n",
       " 'Everton': 40,\n",
       " 'Arsenal': 41,\n",
       " 'Burnley': 32,\n",
       " 'Norwich City': 34,\n",
       " 'Liverpool': 35,\n",
       " 'West Ham United': 31,\n",
       " 'Leicester City': 32,\n",
       " 'Aston Villa': 41,\n",
       " 'Manchester City': 33,\n",
       " 'Watford': 39,\n",
       " 'Wolverhampton Wanderers': 34,\n",
       " 'Brentford': 36,\n",
       " 'Southampton': 30,\n",
       " 'Crystal Palace': 30,\n",
       " 'Manchester United': 36,\n",
       " 'Tottenham Hotspur': 35,\n",
       " 'Chelsea': 31,\n",
       " 'Leeds United': 33}"
      ]
     },
     "execution_count": 23,
     "metadata": {},
     "output_type": "execute_result"
    }
   ],
   "source": [
    "dict_={}\n",
    "for i in kind:\n",
    "    pop = len(df[df['Team']==i])\n",
    "    dict_[i] = pop\n",
    "    #print(f'팀명 : {i} , 인원수 : {pop}')\n",
    "dict_"
   ]
  },
  {
   "cell_type": "code",
   "execution_count": 34,
   "metadata": {},
   "outputs": [
    {
     "data": {
      "text/plain": [
       "(['Newcastle United',\n",
       "  'Brighton & Hove Albion',\n",
       "  'Everton',\n",
       "  'Arsenal',\n",
       "  'Burnley',\n",
       "  'Norwich City',\n",
       "  'Liverpool',\n",
       "  'West Ham United',\n",
       "  'Leicester City',\n",
       "  'Aston Villa',\n",
       "  'Manchester City',\n",
       "  'Watford',\n",
       "  'Wolverhampton Wanderers',\n",
       "  'Brentford',\n",
       "  'Southampton',\n",
       "  'Crystal Palace',\n",
       "  'Manchester United',\n",
       "  'Tottenham Hotspur',\n",
       "  'Chelsea',\n",
       "  'Leeds United'],\n",
       " [33,\n",
       "  35,\n",
       "  40,\n",
       "  41,\n",
       "  32,\n",
       "  34,\n",
       "  35,\n",
       "  31,\n",
       "  32,\n",
       "  41,\n",
       "  33,\n",
       "  39,\n",
       "  34,\n",
       "  36,\n",
       "  30,\n",
       "  30,\n",
       "  36,\n",
       "  35,\n",
       "  31,\n",
       "  33])"
      ]
     },
     "execution_count": 34,
     "metadata": {},
     "output_type": "execute_result"
    }
   ],
   "source": [
    "list(dict_.keys()), list(dict_.values())"
   ]
  },
  {
   "cell_type": "code",
   "execution_count": 39,
   "metadata": {},
   "outputs": [
    {
     "data": {
      "text/plain": [
       "int"
      ]
     },
     "execution_count": 39,
     "metadata": {},
     "output_type": "execute_result"
    }
   ],
   "source": [
    "type(list(dict_.values())[0])"
   ]
  },
  {
   "cell_type": "code",
   "execution_count": 36,
   "metadata": {},
   "outputs": [
    {
     "ename": "TypeError",
     "evalue": "can't multiply sequence by non-int of type 'float'",
     "output_type": "error",
     "traceback": [
      "\u001b[1;31m---------------------------------------------------------------------------\u001b[0m",
      "\u001b[1;31mTypeError\u001b[0m                                 Traceback (most recent call last)",
      "\u001b[1;32mc:\\Users\\kkuju\\Desktop\\project\\데이터톤\\데이터톤.ipynb 셀 9\u001b[0m in \u001b[0;36m<cell line: 3>\u001b[1;34m()\u001b[0m\n\u001b[0;32m      <a href='vscode-notebook-cell:/c%3A/Users/kkuju/Desktop/project/%EB%8D%B0%EC%9D%B4%ED%84%B0%ED%86%A4/%EB%8D%B0%EC%9D%B4%ED%84%B0%ED%86%A4.ipynb#ch0000007?line=0'>1</a>\u001b[0m \u001b[39mfrom\u001b[39;00m \u001b[39mmatplotlib\u001b[39;00m \u001b[39mimport\u001b[39;00m pyplot \u001b[39mas\u001b[39;00m plt\n\u001b[1;32m----> <a href='vscode-notebook-cell:/c%3A/Users/kkuju/Desktop/project/%EB%8D%B0%EC%9D%B4%ED%84%B0%ED%86%A4/%EB%8D%B0%EC%9D%B4%ED%84%B0%ED%86%A4.ipynb#ch0000007?line=2'>3</a>\u001b[0m plt\u001b[39m.\u001b[39;49mpie(\u001b[39mlist\u001b[39;49m(dict_\u001b[39m.\u001b[39;49mvalues()),\u001b[39mlist\u001b[39;49m(dict_\u001b[39m.\u001b[39;49mkeys()))\n",
      "File \u001b[1;32mc:\\Users\\kkuju\\AppData\\Local\\Programs\\Python\\Python310\\lib\\site-packages\\matplotlib\\pyplot.py:2756\u001b[0m, in \u001b[0;36mpie\u001b[1;34m(x, explode, labels, colors, autopct, pctdistance, shadow, labeldistance, startangle, radius, counterclock, wedgeprops, textprops, center, frame, rotatelabels, normalize, data)\u001b[0m\n\u001b[0;32m   2749\u001b[0m \u001b[39m@_copy_docstring_and_deprecators\u001b[39m(Axes\u001b[39m.\u001b[39mpie)\n\u001b[0;32m   2750\u001b[0m \u001b[39mdef\u001b[39;00m \u001b[39mpie\u001b[39m(\n\u001b[0;32m   2751\u001b[0m         x, explode\u001b[39m=\u001b[39m\u001b[39mNone\u001b[39;00m, labels\u001b[39m=\u001b[39m\u001b[39mNone\u001b[39;00m, colors\u001b[39m=\u001b[39m\u001b[39mNone\u001b[39;00m, autopct\u001b[39m=\u001b[39m\u001b[39mNone\u001b[39;00m,\n\u001b[1;32m   (...)\u001b[0m\n\u001b[0;32m   2754\u001b[0m         textprops\u001b[39m=\u001b[39m\u001b[39mNone\u001b[39;00m, center\u001b[39m=\u001b[39m(\u001b[39m0\u001b[39m, \u001b[39m0\u001b[39m), frame\u001b[39m=\u001b[39m\u001b[39mFalse\u001b[39;00m,\n\u001b[0;32m   2755\u001b[0m         rotatelabels\u001b[39m=\u001b[39m\u001b[39mFalse\u001b[39;00m, \u001b[39m*\u001b[39m, normalize\u001b[39m=\u001b[39m\u001b[39mTrue\u001b[39;00m, data\u001b[39m=\u001b[39m\u001b[39mNone\u001b[39;00m):\n\u001b[1;32m-> 2756\u001b[0m     \u001b[39mreturn\u001b[39;00m gca()\u001b[39m.\u001b[39mpie(\n\u001b[0;32m   2757\u001b[0m         x, explode\u001b[39m=\u001b[39mexplode, labels\u001b[39m=\u001b[39mlabels, colors\u001b[39m=\u001b[39mcolors,\n\u001b[0;32m   2758\u001b[0m         autopct\u001b[39m=\u001b[39mautopct, pctdistance\u001b[39m=\u001b[39mpctdistance, shadow\u001b[39m=\u001b[39mshadow,\n\u001b[0;32m   2759\u001b[0m         labeldistance\u001b[39m=\u001b[39mlabeldistance, startangle\u001b[39m=\u001b[39mstartangle,\n\u001b[0;32m   2760\u001b[0m         radius\u001b[39m=\u001b[39mradius, counterclock\u001b[39m=\u001b[39mcounterclock,\n\u001b[0;32m   2761\u001b[0m         wedgeprops\u001b[39m=\u001b[39mwedgeprops, textprops\u001b[39m=\u001b[39mtextprops, center\u001b[39m=\u001b[39mcenter,\n\u001b[0;32m   2762\u001b[0m         frame\u001b[39m=\u001b[39mframe, rotatelabels\u001b[39m=\u001b[39mrotatelabels, normalize\u001b[39m=\u001b[39mnormalize,\n\u001b[0;32m   2763\u001b[0m         \u001b[39m*\u001b[39m\u001b[39m*\u001b[39m({\u001b[39m\"\u001b[39m\u001b[39mdata\u001b[39m\u001b[39m\"\u001b[39m: data} \u001b[39mif\u001b[39;00m data \u001b[39mis\u001b[39;00m \u001b[39mnot\u001b[39;00m \u001b[39mNone\u001b[39;00m \u001b[39melse\u001b[39;00m {}))\n",
      "File \u001b[1;32mc:\\Users\\kkuju\\AppData\\Local\\Programs\\Python\\Python310\\lib\\site-packages\\matplotlib\\__init__.py:1412\u001b[0m, in \u001b[0;36m_preprocess_data.<locals>.inner\u001b[1;34m(ax, data, *args, **kwargs)\u001b[0m\n\u001b[0;32m   1409\u001b[0m \u001b[39m@functools\u001b[39m\u001b[39m.\u001b[39mwraps(func)\n\u001b[0;32m   1410\u001b[0m \u001b[39mdef\u001b[39;00m \u001b[39minner\u001b[39m(ax, \u001b[39m*\u001b[39margs, data\u001b[39m=\u001b[39m\u001b[39mNone\u001b[39;00m, \u001b[39m*\u001b[39m\u001b[39m*\u001b[39mkwargs):\n\u001b[0;32m   1411\u001b[0m     \u001b[39mif\u001b[39;00m data \u001b[39mis\u001b[39;00m \u001b[39mNone\u001b[39;00m:\n\u001b[1;32m-> 1412\u001b[0m         \u001b[39mreturn\u001b[39;00m func(ax, \u001b[39m*\u001b[39m\u001b[39mmap\u001b[39m(sanitize_sequence, args), \u001b[39m*\u001b[39m\u001b[39m*\u001b[39mkwargs)\n\u001b[0;32m   1414\u001b[0m     bound \u001b[39m=\u001b[39m new_sig\u001b[39m.\u001b[39mbind(ax, \u001b[39m*\u001b[39margs, \u001b[39m*\u001b[39m\u001b[39m*\u001b[39mkwargs)\n\u001b[0;32m   1415\u001b[0m     auto_label \u001b[39m=\u001b[39m (bound\u001b[39m.\u001b[39marguments\u001b[39m.\u001b[39mget(label_namer)\n\u001b[0;32m   1416\u001b[0m                   \u001b[39mor\u001b[39;00m bound\u001b[39m.\u001b[39mkwargs\u001b[39m.\u001b[39mget(label_namer))\n",
      "File \u001b[1;32mc:\\Users\\kkuju\\AppData\\Local\\Programs\\Python\\Python310\\lib\\site-packages\\matplotlib\\axes\\_axes.py:3089\u001b[0m, in \u001b[0;36mAxes.pie\u001b[1;34m(self, x, explode, labels, colors, autopct, pctdistance, shadow, labeldistance, startangle, radius, counterclock, wedgeprops, textprops, center, frame, rotatelabels, normalize)\u001b[0m\n\u001b[0;32m   3087\u001b[0m theta2 \u001b[39m=\u001b[39m (theta1 \u001b[39m+\u001b[39m frac) \u001b[39mif\u001b[39;00m counterclock \u001b[39melse\u001b[39;00m (theta1 \u001b[39m-\u001b[39m frac)\n\u001b[0;32m   3088\u001b[0m thetam \u001b[39m=\u001b[39m \u001b[39m2\u001b[39m \u001b[39m*\u001b[39m np\u001b[39m.\u001b[39mpi \u001b[39m*\u001b[39m \u001b[39m0.5\u001b[39m \u001b[39m*\u001b[39m (theta1 \u001b[39m+\u001b[39m theta2)\n\u001b[1;32m-> 3089\u001b[0m x \u001b[39m+\u001b[39m\u001b[39m=\u001b[39m expl \u001b[39m*\u001b[39;49m math\u001b[39m.\u001b[39;49mcos(thetam)\n\u001b[0;32m   3090\u001b[0m y \u001b[39m+\u001b[39m\u001b[39m=\u001b[39m expl \u001b[39m*\u001b[39m math\u001b[39m.\u001b[39msin(thetam)\n\u001b[0;32m   3092\u001b[0m w \u001b[39m=\u001b[39m mpatches\u001b[39m.\u001b[39mWedge((x, y), radius, \u001b[39m360.\u001b[39m \u001b[39m*\u001b[39m \u001b[39mmin\u001b[39m(theta1, theta2),\n\u001b[0;32m   3093\u001b[0m                    \u001b[39m360.\u001b[39m \u001b[39m*\u001b[39m \u001b[39mmax\u001b[39m(theta1, theta2),\n\u001b[0;32m   3094\u001b[0m                    facecolor\u001b[39m=\u001b[39mget_next_color(),\n\u001b[0;32m   3095\u001b[0m                    clip_on\u001b[39m=\u001b[39m\u001b[39mFalse\u001b[39;00m,\n\u001b[0;32m   3096\u001b[0m                    label\u001b[39m=\u001b[39mlabel)\n",
      "\u001b[1;31mTypeError\u001b[0m: can't multiply sequence by non-int of type 'float'"
     ]
    },
    {
     "data": {
      "image/png": "[encoded data removed]",
      "text/plain": [
       "<Figure size 432x288 with 1 Axes>"
      ]
     },
     "metadata": {
      "needs_background": "light"
     },
     "output_type": "display_data"
    }
   ],
   "source": [
    "from matplotlib import pyplot as plt\n",
    "\n",
    "plt.pie(list(dict_.values()),list(dict_.keys()))\n",
    "\n"
   ]
  },
  {
   "cell_type": "code",
   "execution_count": null,
   "metadata": {},
   "outputs": [],
   "source": []
  }
 ],
 "metadata": {
  "kernelspec": {
   "display_name": "Python 3.10.5 64-bit",
   "language": "python",
   "name": "python3"
  },
  "language_info": {
   "codemirror_mode": {
    "name": "ipython",
    "version": 3
   },
   "file_extension": ".py",
   "mimetype": "text/x-python",
   "name": "python",
   "nbconvert_exporter": "python",
   "pygments_lexer": "ipython3",
   "version": "3.10.5"
  },
  "orig_nbformat": 4,
  "vscode": {
   "interpreter": {
    "hash": "be04ff51d9b28d0a801579a1b9c0a46c912d4ebd8df3f1a97b27efafcf776c92"
   }
  }
 },
 "nbformat": 4,
 "nbformat_minor": 2
}
