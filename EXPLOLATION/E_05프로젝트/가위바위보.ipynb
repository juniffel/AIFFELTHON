{
 "cells": [
  {
   "cell_type": "markdown",
   "id": "072f1898",
   "metadata": {},
   "source": [
    "## ❤모듈정리"
   ]
  },
  {
   "cell_type": "code",
   "execution_count": 1,
   "id": "65ddaedd",
   "metadata": {},
   "outputs": [
    {
     "name": "stdout",
     "output_type": "stream",
     "text": [
      "PIL 라이브러리 import 완료!\n"
     ]
    }
   ],
   "source": [
    "from PIL import Image\n",
    "import glob\n",
    "import os\n",
    "from matplotlib import pyplot as plt\n",
    "print(\"PIL 라이브러리 import 완료!\")"
   ]
  },
  {
   "cell_type": "markdown",
   "id": "fa4198e1",
   "metadata": {},
   "source": [
    "## 🤎 사진 사이즈 조정"
   ]
  },
  {
   "cell_type": "code",
   "execution_count": 2,
   "id": "43553408",
   "metadata": {},
   "outputs": [
    {
     "name": "stdout",
     "output_type": "stream",
     "text": [
      "1006  images to be resized.\n",
      "1006  images resized.\n",
      "가위 이미지 resize 완료!\n",
      "1006  images to be resized.\n",
      "1006  images resized.\n",
      "바위 이미지 resize 완료!\n",
      "1006  images to be resized.\n",
      "1006  images resized.\n",
      "보 이미지 resize 완료!\n",
      "120  images to be resized.\n",
      "120  images resized.\n",
      "테스트 가위 이미지 resize 완료!\n",
      "120  images to be resized.\n",
      "120  images resized.\n",
      "테스트 바위 이미지 resize 완료!\n",
      "120  images to be resized.\n",
      "120  images resized.\n",
      "테스트 보 이미지 resize 완료!\n"
     ]
    }
   ],
   "source": [
    "def resize_images(img_path):\n",
    "\timages=glob.glob(img_path + \"/*.jpg\")  \n",
    "    \n",
    "\tprint(len(images), \" images to be resized.\")\n",
    "\n",
    "    # 파일마다 모두 28x28 사이즈로 바꾸어 저장합니다.\n",
    "\ttarget_size=(28,28)\n",
    "\tfor img in images:\n",
    "\t\told_img=Image.open(img)\n",
    "\t\tnew_img=old_img.resize(target_size,Image.ANTIALIAS)\n",
    "\t\tnew_img.save(img, \"JPEG\")\n",
    "    \n",
    "\tprint(len(images), \" images resized.\")\n",
    "\t\n",
    "    \n",
    "    \n",
    "# 가위 이미지가 저장된 디렉토리 아래의 모든 jpg 파일을 읽어들여서\n",
    "image_dir_path = os.getenv(\"HOME\") + \"/aiffel/rock_scissor_paper3/scissor\"\n",
    "resize_images(image_dir_path)\n",
    "\n",
    "print(\"가위 이미지 resize 완료!\")\n",
    "\n",
    "# 바위 이미지가 저장된 디렉토리 아래의 모든 jpg 파일을 읽어들여서\n",
    "image_dir_path = os.getenv(\"HOME\") + \"/aiffel/rock_scissor_paper3/rock\"\n",
    "resize_images(image_dir_path)\n",
    "\n",
    "print(\"바위 이미지 resize 완료!\")\n",
    "\n",
    "# 보 이미지가 저장된 디렉토리 아래의 모든 jpg 파일을 읽어들여서\n",
    "image_dir_path = os.getenv(\"HOME\") + \"/aiffel/rock_scissor_paper3/paper\"\n",
    "resize_images(image_dir_path)\n",
    "\n",
    "print(\"보 이미지 resize 완료!\")\n",
    "\n",
    "# 테스트 가위 이미지가 저장된 디렉토리 아래의 모든 jpg 파일을 읽어들여서\n",
    "image_dir_path = os.getenv(\"HOME\") + \"/aiffel/rock_scissor_paper3/test/scissor\"\n",
    "resize_images(image_dir_path)\n",
    "\n",
    "print(\"테스트 가위 이미지 resize 완료!\")\n",
    "\n",
    "# 테스트 바위 이미지가 저장된 디렉토리 아래의 모든 jpg 파일을 읽어들여서\n",
    "image_dir_path = os.getenv(\"HOME\") + \"/aiffel/rock_scissor_paper3/test/rock\"\n",
    "resize_images(image_dir_path)\n",
    "\n",
    "print(\"테스트 바위 이미지 resize 완료!\")\n",
    "\n",
    "# 테스트 보 이미지가 저장된 디렉토리 아래의 모든 jpg 파일을 읽어들여서\n",
    "image_dir_path = os.getenv(\"HOME\") + \"/aiffel/rock_scissor_paper3/test/paper\"\n",
    "resize_images(image_dir_path)\n",
    "\n",
    "print(\"테스트 보 이미지 resize 완료!\")"
   ]
  },
  {
   "cell_type": "markdown",
   "id": "b56a8828",
   "metadata": {},
   "source": [
    "## 💜 학습,테스트 데이터 만들기"
   ]
  },
  {
   "cell_type": "markdown",
   "id": "43a9469c",
   "metadata": {},
   "source": [
    "테스트 데이터로 시도하다가 점수가 잘 나오지 않아 내 데이터셋을 만들어서 학습을 하였는데 <h1>오버피팅</h1>이 발생하였고 이를 <h1>극복!</h1>하기 위해 3명의 데이터 셋을 합치고 다른 한사람의 데이터를 테스트로 사용하였다. 그러나 점수가 잘 나오지 않았고 그후에 <h1>최적화(Optimizer)</h1>를 'adam'에서 'rmsprop'으로 바꿔서 테스트를 하였더니 오버피팅도 없고 정확도도 잘나왔다!"
   ]
  },
  {
   "cell_type": "code",
   "execution_count": 3,
   "id": "5dc3cbe5",
   "metadata": {},
   "outputs": [
    {
     "name": "stdout",
     "output_type": "stream",
     "text": [
      "학습데이터(x_train)의 이미지 개수는 3018 입니다.\n",
      "x_train shape: (3018, 28, 28, 3)\n",
      "y_train shape: (3018,)\n",
      "학습데이터(x_train)의 이미지 개수는 360 입니다.\n",
      "x_test shape: (360, 28, 28, 3)\n",
      "y_test shape: (360,)\n"
     ]
    }
   ],
   "source": [
    "import numpy as np\n",
    "\n",
    "def load_data(img_path, number_of_data=3018):  # 가위바위보 이미지 개수 총합에 주의하세요.\n",
    "    # 가위 : 0, 바위 : 1, 보 : 2\n",
    "    img_size=28\n",
    "    color=3\n",
    "    #이미지 데이터와 라벨(가위 : 0, 바위 : 1, 보 : 2) 데이터를 담을 행렬(matrix) 영역을 생성합니다.\n",
    "    imgs=np.zeros(number_of_data*img_size*img_size*color,dtype=np.int32).reshape(number_of_data,img_size,img_size,color)\n",
    "    labels=np.zeros(number_of_data,dtype=np.int32)\n",
    "\n",
    "    idx=0\n",
    "    for file in glob.iglob(img_path+'/scissor/*.jpg'):\n",
    "        img = np.array(Image.open(file),dtype=np.int32)\n",
    "        imgs[idx,:,:,:]=img    # 데이터 영역에 이미지 행렬을 복사\n",
    "        labels[idx]=0   # 가위 : 0\n",
    "        idx=idx+1\n",
    "\n",
    "    for file in glob.iglob(img_path+'/rock/*.jpg'):\n",
    "        img = np.array(Image.open(file),dtype=np.int32)\n",
    "        imgs[idx,:,:,:]=img    # 데이터 영역에 이미지 행렬을 복사\n",
    "        labels[idx]=1   # 바위 : 1\n",
    "        idx=idx+1  \n",
    "    \n",
    "    for file in glob.iglob(img_path+'/paper/*.jpg'):\n",
    "        img = np.array(Image.open(file),dtype=np.int32)\n",
    "        imgs[idx,:,:,:]=img    # 데이터 영역에 이미지 행렬을 복사\n",
    "        labels[idx]=2   # 보 : 2\n",
    "        idx=idx+1\n",
    "        \n",
    "    print(\"학습데이터(x_train)의 이미지 개수는\", idx,\"입니다.\")\n",
    "    return imgs, labels\n",
    "\n",
    "image_dir_path = os.getenv(\"HOME\") + \"/aiffel/rock_scissor_paper3\"\n",
    "(x_train, y_train)=load_data(image_dir_path)\n",
    "x_train_norm = x_train/255.0   # 입력은 0~1 사이의 값으로 정규화\n",
    "\n",
    "print(\"x_train shape: {}\".format(x_train.shape))\n",
    "print(\"y_train shape: {}\".format(y_train.shape))\n",
    "\n",
    "\n",
    "# 테스트 데이터 만들기\n",
    "image_dir_path = os.getenv(\"HOME\") + \"/aiffel/rock_scissor_paper3/test\"\n",
    "(x_test, y_test)=load_data(image_dir_path, number_of_data=360)\n",
    "x_test_norm = x_test/255.0   # 입력은 0~1 사이의 값으로 정규화\n",
    "\n",
    "print(\"x_test shape: {}\".format(x_test.shape))\n",
    "print(\"y_test shape: {}\".format(y_test.shape))"
   ]
  },
  {
   "cell_type": "markdown",
   "id": "32c169ed",
   "metadata": {},
   "source": [
    "## 💙 이미지 및  데이터 형태 확인"
   ]
  },
  {
   "cell_type": "code",
   "execution_count": 4,
   "id": "7e79b0e5",
   "metadata": {
    "scrolled": true
   },
   "outputs": [
    {
     "name": "stdout",
     "output_type": "stream",
     "text": [
      "라벨:  0\n"
     ]
    },
    {
     "data": {
      "image/png": "[encoded data removed]",
      "text/plain": [
       "<Figure size 432x288 with 1 Axes>"
      ]
     },
     "metadata": {
      "needs_background": "light"
     },
     "output_type": "display_data"
    }
   ],
   "source": [
    "# 학습\n",
    "plt.imshow(x_train[0])\n",
    "print('라벨: ', y_train[0])"
   ]
  },
  {
   "cell_type": "code",
   "execution_count": 5,
   "id": "ed04b792",
   "metadata": {},
   "outputs": [
    {
     "name": "stdout",
     "output_type": "stream",
     "text": [
      "라벨:  0\n"
     ]
    },
    {
     "data": {
      "image/png": "[encoded data removed]",
      "text/plain": [
       "<Figure size 432x288 with 1 Axes>"
      ]
     },
     "metadata": {
      "needs_background": "light"
     },
     "output_type": "display_data"
    }
   ],
   "source": [
    "# 테스트\n",
    "plt.imshow(x_test[0])\n",
    "print('라벨: ', y_test[0])"
   ]
  },
  {
   "cell_type": "code",
   "execution_count": 6,
   "id": "4806cb8c",
   "metadata": {
    "scrolled": false
   },
   "outputs": [
    {
     "name": "stdout",
     "output_type": "stream",
     "text": [
      "(3018, 28, 28, 3) (360, 28, 28, 3)\n"
     ]
    }
   ],
   "source": [
    "print(x_train.shape,x_test.shape)"
   ]
  },
  {
   "cell_type": "markdown",
   "id": "16c11bc2",
   "metadata": {},
   "source": [
    "## 💚 모델 학습 "
   ]
  },
  {
   "cell_type": "code",
   "execution_count": 7,
   "id": "6d916efc",
   "metadata": {},
   "outputs": [
    {
     "name": "stdout",
     "output_type": "stream",
     "text": [
      "Model에 추가된 Layer 개수:  7\n",
      "Model: \"sequential\"\n",
      "_________________________________________________________________\n",
      "Layer (type)                 Output Shape              Param #   \n",
      "=================================================================\n",
      "conv2d (Conv2D)              (None, 26, 26, 16)        448       \n",
      "_________________________________________________________________\n",
      "max_pooling2d (MaxPooling2D) (None, 13, 13, 16)        0         \n",
      "_________________________________________________________________\n",
      "conv2d_1 (Conv2D)            (None, 11, 11, 32)        4640      \n",
      "_________________________________________________________________\n",
      "max_pooling2d_1 (MaxPooling2 (None, 5, 5, 32)          0         \n",
      "_________________________________________________________________\n",
      "flatten (Flatten)            (None, 800)               0         \n",
      "_________________________________________________________________\n",
      "dense (Dense)                (None, 32)                25632     \n",
      "_________________________________________________________________\n",
      "dense_1 (Dense)              (None, 10)                330       \n",
      "=================================================================\n",
      "Total params: 31,050\n",
      "Trainable params: 31,050\n",
      "Non-trainable params: 0\n",
      "_________________________________________________________________\n",
      "Epoch 1/10\n",
      "95/95 [==============================] - 3s 4ms/step - loss: 5.0856 - accuracy: 0.5371\n",
      "Epoch 2/10\n",
      "95/95 [==============================] - 0s 3ms/step - loss: 0.7602 - accuracy: 0.7498\n",
      "Epoch 3/10\n",
      "95/95 [==============================] - 0s 3ms/step - loss: 0.2657 - accuracy: 0.8986\n",
      "Epoch 4/10\n",
      "95/95 [==============================] - 0s 3ms/step - loss: 0.1047 - accuracy: 0.9636\n",
      "Epoch 5/10\n",
      "95/95 [==============================] - 0s 3ms/step - loss: 0.0881 - accuracy: 0.9798\n",
      "Epoch 6/10\n",
      "95/95 [==============================] - 0s 3ms/step - loss: 0.0475 - accuracy: 0.9891\n",
      "Epoch 7/10\n",
      "95/95 [==============================] - 0s 3ms/step - loss: 0.0341 - accuracy: 0.9944\n",
      "Epoch 8/10\n",
      "95/95 [==============================] - 0s 3ms/step - loss: 0.0569 - accuracy: 0.9864\n",
      "Epoch 9/10\n",
      "95/95 [==============================] - 0s 4ms/step - loss: 0.0254 - accuracy: 0.9944\n",
      "Epoch 10/10\n",
      "95/95 [==============================] - 0s 3ms/step - loss: 0.0255 - accuracy: 0.9947\n"
     ]
    },
    {
     "data": {
      "text/plain": [
       "<keras.callbacks.History at 0x7f3ad83fd850>"
      ]
     },
     "execution_count": 7,
     "metadata": {},
     "output_type": "execute_result"
    }
   ],
   "source": [
    "import tensorflow as tf\n",
    "from tensorflow import keras\n",
    "import numpy as np\n",
    "\n",
    "# model을 직접 만들어 보세요.\n",
    "# Hint! model의 입력/출력부에 특히 유의해 주세요. 가위바위보 데이터셋은 MNIST 데이터셋과 어떤 점이 달라졌나요?\n",
    "\n",
    "# 바꿔 볼 수 있는 하이퍼파라미터들\n",
    "n_channel_1=16\n",
    "n_channel_2=32\n",
    "n_dense=32\n",
    "n_train_epoch=10\n",
    "\n",
    "model=keras.models.Sequential()\n",
    "model.add(keras.layers.Conv2D(n_channel_1, (3,3), activation='relu', input_shape=(28,28,3)))\n",
    "model.add(keras.layers.MaxPool2D(2,2))\n",
    "model.add(keras.layers.Conv2D(n_channel_2, (3,3), activation='relu'))\n",
    "model.add(keras.layers.MaxPooling2D((2,2)))\n",
    "model.add(keras.layers.Flatten())\n",
    "model.add(keras.layers.Dense(n_dense, activation='relu'))\n",
    "model.add(keras.layers.Dense(10, activation='softmax'))\n",
    "\n",
    "print('Model에 추가된 Layer 개수: ', len(model.layers))\n",
    "\n",
    "model.summary()\n",
    "\n",
    "model.compile(optimizer='rmsprop',\n",
    "             loss='sparse_categorical_crossentropy',\n",
    "             metrics=['accuracy'])\n",
    "\n",
    "# 모델 훈련\n",
    "model.fit(x_train, y_train, epochs=n_train_epoch)"
   ]
  },
  {
   "cell_type": "markdown",
   "id": "f5a8c832",
   "metadata": {},
   "source": [
    "## 🧡 검증"
   ]
  },
  {
   "cell_type": "code",
   "execution_count": 8,
   "id": "910b57f7",
   "metadata": {},
   "outputs": [
    {
     "name": "stdout",
     "output_type": "stream",
     "text": [
      "12/12 - 0s - loss: 1.8880 - accuracy: 0.7472\n",
      "test_loss: 1.8879534006118774 \n",
      "test_accuracy: 0.7472222447395325\n"
     ]
    }
   ],
   "source": [
    "# model을 학습시키는 코드를 직접 작성해 보세요.\n",
    "# Hint! model.evaluate()을 사용해 봅시다.\n",
    "# 테스트\n",
    "test_loss, test_accuracy = model.evaluate(x_test,y_test, verbose=2)\n",
    "print(\"test_loss: {} \".format(test_loss))\n",
    "print(\"test_accuracy: {}\".format(test_accuracy))"
   ]
  },
  {
   "cell_type": "markdown",
   "id": "bc6effb7",
   "metadata": {},
   "source": [
    "## 🤎 회고 \n",
    "\n",
    "    - 기본제공하는 데이터는 성능이 좋지 않아 내 손을 촬영해서 데이터를 만들고 다시 학습을 하였지만 이것은 오버피팅이 발생하였다. 그래서 4명의 데이터를 3명은 학습, 1명은 테스트로 사용하여 학습을 하였더니 여전히 성능이 구렸다. 여기서 이제 정규화를 adam에서 rmsprop로 바꿔보았고 이제서야 성능이 60%를 넘었다.\n",
    "    \n",
    "    - 데이터를 합치는 과정에서도 문제가 있었는데 처음에 파이썬을 이용해서 이름을 바꾸는 방식으로 데이터를 합쳤는데 다른 방식은 어떤방식이 있는지 알고싶어서 리눅스 명령어를 찾아보았고 rename을 이용하라고 해서 했지만 잘되지 않았다. 그래서 퍼실님이 윈도우에서 이름을 변경하는 방법을 알려주셨다.\n"
   ]
  },
  {
   "cell_type": "code",
   "execution_count": null,
   "id": "9c587682",
   "metadata": {},
   "outputs": [],
   "source": []
  }
 ],
 "metadata": {
  "kernelspec": {
   "display_name": "Python 3.10.5 64-bit",
   "language": "python",
   "name": "python3"
  },
  "language_info": {
   "codemirror_mode": {
    "name": "ipython",
    "version": 3
   },
   "file_extension": ".py",
   "mimetype": "text/x-python",
   "name": "python",
   "nbconvert_exporter": "python",
   "pygments_lexer": "ipython3",
   "version": "3.10.5"
  },
  "vscode": {
   "interpreter": {
    "hash": "be04ff51d9b28d0a801579a1b9c0a46c912d4ebd8df3f1a97b27efafcf776c92"
   }
  }
 },
 "nbformat": 4,
 "nbformat_minor": 5
}
